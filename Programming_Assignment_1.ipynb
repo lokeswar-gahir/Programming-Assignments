{
 "cells": [
  {
   "cell_type": "markdown",
   "id": "89c15e76",
   "metadata": {},
   "source": [
    "### 1. Write a Python program to print &quot;Hello Python&quot;?"
   ]
  },
  {
   "cell_type": "code",
   "execution_count": 1,
   "id": "00886f9b",
   "metadata": {},
   "outputs": [
    {
     "name": "stdout",
     "output_type": "stream",
     "text": [
      "Hello Python\n"
     ]
    }
   ],
   "source": [
    "print(\"Hello Python\")"
   ]
  },
  {
   "cell_type": "markdown",
   "id": "4e600a88",
   "metadata": {},
   "source": [
    "### 2. Write a Python program to do arithmetical operations addition and division.?"
   ]
  },
  {
   "cell_type": "code",
   "execution_count": 2,
   "id": "369d890f",
   "metadata": {},
   "outputs": [
    {
     "name": "stdout",
     "output_type": "stream",
     "text": [
      "Enter a number : 20\n",
      "Enter another number : 10\n",
      "\n",
      "Addition result : 30\n",
      "Division result : 2.0\n"
     ]
    }
   ],
   "source": [
    "a = int(input(\"Enter a number : \"))\n",
    "b = int(input(\"Enter another number : \"))\n",
    "\n",
    "print(f'\\nAddition result : {a+b}')\n",
    "print(f'Division result : {a/b}')"
   ]
  },
  {
   "cell_type": "markdown",
   "id": "330afb69",
   "metadata": {},
   "source": [
    "### 3. Write a Python program to find the area of a triangle?"
   ]
  },
  {
   "cell_type": "code",
   "execution_count": 3,
   "id": "85a329bb",
   "metadata": {},
   "outputs": [
    {
     "name": "stdout",
     "output_type": "stream",
     "text": [
      "Enter the length of first side : 30\n",
      "Enter the length of second side : 40\n",
      "Enter the length of third side : 50\n",
      "\n",
      "Area of the triangle is : 600.0.\n"
     ]
    }
   ],
   "source": [
    "x = int(input(\"Enter the length of first side : \"))\n",
    "y = int(input(\"Enter the length of second side : \"))\n",
    "z = int(input(\"Enter the length of third side : \"))\n",
    "\n",
    "peri = x+y+z\n",
    "half_peri = peri/2\n",
    "area = (half_peri *(half_peri -x)*(half_peri - y)*(half_peri - z)) ** 0.5\n",
    "\n",
    "print(f\"\\nArea of the triangle is : {round(area,2)}.\")"
   ]
  },
  {
   "cell_type": "markdown",
   "id": "0a7f238d",
   "metadata": {},
   "source": [
    "### 4. Write a Python program to swap two variables?"
   ]
  },
  {
   "cell_type": "code",
   "execution_count": 4,
   "id": "2ad121a2",
   "metadata": {},
   "outputs": [
    {
     "name": "stdout",
     "output_type": "stream",
     "text": [
      "Enter a number : 23\n",
      "Enter another number : 45\n",
      "\n",
      "The values before swap : 23,45\n",
      "The values after swap : 45,23\n"
     ]
    }
   ],
   "source": [
    "a = int(input(\"Enter a number : \"))\n",
    "b = int(input(\"Enter another number : \"))\n",
    "\n",
    "print(f\"\\nThe values before swap : {a},{b}\")\n",
    "a,b = b,a\n",
    "print(f\"The values after swap : {a},{b}\")"
   ]
  },
  {
   "cell_type": "markdown",
   "id": "21ae9c5f",
   "metadata": {},
   "source": [
    "### 5. Write a Python program to generate a random number?"
   ]
  },
  {
   "cell_type": "code",
   "execution_count": 5,
   "id": "f8a97cec",
   "metadata": {},
   "outputs": [
    {
     "data": {
      "text/plain": [
       "1"
      ]
     },
     "execution_count": 5,
     "metadata": {},
     "output_type": "execute_result"
    }
   ],
   "source": [
    "import random\n",
    "round(random.random()*10)"
   ]
  }
 ],
 "metadata": {
  "kernelspec": {
   "display_name": "Python 3 (ipykernel)",
   "language": "python",
   "name": "python3"
  },
  "language_info": {
   "codemirror_mode": {
    "name": "ipython",
    "version": 3
   },
   "file_extension": ".py",
   "mimetype": "text/x-python",
   "name": "python",
   "nbconvert_exporter": "python",
   "pygments_lexer": "ipython3",
   "version": "3.10.6"
  }
 },
 "nbformat": 4,
 "nbformat_minor": 5
}
