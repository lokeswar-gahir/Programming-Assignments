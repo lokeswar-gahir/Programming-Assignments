{
 "cells": [
  {
   "cell_type": "raw",
   "id": "cb5de509",
   "metadata": {},
   "source": [
    "1. Write a Python Program to find sum of array?\n",
    "2. Write a Python Program to find largest element in an array?\n",
    "3. Write a Python Program for array rotation?\n",
    "4. Write a Python Program to Split the array and add the first part to the end?\n",
    "5. Write a Python Program to check if given array is Monotonic?"
   ]
  },
  {
   "cell_type": "markdown",
   "id": "580e0cb2",
   "metadata": {},
   "source": [
    "### 1. Write a Python Program to find sum of array?"
   ]
  },
  {
   "cell_type": "code",
   "execution_count": 1,
   "id": "f5c3c050",
   "metadata": {},
   "outputs": [],
   "source": [
    "def sum_of_array():\n",
    "    s1 = input(\"Enter some numbers separated by space : \")\n",
    "    l1 = s1.split(\" \")\n",
    "    l1 = list(map(int_converter,l1))\n",
    "    result1 = 0\n",
    "    for item in l1:\n",
    "        if type(item) == int:\n",
    "            result1 += item\n",
    "    print(f\"\\nThe sum of all the given numbers is : {result1}.\")\n",
    "\n",
    "def int_converter(n):\n",
    "    if n.isnumeric():\n",
    "        return int(n)\n",
    "    else:\n",
    "        return n"
   ]
  },
  {
   "cell_type": "code",
   "execution_count": 2,
   "id": "92705d8c",
   "metadata": {},
   "outputs": [
    {
     "name": "stdout",
     "output_type": "stream",
     "text": [
      "Enter some numbers separated by space : 12 34 5 556 63 433 223 \n",
      "\n",
      "The sum of all the given numbers is : 1326.\n"
     ]
    }
   ],
   "source": [
    "sum_of_array()"
   ]
  },
  {
   "cell_type": "markdown",
   "id": "83605659",
   "metadata": {},
   "source": [
    "### 2. Write a Python Program to find largest element in an array?"
   ]
  },
  {
   "cell_type": "code",
   "execution_count": 3,
   "id": "8765a1e2",
   "metadata": {},
   "outputs": [],
   "source": [
    "def largest_in_array():\n",
    "    s2 = input(\"Enter some numbers separated by space : \")\n",
    "    l2 = s2.split(\" \")\n",
    "    l2 = list(map(int_converter,l2))\n",
    "    result2 = l2[0]\n",
    "    for item in l2:\n",
    "        if type(item) == int:\n",
    "            if item > result2:\n",
    "                result2 = item\n",
    "    print(f\"\\nThe largest of all the given numbers is : {result2}.\")"
   ]
  },
  {
   "cell_type": "code",
   "execution_count": 4,
   "id": "2f1565fc",
   "metadata": {},
   "outputs": [
    {
     "name": "stdout",
     "output_type": "stream",
     "text": [
      "Enter some numbers separated by space : 56 87 54 89 76 3 5 6 5 98 7 90\n",
      "\n",
      "The largest of all the given numbers is : 98.\n"
     ]
    }
   ],
   "source": [
    "largest_in_array()"
   ]
  },
  {
   "cell_type": "markdown",
   "id": "59b5218a",
   "metadata": {},
   "source": [
    "### 3. Write a Python Program for array rotation?"
   ]
  },
  {
   "cell_type": "code",
   "execution_count": 5,
   "id": "402cfa38",
   "metadata": {},
   "outputs": [],
   "source": [
    "def array_rotate(array, elements):\n",
    "    if elements < len(arr):\n",
    "        list1 = []\n",
    "        for i in range(elements):\n",
    "            list1.append(array[i])\n",
    "        for i in list1:\n",
    "            for j in range(len(array)):\n",
    "                if j == (len(array) - 1):\n",
    "                    array[j] = i\n",
    "                else:\n",
    "                    array[j] = array[j+1]\n",
    "    else:\n",
    "        print(f\">>> The shifting elements should be less than the length of the array.\")\n",
    "        return\n",
    "    return array"
   ]
  },
  {
   "cell_type": "code",
   "execution_count": 6,
   "id": "398a9fc4",
   "metadata": {},
   "outputs": [],
   "source": [
    "arr = [1,2,3,4,5]"
   ]
  },
  {
   "cell_type": "code",
   "execution_count": 7,
   "id": "5c784a0d",
   "metadata": {},
   "outputs": [
    {
     "data": {
      "text/plain": [
       "[5, 1, 2, 3, 4]"
      ]
     },
     "execution_count": 7,
     "metadata": {},
     "output_type": "execute_result"
    }
   ],
   "source": [
    "array_rotate(arr,4)"
   ]
  },
  {
   "cell_type": "markdown",
   "id": "c8685239",
   "metadata": {},
   "source": [
    "### 4. Write a Python Program to Split the array and add the first part to the end?"
   ]
  },
  {
   "cell_type": "code",
   "execution_count": 8,
   "id": "53ecdc9a",
   "metadata": {},
   "outputs": [],
   "source": [
    "def split_and_add(array,si):\n",
    "    temp1 = array[0:si]\n",
    "    temp2 = array[si+1:]\n",
    "    return temp2 + temp1"
   ]
  },
  {
   "cell_type": "code",
   "execution_count": 9,
   "id": "b94a5120",
   "metadata": {},
   "outputs": [],
   "source": [
    "arr2 = [1,2,3,4,5,6,7,8,9,0,20]"
   ]
  },
  {
   "cell_type": "code",
   "execution_count": 10,
   "id": "7d1d9544",
   "metadata": {},
   "outputs": [
    {
     "data": {
      "text/plain": [
       "[5, 6, 7, 8, 9, 0, 20, 1, 2, 3]"
      ]
     },
     "execution_count": 10,
     "metadata": {},
     "output_type": "execute_result"
    }
   ],
   "source": [
    "split_and_add(arr2,3)"
   ]
  },
  {
   "cell_type": "markdown",
   "id": "24807a26",
   "metadata": {},
   "source": [
    "### 5. Write a Python Program to check if given array is Monotonic?"
   ]
  },
  {
   "cell_type": "code",
   "execution_count": 11,
   "id": "d8f4ecbf",
   "metadata": {},
   "outputs": [],
   "source": [
    "def isit(arr):\n",
    "    incr = decr = True\n",
    "    \n",
    "    for i in range(len(arr)):\n",
    "        if i+1 < len(arr):\n",
    "            if arr[i]>arr[i+1]:\n",
    "                incr=False\n",
    "            if arr[i]<arr[i+1]:\n",
    "                decr = False\n",
    "    return incr or decr"
   ]
  },
  {
   "cell_type": "code",
   "execution_count": 12,
   "id": "c7819c11",
   "metadata": {},
   "outputs": [
    {
     "data": {
      "text/plain": [
       "True"
      ]
     },
     "execution_count": 12,
     "metadata": {},
     "output_type": "execute_result"
    }
   ],
   "source": [
    "# monotone increasing\n",
    "arr3 = [0,6,9,80,100]\n",
    "isit(arr3)"
   ]
  },
  {
   "cell_type": "code",
   "execution_count": 13,
   "id": "48595c92",
   "metadata": {},
   "outputs": [
    {
     "data": {
      "text/plain": [
       "True"
      ]
     },
     "execution_count": 13,
     "metadata": {},
     "output_type": "execute_result"
    }
   ],
   "source": [
    "# monotone decresing\n",
    "arr4 = [300,178,70,45,-23]\n",
    "isit(arr4)"
   ]
  },
  {
   "cell_type": "code",
   "execution_count": 14,
   "id": "89963d68",
   "metadata": {},
   "outputs": [
    {
     "data": {
      "text/plain": [
       "False"
      ]
     },
     "execution_count": 14,
     "metadata": {},
     "output_type": "execute_result"
    }
   ],
   "source": [
    "# non-monotonic\n",
    "arr5 = [1,3,5,7,34,43,4,3,59]\n",
    "isit(arr5)"
   ]
  }
 ],
 "metadata": {
  "kernelspec": {
   "display_name": "Python 3 (ipykernel)",
   "language": "python",
   "name": "python3"
  },
  "language_info": {
   "codemirror_mode": {
    "name": "ipython",
    "version": 3
   },
   "file_extension": ".py",
   "mimetype": "text/x-python",
   "name": "python",
   "nbconvert_exporter": "python",
   "pygments_lexer": "ipython3",
   "version": "3.10.6"
  }
 },
 "nbformat": 4,
 "nbformat_minor": 5
}
