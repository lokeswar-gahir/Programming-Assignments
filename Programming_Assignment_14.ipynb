{
 "cells": [
  {
   "cell_type": "markdown",
   "id": "2e64d7f8",
   "metadata": {},
   "source": [
    "### Question 1:<br>Define a class with a generator which can iterate the numbers, which are divisible by 7, between a given range 0 and n."
   ]
  },
  {
   "cell_type": "code",
   "execution_count": 11,
   "id": "ddde426f",
   "metadata": {},
   "outputs": [],
   "source": [
    "class gen:\n",
    "    def __init__(self,n):\n",
    "        self.n = n\n",
    "    \n",
    "    def next_num(self):\n",
    "        for i in range(self.n+1):\n",
    "            if i%7== 0:\n",
    "                yield i"
   ]
  },
  {
   "cell_type": "code",
   "execution_count": 12,
   "id": "4c15db93",
   "metadata": {},
   "outputs": [],
   "source": [
    "g = gen(100)"
   ]
  },
  {
   "cell_type": "code",
   "execution_count": 13,
   "id": "d1e4af4b",
   "metadata": {},
   "outputs": [
    {
     "name": "stdout",
     "output_type": "stream",
     "text": [
      "0\n",
      "7\n",
      "14\n",
      "21\n",
      "28\n",
      "35\n",
      "42\n",
      "49\n",
      "56\n",
      "63\n",
      "70\n",
      "77\n",
      "84\n",
      "91\n",
      "98\n"
     ]
    }
   ],
   "source": [
    "for num in g.next_num():\n",
    "    print(num)"
   ]
  },
  {
   "cell_type": "markdown",
   "id": "ea6c2863",
   "metadata": {},
   "source": [
    "### Question 2: <br>Write a program to compute the frequency of the words from the input. The output should output after sorting the key alphanumerically.\n",
    "Suppose the following input is supplied to the program:<br>\n",
    "New to Python or choosing between Python 2 and Python 3? Read Python 2 or Python 3.<br>\n",
    "Then, the output should be:<br>\n",
    "2:2<br>\n",
    "3.:1<br>\n",
    "3?:1<br>\n",
    "New:1<br>\n",
    "Python:5<br>\n",
    "Read:1<br>\n",
    "and:1<br>\n",
    "between:1<br>\n",
    "choosing:1<br>\n",
    "or:2<br>\n",
    "to:1<br>"
   ]
  },
  {
   "cell_type": "code",
   "execution_count": 16,
   "id": "c6e3d849",
   "metadata": {},
   "outputs": [],
   "source": [
    "def func2():\n",
    "    st2 = input(\"Enter some words : \")\n",
    "    l2 = st2.split(\" \")\n",
    "    l2 = sorted(list(set(l2)))\n",
    "    for i in l2:\n",
    "        c = st2.count(i)\n",
    "        print(f\"{i} : {c}\")"
   ]
  },
  {
   "cell_type": "code",
   "execution_count": 17,
   "id": "ff176353",
   "metadata": {},
   "outputs": [
    {
     "name": "stdout",
     "output_type": "stream",
     "text": [
      "Enter some words : New to Python or choosing between Python 2 and Python 3? Read Python 2 or Python 3.\n",
      "2 : 2\n",
      "3. : 1\n",
      "3? : 1\n",
      "New : 1\n",
      "Python : 5\n",
      "Read : 1\n",
      "and : 1\n",
      "between : 1\n",
      "choosing : 1\n",
      "or : 2\n",
      "to : 1\n"
     ]
    }
   ],
   "source": [
    "func2()"
   ]
  },
  {
   "cell_type": "markdown",
   "id": "8c853fba",
   "metadata": {},
   "source": [
    "### Question 3:<br>Define a class Person and its two child classes: Male and Female. All classes have a method &quot;getGender&quot; which can print &quot;Male&quot; for Male class and &quot;Female&quot; for Female class."
   ]
  },
  {
   "cell_type": "code",
   "execution_count": 18,
   "id": "beb749eb",
   "metadata": {},
   "outputs": [],
   "source": [
    "class Person:\n",
    "    def getGender(self):\n",
    "        pass\n",
    "\n",
    "class Male(Person):\n",
    "    def getGender(self):\n",
    "        print(\"Male\")\n",
    "\n",
    "class Female(Person):\n",
    "    def getGender(self):\n",
    "        print(\"Female\")"
   ]
  },
  {
   "cell_type": "code",
   "execution_count": 19,
   "id": "643061ac",
   "metadata": {},
   "outputs": [],
   "source": [
    "m = Male()"
   ]
  },
  {
   "cell_type": "code",
   "execution_count": 20,
   "id": "cd2c588b",
   "metadata": {},
   "outputs": [
    {
     "name": "stdout",
     "output_type": "stream",
     "text": [
      "Male\n"
     ]
    }
   ],
   "source": [
    "m.getGender()"
   ]
  },
  {
   "cell_type": "code",
   "execution_count": 21,
   "id": "e42f0b80",
   "metadata": {},
   "outputs": [],
   "source": [
    "f = Female()"
   ]
  },
  {
   "cell_type": "code",
   "execution_count": 22,
   "id": "5924cbbd",
   "metadata": {},
   "outputs": [
    {
     "name": "stdout",
     "output_type": "stream",
     "text": [
      "Female\n"
     ]
    }
   ],
   "source": [
    "f.getGender()"
   ]
  },
  {
   "cell_type": "markdown",
   "id": "994b5363",
   "metadata": {},
   "source": [
    "### Question 4:<br>Please write a program to generate all sentences where subject is in [&quot;I&quot;, &quot;You&quot;] and verb is in [&quot;Play&quot;, &quot;Love&quot;] and the object is in [&quot;Hockey&quot;,&quot;Football&quot;]."
   ]
  },
  {
   "cell_type": "code",
   "execution_count": 23,
   "id": "7ad1cacb",
   "metadata": {},
   "outputs": [],
   "source": [
    "def func4():\n",
    "    for a in [\"I\",\"You\"]:\n",
    "        for b in [\"Play\", \"Love\"]:\n",
    "            for c in [\"Hockey\", \"Football\"]:\n",
    "                print(f\"{a} {b} {c}.\")"
   ]
  },
  {
   "cell_type": "code",
   "execution_count": 24,
   "id": "9c183868",
   "metadata": {},
   "outputs": [
    {
     "name": "stdout",
     "output_type": "stream",
     "text": [
      "I Play Hockey.\n",
      "I Play Football.\n",
      "I Love Hockey.\n",
      "I Love Football.\n",
      "You Play Hockey.\n",
      "You Play Football.\n",
      "You Love Hockey.\n",
      "You Love Football.\n"
     ]
    }
   ],
   "source": [
    "func4()"
   ]
  },
  {
   "cell_type": "markdown",
   "id": "f8e109b6",
   "metadata": {},
   "source": [
    "### Question 5:<br>Please write a program to compress and decompress the string &quot;hello world!hello world!hello world!hello world!&quot;."
   ]
  },
  {
   "cell_type": "code",
   "execution_count": 32,
   "id": "cecb8093",
   "metadata": {},
   "outputs": [],
   "source": [
    "def func5(string):\n",
    "    import zlib\n",
    "    b = bytes(string,\"utf-8\")\n",
    "    compressed = zlib.compress(b)\n",
    "    print(\"Compressed format : \",compressed)\n",
    "    decompressed = zlib.decompress(compressed)\n",
    "    print(\"Decompressed format : \",decompressed)"
   ]
  },
  {
   "cell_type": "code",
   "execution_count": 33,
   "id": "d323bb5c",
   "metadata": {},
   "outputs": [
    {
     "name": "stdout",
     "output_type": "stream",
     "text": [
      "Compressed format :  b'x\\x9c\\xcbH\\xcd\\xc9\\xc9W(\\xcf/\\xcaIQ\\xcc \\x82\\r\\x00\\xbd[\\x11\\xf5'\n",
      "Decompressed format :  b'hello world!hello world!hello world!hello world!'\n"
     ]
    }
   ],
   "source": [
    "func5(\"hello world!hello world!hello world!hello world!\")"
   ]
  },
  {
   "cell_type": "markdown",
   "id": "a80c504a",
   "metadata": {},
   "source": [
    "### Question 6:<br>Please write a binary search function which searches an item in a sorted list. The function should return the index of element to be searched in the list."
   ]
  },
  {
   "cell_type": "code",
   "execution_count": 34,
   "id": "f8beaec7",
   "metadata": {},
   "outputs": [],
   "source": [
    "def bs(num, arr):\n",
    "    low=0\n",
    "    high = len(arr) - 1\n",
    "    while low<=high:\n",
    "        mid = (low+ high)//2\n",
    "        if arr[mid]<num:\n",
    "            low = mid +1\n",
    "        elif arr[mid]>num:\n",
    "            high = mid-1\n",
    "        else:\n",
    "            return mid\n",
    "    else:\n",
    "        return f\"Element not found.\""
   ]
  },
  {
   "cell_type": "code",
   "execution_count": 35,
   "id": "4907c67d",
   "metadata": {},
   "outputs": [
    {
     "data": {
      "text/plain": [
       "8"
      ]
     },
     "execution_count": 35,
     "metadata": {},
     "output_type": "execute_result"
    }
   ],
   "source": [
    "lis = [10,22,24,32,36,37,49,50,52,60]\n",
    "bs(52,lis)"
   ]
  }
 ],
 "metadata": {
  "kernelspec": {
   "display_name": "Python 3 (ipykernel)",
   "language": "python",
   "name": "python3"
  },
  "language_info": {
   "codemirror_mode": {
    "name": "ipython",
    "version": 3
   },
   "file_extension": ".py",
   "mimetype": "text/x-python",
   "name": "python",
   "nbconvert_exporter": "python",
   "pygments_lexer": "ipython3",
   "version": "3.10.6"
  }
 },
 "nbformat": 4,
 "nbformat_minor": 5
}
