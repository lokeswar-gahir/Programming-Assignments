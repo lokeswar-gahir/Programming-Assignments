{
 "cells": [
  {
   "cell_type": "markdown",
   "id": "b2c771c3",
   "metadata": {},
   "source": [
    "### 1. Write a Python Program to Find the Factorial of a Number?"
   ]
  },
  {
   "cell_type": "code",
   "execution_count": 1,
   "id": "539887f5",
   "metadata": {},
   "outputs": [],
   "source": [
    "def fact(n):\n",
    "    if n == 1:\n",
    "        return 1\n",
    "    else:\n",
    "        return n*fact(n-1)"
   ]
  },
  {
   "cell_type": "code",
   "execution_count": 2,
   "id": "97fc0197",
   "metadata": {},
   "outputs": [
    {
     "name": "stdout",
     "output_type": "stream",
     "text": [
      "Enter a number to find the factorial : 6\n",
      "\n",
      "The factorial of 6 is : 720.\n"
     ]
    }
   ],
   "source": [
    "n = int(input(\"Enter a number to find the factorial : \"))\n",
    "print(f\"\\nThe factorial of {n} is : {fact(n)}.\")"
   ]
  },
  {
   "cell_type": "markdown",
   "id": "da02a77e",
   "metadata": {},
   "source": [
    "### 2. Write a Python Program to Display the multiplication Table?"
   ]
  },
  {
   "cell_type": "code",
   "execution_count": 11,
   "id": "f89236ba",
   "metadata": {
    "scrolled": true
   },
   "outputs": [
    {
     "name": "stdout",
     "output_type": "stream",
     "text": [
      "Enter a number to display its multiplication table : 21\n",
      "\n",
      "\n",
      "---21's Multiplication Table---\n",
      "\n",
      "21 X 1 = 21\n",
      "21 X 2 = 42\n",
      "21 X 3 = 63\n",
      "21 X 4 = 84\n",
      "21 X 5 = 105\n",
      "21 X 6 = 126\n",
      "21 X 7 = 147\n",
      "21 X 8 = 168\n",
      "21 X 9 = 189\n",
      "21 X 10 = 210\n"
     ]
    }
   ],
   "source": [
    "a = int(input(\"Enter a number to display its multiplication table : \"))\n",
    "print()\n",
    "print(f\"\\n---{a}'s Multiplication Table---\\n\")\n",
    "for i in range(1,11):\n",
    "    print(f'{a} X {i} = {a*i}')"
   ]
  },
  {
   "cell_type": "markdown",
   "id": "acb5e831",
   "metadata": {},
   "source": [
    "### 3. Write a Python Program to Print the Fibonacci sequence?"
   ]
  },
  {
   "cell_type": "code",
   "execution_count": 12,
   "id": "60228059",
   "metadata": {},
   "outputs": [
    {
     "name": "stdout",
     "output_type": "stream",
     "text": [
      "Enter the maximum step to calculate : 18\n",
      "\n",
      "Here is the fibonacci sequence of 18 steps :\n",
      ">>> 0 1 1 2 3 5 8 13 21 34 55 89 144 233 377 610 987 1597 "
     ]
    }
   ],
   "source": [
    "try:\n",
    "    fib=[0,1]\n",
    "    if len(fib) >=2:\n",
    "        steps = int(input(\"Enter the maximum step to calculate : \"))\n",
    "        print(f\"\\nHere is the fibonacci sequence of {steps} steps :\\n>>> \",end=\"\")  \n",
    "\n",
    "        for i in range(len(fib)):\n",
    "            print(f'{fib[i]}',end=\" \")\n",
    "        for i in range(steps - len(fib)):\n",
    "            print(f\"{fib[-1] + fib[-2]}\",end=\" \")\n",
    "            fib.append(fib[-1] + fib[-2])\n",
    "    else:\n",
    "        print(\"Initial values should be atleast 2.\")\n",
    "        \n",
    "    #print(fib)\n",
    "except Exception as e:\n",
    "    print(f\"\\n{e}.\")"
   ]
  },
  {
   "cell_type": "markdown",
   "id": "31d11a35",
   "metadata": {},
   "source": [
    "### 4. Write a Python Program to Check Armstrong Number?"
   ]
  },
  {
   "cell_type": "code",
   "execution_count": 5,
   "id": "ea270947",
   "metadata": {},
   "outputs": [
    {
     "name": "stdout",
     "output_type": "stream",
     "text": [
      "Enter a number : 407\n",
      "\n",
      "407 is an Armstrong number.\n"
     ]
    }
   ],
   "source": [
    "try:\n",
    "    num = int(input(\"Enter a number : \"))\n",
    "    d = len(str(num))\n",
    "    out = 0\n",
    "    for n in (str(num)):\n",
    "        out += int(n)**d\n",
    "    if out == num:\n",
    "        print(f\"\\n{num} is an Armstrong number.\")\n",
    "    else:\n",
    "        print(f\"\\n{num} is not an Armstrong number.\")\n",
    "\n",
    "except Exception as e:\n",
    "    print(f\"\\n{e}.\")"
   ]
  },
  {
   "cell_type": "markdown",
   "id": "d0013037",
   "metadata": {},
   "source": [
    "### 5. Write a Python Program to Find Armstrong Number in an Interval?"
   ]
  },
  {
   "cell_type": "code",
   "execution_count": 6,
   "id": "9da0f464",
   "metadata": {},
   "outputs": [],
   "source": [
    "def arm(num):\n",
    "    d = len(str(num))\n",
    "    out = 0\n",
    "    for n in (str(num)):\n",
    "        out += int(n)**d\n",
    "    if out == num:\n",
    "        return True\n",
    "    else:\n",
    "        return False"
   ]
  },
  {
   "cell_type": "code",
   "execution_count": 7,
   "id": "36aac942",
   "metadata": {},
   "outputs": [
    {
     "name": "stdout",
     "output_type": "stream",
     "text": [
      "Enter a starting interval : 0\n",
      "Enter an ending interval : 10000\n"
     ]
    }
   ],
   "source": [
    "try:\n",
    "    start = int(input(\"Enter a starting interval : \"))\n",
    "    end = int(input(\"Enter an ending interval : \"))\n",
    "    arm_list = []\n",
    "    for i in range(start, end+1):\n",
    "        if arm(i):\n",
    "            arm_list.append(i)\n",
    "    arm_list\n",
    "    \n",
    "except Exception as e:\n",
    "    print(f\"\\n{e}.\")"
   ]
  },
  {
   "cell_type": "markdown",
   "id": "e2638a75",
   "metadata": {},
   "source": [
    "### 6. Write a Python Program to Find the Sum of Natural Numbers?"
   ]
  },
  {
   "cell_type": "code",
   "execution_count": 8,
   "id": "f74a9d40",
   "metadata": {},
   "outputs": [
    {
     "name": "stdout",
     "output_type": "stream",
     "text": [
      "Add numbers up to : 200\n",
      "\n",
      "The sum of 200 natural numbers is : 20100\n"
     ]
    }
   ],
   "source": [
    "try:\n",
    "    n=int(input(\"Add numbers up to : \"))\n",
    "    sum=(n*(n+1))/2\n",
    "    print(f\"\\nThe sum of {n} natural numbers is : {int(sum)}\")\n",
    "except Exception as e:\n",
    "    print(f\"\\n{e}.\")"
   ]
  }
 ],
 "metadata": {
  "kernelspec": {
   "display_name": "Python 3 (ipykernel)",
   "language": "python",
   "name": "python3"
  },
  "language_info": {
   "codemirror_mode": {
    "name": "ipython",
    "version": 3
   },
   "file_extension": ".py",
   "mimetype": "text/x-python",
   "name": "python",
   "nbconvert_exporter": "python",
   "pygments_lexer": "ipython3",
   "version": "3.10.6"
  }
 },
 "nbformat": 4,
 "nbformat_minor": 5
}
