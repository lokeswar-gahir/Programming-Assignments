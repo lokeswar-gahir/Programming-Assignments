{
 "cells": [
  {
   "cell_type": "raw",
   "id": "5370d13a",
   "metadata": {},
   "source": [
    "1. Write a Python program to check if the given number is a Disarium Number?\n",
    "2. Write a Python program to print all disarium numbers between 1 to 100?\n",
    "3. Write a Python program to check if the given number is Happy Number?\n",
    "4. Write a Python program to print all happy numbers between 1 and 100?\n",
    "5. Write a Python program to determine whether the given number is a Harshad Number?\n",
    "6. Write a Python program to print all pronic numbers between 1 and 100?"
   ]
  },
  {
   "cell_type": "markdown",
   "id": "8dc03501",
   "metadata": {},
   "source": [
    "### 1. Write a Python program to check if the given number is a Disarium Number?"
   ]
  },
  {
   "cell_type": "code",
   "execution_count": 1,
   "id": "8438bda9",
   "metadata": {},
   "outputs": [],
   "source": [
    "def isdisarium(num):\n",
    "    num = str(num)\n",
    "    result = 0\n",
    "    for i,n in enumerate(num):\n",
    "        result += (int(n)**(i+1))\n",
    "    if result == int(num):\n",
    "        return True\n",
    "    else:\n",
    "        return False"
   ]
  },
  {
   "cell_type": "code",
   "execution_count": 2,
   "id": "a739c521",
   "metadata": {},
   "outputs": [
    {
     "name": "stdout",
     "output_type": "stream",
     "text": [
      "Enter a number : 135\n",
      "True\n"
     ]
    }
   ],
   "source": [
    "try:\n",
    "    n = int(input(\"Enter a number : \"))\n",
    "    print(isdisarium(n))\n",
    "except Exception as e:\n",
    "    print(f\"\\nERROR : {e}.\")"
   ]
  },
  {
   "cell_type": "markdown",
   "id": "7428af0b",
   "metadata": {},
   "source": [
    "### 2. Write a Python program to print all disarium numbers between 1 to 100?"
   ]
  },
  {
   "cell_type": "code",
   "execution_count": 3,
   "id": "e0da3d6e",
   "metadata": {},
   "outputs": [],
   "source": [
    "l1 = []\n",
    "for i in range(1,101):\n",
    "    if isdisarium(i):\n",
    "        l1.append(i)"
   ]
  },
  {
   "cell_type": "code",
   "execution_count": 4,
   "id": "222ce80c",
   "metadata": {},
   "outputs": [
    {
     "name": "stdout",
     "output_type": "stream",
     "text": [
      "[1, 2, 3, 4, 5, 6, 7, 8, 9, 89]\n"
     ]
    }
   ],
   "source": [
    "print(l1)"
   ]
  },
  {
   "cell_type": "markdown",
   "id": "9e1bdfda",
   "metadata": {},
   "source": [
    "### 3. Write a Python program to check if the given number is Happy Number?"
   ]
  },
  {
   "cell_type": "code",
   "execution_count": 5,
   "id": "faffee03",
   "metadata": {},
   "outputs": [],
   "source": [
    "def ishappy(num):\n",
    "    num = str(num)\n",
    "    output = 0\n",
    "    for n in num:\n",
    "        output += (int(n)**2)\n",
    "    if output == 4:\n",
    "        return False\n",
    "    elif output == 1:\n",
    "        return True\n",
    "    else:\n",
    "        return ishappy(output)"
   ]
  },
  {
   "cell_type": "code",
   "execution_count": 6,
   "id": "4773f3a4",
   "metadata": {},
   "outputs": [
    {
     "data": {
      "text/plain": [
       "True"
      ]
     },
     "execution_count": 6,
     "metadata": {},
     "output_type": "execute_result"
    }
   ],
   "source": [
    "# tesing a happy number\n",
    "ishappy(13)"
   ]
  },
  {
   "cell_type": "code",
   "execution_count": 7,
   "id": "0671cfc6",
   "metadata": {},
   "outputs": [
    {
     "data": {
      "text/plain": [
       "False"
      ]
     },
     "execution_count": 7,
     "metadata": {},
     "output_type": "execute_result"
    }
   ],
   "source": [
    "# testing a not happy number\n",
    "ishappy(112)"
   ]
  },
  {
   "cell_type": "markdown",
   "id": "06fd5ec3",
   "metadata": {},
   "source": [
    "### 4. Write a Python program to print all happy numbers between 1 and 100?"
   ]
  },
  {
   "cell_type": "code",
   "execution_count": 8,
   "id": "a1c36515",
   "metadata": {},
   "outputs": [
    {
     "name": "stdout",
     "output_type": "stream",
     "text": [
      "[1, 7, 10, 13, 19, 23, 28, 31, 32, 44, 49, 68, 70, 79, 82, 86, 91, 94, 97, 100]\n"
     ]
    }
   ],
   "source": [
    "l2 = []\n",
    "for i in range(1,101):\n",
    "    if ishappy(i):\n",
    "        l2.append(i)\n",
    "print(l2)"
   ]
  },
  {
   "cell_type": "markdown",
   "id": "384f3da4",
   "metadata": {},
   "source": [
    "### 5. Write a Python program to determine whether the given number is a Harshad Number?"
   ]
  },
  {
   "cell_type": "code",
   "execution_count": 9,
   "id": "967f5eb6",
   "metadata": {},
   "outputs": [],
   "source": [
    "def isharshad(num):\n",
    "    num = str(num)\n",
    "    sum = 0\n",
    "    for n in num:\n",
    "        sum += int(n)\n",
    "    if int(num)%sum == 0:\n",
    "        return True\n",
    "    else:\n",
    "        return False"
   ]
  },
  {
   "cell_type": "code",
   "execution_count": 10,
   "id": "15256159",
   "metadata": {},
   "outputs": [
    {
     "data": {
      "text/plain": [
       "True"
      ]
     },
     "execution_count": 10,
     "metadata": {},
     "output_type": "execute_result"
    }
   ],
   "source": [
    "# checking a harshad number\n",
    "isharshad(420)"
   ]
  },
  {
   "cell_type": "code",
   "execution_count": 11,
   "id": "f7fdedbe",
   "metadata": {},
   "outputs": [
    {
     "data": {
      "text/plain": [
       "False"
      ]
     },
     "execution_count": 11,
     "metadata": {},
     "output_type": "execute_result"
    }
   ],
   "source": [
    "# checking a non-harshad number\n",
    "isharshad(99)"
   ]
  }
 ],
 "metadata": {
  "kernelspec": {
   "display_name": "Python 3 (ipykernel)",
   "language": "python",
   "name": "python3"
  },
  "language_info": {
   "codemirror_mode": {
    "name": "ipython",
    "version": 3
   },
   "file_extension": ".py",
   "mimetype": "text/x-python",
   "name": "python",
   "nbconvert_exporter": "python",
   "pygments_lexer": "ipython3",
   "version": "3.10.6"
  }
 },
 "nbformat": 4,
 "nbformat_minor": 5
}
