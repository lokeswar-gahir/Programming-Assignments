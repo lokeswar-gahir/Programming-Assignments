{
 "cells": [
  {
   "cell_type": "markdown",
   "id": "f652edbb",
   "metadata": {},
   "source": [
    "### 1. Write a Python Program to Find LCM?"
   ]
  },
  {
   "cell_type": "code",
   "execution_count": 15,
   "id": "4bc56d0b",
   "metadata": {},
   "outputs": [],
   "source": [
    "def lcms():\n",
    "    n = input(\"Enter two numbers separated by space : \")\n",
    "    n1 = int(n.strip().split(\" \")[0])\n",
    "    n2 = int(n.strip().split(\" \")[1])\n",
    "\n",
    "    m = max(n1,n2)\n",
    "    for _ in range(m*m):\n",
    "        if m%n1 == 0 and m%n2 == 0:\n",
    "            lcm=m\n",
    "            break\n",
    "        m += 1\n",
    "    print(f\"\\nLCM of {n1} and {n2} is : {lcm}\")"
   ]
  },
  {
   "cell_type": "code",
   "execution_count": 21,
   "id": "bd00500c",
   "metadata": {
    "scrolled": true
   },
   "outputs": [
    {
     "name": "stdout",
     "output_type": "stream",
     "text": [
      "Enter two numbers separated by space : 12 13\n",
      "\n",
      "LCM of 12 and 13 is : 156\n"
     ]
    }
   ],
   "source": [
    "try:\n",
    "    lcms()\n",
    "except Exception as e:\n",
    "    print(f\"\\nERROR : {e}\")"
   ]
  },
  {
   "cell_type": "markdown",
   "id": "1d7971c6",
   "metadata": {},
   "source": [
    "### 2. Write a Python Program to Find HCF?"
   ]
  },
  {
   "cell_type": "code",
   "execution_count": 24,
   "id": "b6197c64",
   "metadata": {},
   "outputs": [],
   "source": [
    "def hcfs():\n",
    "    n = input(\"Enter two numbers separated by space : \")\n",
    "    n1 = int(n.strip().split(\" \")[0])\n",
    "    n2 = int(n.strip().split(\" \")[1])\n",
    "    \n",
    "    if n1 == 0 or n2 == 0:\n",
    "        print(\"\\nValues can not be zero.\")\n",
    "        return\n",
    "    \n",
    "    mininum = min(n1,n2)\n",
    "    for i in range(1,mininum+1):\n",
    "        if n1%i == 0 and n2%i == 0:\n",
    "            hcf = i\n",
    "    print(f\"\\nThe HCF of {n1} and {n2} is {hcf}.\")"
   ]
  },
  {
   "cell_type": "code",
   "execution_count": 26,
   "id": "e19ebd92",
   "metadata": {},
   "outputs": [
    {
     "name": "stdout",
     "output_type": "stream",
     "text": [
      "Enter two numbers separated by space : 23 67\n",
      "\n",
      "The HCF of 23 and 67 is 1.\n"
     ]
    }
   ],
   "source": [
    "try:\n",
    "    hcfs()\n",
    "except Exception as e:\n",
    "    print(f\"\\nERROR : {e}\")"
   ]
  },
  {
   "cell_type": "markdown",
   "id": "840dc203",
   "metadata": {
    "scrolled": true
   },
   "source": [
    "### 3. Write a Python Program to Convert Decimal to Binary, Octal and Hexadecimal?"
   ]
  },
  {
   "cell_type": "code",
   "execution_count": 41,
   "id": "6c1ea6d2",
   "metadata": {},
   "outputs": [],
   "source": [
    "def conv():\n",
    "    n = int(input(\"Enter a numbers : \"))\n",
    "    \n",
    "    print(f'''\n",
    "output :\n",
    "    The binary value of {n} is : {bin(n)[2:]}\n",
    "    The octal value of {n} is : {oct(n)[2:]}\n",
    "    The hexadecimal value of {n} is : {hex(n)[2:].upper()}\n",
    "    \n",
    "    ''')"
   ]
  },
  {
   "cell_type": "code",
   "execution_count": 42,
   "id": "7f2fec49",
   "metadata": {},
   "outputs": [
    {
     "name": "stdout",
     "output_type": "stream",
     "text": [
      "Enter a numbers : 1971\n",
      "\n",
      "output :\n",
      "    The binary value of 1971 is : 11110110011\n",
      "    The octal value of 1971 is : 3663\n",
      "    The hexadecimal value of 1971 is : 7B3\n",
      "    \n",
      "    \n"
     ]
    }
   ],
   "source": [
    "try:\n",
    "    conv()\n",
    "except Exception as e:\n",
    "    print(f\"\\nERROR : {e}\")"
   ]
  },
  {
   "cell_type": "markdown",
   "id": "5bc24e1c",
   "metadata": {},
   "source": [
    "### 4. Write a Python Program To Find ASCII value of a character?"
   ]
  },
  {
   "cell_type": "code",
   "execution_count": 47,
   "id": "8dd70de8",
   "metadata": {},
   "outputs": [],
   "source": [
    "def ascii():\n",
    "    n = input(\"Enter a character to find its ascii value : \")\n",
    "    print(f\"\\nASCII value of '{n}' is : {ord(n)}.\")"
   ]
  },
  {
   "cell_type": "code",
   "execution_count": 48,
   "id": "58f4cd07",
   "metadata": {},
   "outputs": [
    {
     "name": "stdout",
     "output_type": "stream",
     "text": [
      "Enter a character to find its ascii value : P\n",
      "\n",
      "ASCII value of 'P' is : 80.\n"
     ]
    }
   ],
   "source": [
    "try:\n",
    "    ascii()\n",
    "except Exception as e:\n",
    "    print(f\"\\nERROR : {e}\")"
   ]
  },
  {
   "cell_type": "markdown",
   "id": "0a55ff7b",
   "metadata": {},
   "source": [
    "### 5. Write a Python Program to Make a Simple Calculator with 4 basic mathematical operations?"
   ]
  },
  {
   "cell_type": "code",
   "execution_count": 119,
   "id": "dffb36bc",
   "metadata": {},
   "outputs": [],
   "source": [
    "def calc():\n",
    "    op = int(input(\"\"\"1. Addition\n",
    "2. Substraction\n",
    "3. Multiplication\n",
    "4. Division\n",
    "\n",
    "Which operation you want to perform : \"\"\"))\n",
    "    if op not in [1,2,3,4]:\n",
    "        print(f\"\\nERROR : Enter values between 1, 2, 3, 4\")\n",
    "    else:\n",
    "        ops = {1: add, 2: sub, 3: mul, 4: div}\n",
    "        l1 = input(\"Enter the numbers separated by single space : \").strip().split(\" \")\n",
    "        l1 = list(map(float, l1))\n",
    "        ops[op](l1)\n",
    "    \n",
    "def add(args):\n",
    "    output = 0\n",
    "    for i in args:\n",
    "        output += i\n",
    "    print(f\"\\n(Addition)The answer is : {round(output,2)}\")\n",
    "\n",
    "def sub(args):\n",
    "    if len(args) != 2:\n",
    "        print(f\"\\nTwo values are required for this operation.\")\n",
    "    else:\n",
    "        output = args[0] - args[1]\n",
    "        print(f\"\\n(Substraction)The answer is : {round(output,2)}\")\n",
    "\n",
    "def mul(args):\n",
    "    output = 1\n",
    "    for i in args:\n",
    "        output *= i\n",
    "    print(f\"\\n(Multiplication)The answer is : {round(output,2)}\")\n",
    "\n",
    "def div(args):\n",
    "    if len(args) != 2:\n",
    "        print(f\"\\nTwo values are required for this operation.\")\n",
    "    else:\n",
    "        output = args[0] / args[1]\n",
    "        print(f\"\\n(Division)The answer is : {round(output,2)}\")"
   ]
  },
  {
   "cell_type": "code",
   "execution_count": 124,
   "id": "a0d4243e",
   "metadata": {},
   "outputs": [
    {
     "name": "stdout",
     "output_type": "stream",
     "text": [
      "1. Addition\n",
      "2. Substraction\n",
      "3. Multiplication\n",
      "4. Division\n",
      "\n",
      "Which operation you want to perform : 4\n",
      "Enter the numbers separated by single space : 100 3\n",
      "\n",
      "(Division)The answer is : 33.33\n"
     ]
    }
   ],
   "source": [
    "try:\n",
    "    calc()\n",
    "except Exception as e:\n",
    "    print(f\"\\nERROR : {e}\")"
   ]
  }
 ],
 "metadata": {
  "kernelspec": {
   "display_name": "Python 3 (ipykernel)",
   "language": "python",
   "name": "python3"
  },
  "language_info": {
   "codemirror_mode": {
    "name": "ipython",
    "version": 3
   },
   "file_extension": ".py",
   "mimetype": "text/x-python",
   "name": "python",
   "nbconvert_exporter": "python",
   "pygments_lexer": "ipython3",
   "version": "3.10.6"
  }
 },
 "nbformat": 4,
 "nbformat_minor": 5
}
