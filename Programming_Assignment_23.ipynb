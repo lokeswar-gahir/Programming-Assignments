{
 "cells": [
  {
   "cell_type": "raw",
   "id": "011aa788",
   "metadata": {},
   "source": [
    "Question 1\n",
    "Create a function that takes a number as an argument and returns True or False depending\n",
    "on whether the number is symmetrical or not. A number is symmetrical when it is the same as\n",
    "its reverse.\n",
    "Examples\n",
    "is_symmetrical(7227) ➞ True\n",
    "is_symmetrical(12567) ➞ False\n",
    "is_symmetrical(44444444) ➞ True\n",
    "is_symmetrical(9939) ➞ False\n",
    "is_symmetrical(1112111) ➞ True\n",
    "\n",
    "Question 2\n",
    "Given a string of numbers separated by a comma and space, return the product of the\n",
    "numbers.\n",
    "Examples\n",
    "multiply_nums(&quot;2, 3&quot;) ➞ 6\n",
    "multiply_nums(&quot;1, 2, 3, 4&quot;) ➞ 24\n",
    "multiply_nums(&quot;54, 75, 453, 0&quot;) ➞ 0\n",
    "multiply_nums(&quot;10, -2&quot;) ➞ -20\n",
    "\n",
    "Question 3\n",
    "Create a function that squares every digit of a number.\n",
    "Examples\n",
    "square_digits(9119) ➞ 811181\n",
    "square_digits(2483) ➞ 416649\n",
    "square_digits(3212) ➞ 9414\n",
    "Notes\n",
    "The function receives an integer and must return an integer.\n",
    "\n",
    "Question 4\n",
    "Create a function that sorts a list and removes all duplicate items from it.\n",
    "Examples\n",
    "setify([1, 3, 3, 5, 5]) ➞ [1, 3, 5]\n",
    "setify([4, 4, 4, 4]) ➞ [4]\n",
    "setify([5, 7, 8, 9, 10, 15]) ➞ [5, 7, 8, 9, 10, 15]\n",
    "setify([3, 3, 3, 2, 1]) ➞ [1, 2, 3]\n",
    "\n",
    "Question 5\n",
    "Create a function that returns the mean of all digits.\n",
    "Examples\n",
    "mean(42) ➞ 3\n",
    "mean(12345) ➞ 3\n",
    "mean(666) ➞ 6\n",
    "Notes\n",
    " The mean of all digits is the sum of digits / how many digits there are (e.g. mean of digits in\n",
    "512 is (5+1+2)/3(number of digits) = 8/3=2).\n",
    " The mean will always be an integer."
   ]
  },
  {
   "cell_type": "markdown",
   "id": "043a7335",
   "metadata": {},
   "source": [
    "### Question 1<br>Create a function that takes a number as an argument and returns True or False depending on whether the number is symmetrical or not. A number is symmetrical when it is the same as its reverse.\n",
    "Examples<br>\n",
    "is_symmetrical(7227) ➞ True<br>\n",
    "is_symmetrical(12567) ➞ False<br>\n",
    "is_symmetrical(44444444) ➞ True<br>\n",
    "is_symmetrical(9939) ➞ False<br>\n",
    "is_symmetrical(1112111) ➞ True<br>"
   ]
  },
  {
   "cell_type": "code",
   "execution_count": 1,
   "id": "415983bc",
   "metadata": {},
   "outputs": [],
   "source": [
    "def is_symmetrical(num):\n",
    "    s1 = str(num)\n",
    "    s1 = s1[::-1]\n",
    "    return num ==int(s1)"
   ]
  },
  {
   "cell_type": "code",
   "execution_count": 2,
   "id": "727e5250",
   "metadata": {},
   "outputs": [
    {
     "data": {
      "text/plain": [
       "True"
      ]
     },
     "execution_count": 2,
     "metadata": {},
     "output_type": "execute_result"
    }
   ],
   "source": [
    "is_symmetrical(44444444)"
   ]
  },
  {
   "cell_type": "code",
   "execution_count": 3,
   "id": "8c5dc437",
   "metadata": {},
   "outputs": [
    {
     "data": {
      "text/plain": [
       "False"
      ]
     },
     "execution_count": 3,
     "metadata": {},
     "output_type": "execute_result"
    }
   ],
   "source": [
    "is_symmetrical(9939)"
   ]
  },
  {
   "cell_type": "code",
   "execution_count": 4,
   "id": "d7836ecd",
   "metadata": {},
   "outputs": [
    {
     "data": {
      "text/plain": [
       "True"
      ]
     },
     "execution_count": 4,
     "metadata": {},
     "output_type": "execute_result"
    }
   ],
   "source": [
    "is_symmetrical(7227)"
   ]
  },
  {
   "cell_type": "code",
   "execution_count": 5,
   "id": "42a1915d",
   "metadata": {},
   "outputs": [
    {
     "data": {
      "text/plain": [
       "False"
      ]
     },
     "execution_count": 5,
     "metadata": {},
     "output_type": "execute_result"
    }
   ],
   "source": [
    "is_symmetrical(12567)"
   ]
  },
  {
   "cell_type": "markdown",
   "id": "184fc52f",
   "metadata": {},
   "source": [
    "### Question 2<br>Given a string of numbers separated by a comma and space, return the product of the numbers.\n",
    "Examples<br>\n",
    "multiply_nums(&quot;2, 3&quot;) ➞ 6<br>\n",
    "multiply_nums(&quot;1, 2, 3, 4&quot;) ➞ 24<br>\n",
    "multiply_nums(&quot;54, 75, 453, 0&quot;) ➞ 0<br>\n",
    "multiply_nums(&quot;10, -2&quot;) ➞ -20<br>"
   ]
  },
  {
   "cell_type": "code",
   "execution_count": 10,
   "id": "0a175e74",
   "metadata": {},
   "outputs": [],
   "source": [
    "def multiply_nums(string):\n",
    "    string = string.replace(\" \", \"\")\n",
    "    lst = string.split(\",\")\n",
    "    result = 1\n",
    "    for i in lst:\n",
    "        result = result *int(i)\n",
    "    return result"
   ]
  },
  {
   "cell_type": "code",
   "execution_count": 11,
   "id": "cc3f8db5",
   "metadata": {},
   "outputs": [
    {
     "data": {
      "text/plain": [
       "-20"
      ]
     },
     "execution_count": 11,
     "metadata": {},
     "output_type": "execute_result"
    }
   ],
   "source": [
    "multiply_nums(\"10, -2\")"
   ]
  },
  {
   "cell_type": "code",
   "execution_count": 12,
   "id": "9465d3ed",
   "metadata": {},
   "outputs": [
    {
     "data": {
      "text/plain": [
       "24"
      ]
     },
     "execution_count": 12,
     "metadata": {},
     "output_type": "execute_result"
    }
   ],
   "source": [
    "multiply_nums(\"1, 2, 3, 4\")"
   ]
  },
  {
   "cell_type": "code",
   "execution_count": 13,
   "id": "49b02a29",
   "metadata": {},
   "outputs": [
    {
     "data": {
      "text/plain": [
       "6"
      ]
     },
     "execution_count": 13,
     "metadata": {},
     "output_type": "execute_result"
    }
   ],
   "source": [
    "multiply_nums(\"2, 3\")"
   ]
  },
  {
   "cell_type": "markdown",
   "id": "eb11dc4a",
   "metadata": {},
   "source": [
    "### Question 3<br>Create a function that squares every digit of a number.\n",
    "Examples<br>\n",
    "square_digits(9119) ➞ 811181<br>\n",
    "square_digits(2483) ➞ 416649<br>\n",
    "square_digits(3212) ➞ 9414<br>\n",
    "Notes<br>\n",
    "The function receives an integer and must return an integer."
   ]
  },
  {
   "cell_type": "code",
   "execution_count": 20,
   "id": "5e9d90e0",
   "metadata": {},
   "outputs": [],
   "source": [
    "def square_digits(num):\n",
    "    result = \"\"\n",
    "    string = str(num)\n",
    "    for i in string:\n",
    "        result = result +str(int(i)**2)\n",
    "    return int(result)"
   ]
  },
  {
   "cell_type": "code",
   "execution_count": 21,
   "id": "a161f10f",
   "metadata": {},
   "outputs": [
    {
     "data": {
      "text/plain": [
       "416649"
      ]
     },
     "execution_count": 21,
     "metadata": {},
     "output_type": "execute_result"
    }
   ],
   "source": [
    "square_digits(2483)"
   ]
  },
  {
   "cell_type": "code",
   "execution_count": 22,
   "id": "bb1f8b0a",
   "metadata": {},
   "outputs": [
    {
     "data": {
      "text/plain": [
       "9414"
      ]
     },
     "execution_count": 22,
     "metadata": {},
     "output_type": "execute_result"
    }
   ],
   "source": [
    "square_digits(3212)"
   ]
  },
  {
   "cell_type": "code",
   "execution_count": 23,
   "id": "2a592db9",
   "metadata": {},
   "outputs": [
    {
     "data": {
      "text/plain": [
       "811181"
      ]
     },
     "execution_count": 23,
     "metadata": {},
     "output_type": "execute_result"
    }
   ],
   "source": [
    "square_digits(9119)"
   ]
  },
  {
   "cell_type": "markdown",
   "id": "c0f08e0d",
   "metadata": {},
   "source": [
    "### Question 4<br>Create a function that sorts a list and removes all duplicate items from it.\n",
    "Examples<br>\n",
    "setify([1, 3, 3, 5, 5]) ➞ [1, 3, 5]<br>\n",
    "setify([4, 4, 4, 4]) ➞ [4]<br>\n",
    "setify([5, 7, 8, 9, 10, 15]) ➞ [5, 7, 8, 9, 10, 15]<br>\n",
    "setify([3, 3, 3, 2, 1]) ➞ [1, 2, 3]"
   ]
  },
  {
   "cell_type": "code",
   "execution_count": 42,
   "id": "f8cbb59c",
   "metadata": {},
   "outputs": [],
   "source": [
    "def setify(lst):\n",
    "    return list(set(lst))"
   ]
  },
  {
   "cell_type": "code",
   "execution_count": 43,
   "id": "9e01a9a4",
   "metadata": {},
   "outputs": [
    {
     "data": {
      "text/plain": [
       "[4]"
      ]
     },
     "execution_count": 43,
     "metadata": {},
     "output_type": "execute_result"
    }
   ],
   "source": [
    "setify([4, 4, 4, 4])"
   ]
  },
  {
   "cell_type": "code",
   "execution_count": 44,
   "id": "ff9dfe4c",
   "metadata": {},
   "outputs": [
    {
     "data": {
      "text/plain": [
       "[5, 7, 8, 9, 10, 15]"
      ]
     },
     "execution_count": 44,
     "metadata": {},
     "output_type": "execute_result"
    }
   ],
   "source": [
    "setify([5, 7, 8, 9, 10, 15])"
   ]
  },
  {
   "cell_type": "code",
   "execution_count": 45,
   "id": "a80bd633",
   "metadata": {},
   "outputs": [
    {
     "data": {
      "text/plain": [
       "[1, 3, 5]"
      ]
     },
     "execution_count": 45,
     "metadata": {},
     "output_type": "execute_result"
    }
   ],
   "source": [
    "setify([1, 3, 3, 5, 5])"
   ]
  },
  {
   "cell_type": "markdown",
   "id": "1fcd8e7a",
   "metadata": {},
   "source": [
    "### Question 5<br>Create a function that returns the mean of all digits.\n",
    "Examples<br>\n",
    "mean(42) ➞ 3<br>\n",
    "mean(12345) ➞ 3<br>\n",
    "mean(666) ➞ 6<br>\n",
    "Notes<br>\n",
    " The mean of all digits is the sum of digits / how many digits there are (e.g. mean of digits in 512 is (5+1+2)/3(number of digits) = 8/3=2).<br>\n",
    " The mean will always be an integer."
   ]
  },
  {
   "cell_type": "code",
   "execution_count": 48,
   "id": "80f1350a",
   "metadata": {},
   "outputs": [],
   "source": [
    "def mean(num):\n",
    "    l1 = list(str(num))\n",
    "    l1 = list(map(int,l1))\n",
    "    sums = sum(l1)\n",
    "    length = len(l1)\n",
    "    return sums//length"
   ]
  },
  {
   "cell_type": "code",
   "execution_count": 49,
   "id": "7bc037c8",
   "metadata": {},
   "outputs": [
    {
     "data": {
      "text/plain": [
       "3"
      ]
     },
     "execution_count": 49,
     "metadata": {},
     "output_type": "execute_result"
    }
   ],
   "source": [
    "mean(12345)"
   ]
  },
  {
   "cell_type": "code",
   "execution_count": 50,
   "id": "6e43a77a",
   "metadata": {},
   "outputs": [
    {
     "data": {
      "text/plain": [
       "3"
      ]
     },
     "execution_count": 50,
     "metadata": {},
     "output_type": "execute_result"
    }
   ],
   "source": [
    "mean(576230)"
   ]
  }
 ],
 "metadata": {
  "kernelspec": {
   "display_name": "Python 3 (ipykernel)",
   "language": "python",
   "name": "python3"
  },
  "language_info": {
   "codemirror_mode": {
    "name": "ipython",
    "version": 3
   },
   "file_extension": ".py",
   "mimetype": "text/x-python",
   "name": "python",
   "nbconvert_exporter": "python",
   "pygments_lexer": "ipython3",
   "version": "3.10.6"
  }
 },
 "nbformat": 4,
 "nbformat_minor": 5
}
