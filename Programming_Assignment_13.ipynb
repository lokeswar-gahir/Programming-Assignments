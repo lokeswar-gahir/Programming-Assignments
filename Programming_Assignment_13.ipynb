{
 "cells": [
  {
   "cell_type": "markdown",
   "id": "dfe6d90b",
   "metadata": {},
   "source": [
    "### Question 1:<br>Write a program that calculates and prints the value according to the given formula:\n",
    "Q = Square root of [(2 \* C \* D)/H]<br>\n",
    "Following are the fixed values of C and H :<br>\n",
    "C is 50. H is 30.<br>\n",
    "D is the variable whose values should be input to your program in a comma-separated sequence.<br>\n",
    "Example :<br>\n",
    "Let us assume the following comma separated input sequence is given to the program :<br>\n",
    "100,150,180<br>\n",
    "The output of the program should be:<br>\n",
    "18,22,24<br>"
   ]
  },
  {
   "cell_type": "code",
   "execution_count": 1,
   "id": "bc839e76",
   "metadata": {},
   "outputs": [],
   "source": [
    "def func1(d):\n",
    "    c,h = 50,30\n",
    "    Q = int(((2*c*d)/h)**0.5)\n",
    "    return Q"
   ]
  },
  {
   "cell_type": "code",
   "execution_count": 2,
   "id": "fe6c9dbd",
   "metadata": {},
   "outputs": [
    {
     "name": "stdout",
     "output_type": "stream",
     "text": [
      "Output value of 100 : 18\n",
      "Output value of 150 : 22\n",
      "Output value of 180 : 24\n"
     ]
    }
   ],
   "source": [
    "print(f\"Output value of 100 : {func1(100)}\")\n",
    "print(f\"Output value of 150 : {func1(150)}\")\n",
    "print(f\"Output value of 180 : {func1(180)}\")"
   ]
  },
  {
   "cell_type": "markdown",
   "id": "c6701193",
   "metadata": {},
   "source": [
    "### Question 2:<br>Write a program which takes 2 digits, X,Y as input and generates a 2-dimensional array. The element value in the i-th row and j-th column of the array should be i*j.\n",
    "Note: i=0,1.., X-1; j=0,1,¡Y-1.<br>\n",
    "Example<br>\n",
    "Suppose the following inputs are given to the program:<br>\n",
    "3,5<br>\n",
    "Then, the output of the program should be:<br>\n",
    "[[0, 0, 0, 0, 0], [0, 1, 2, 3, 4], [0, 2, 4, 6, 8]]"
   ]
  },
  {
   "cell_type": "code",
   "execution_count": 3,
   "id": "eba5a728",
   "metadata": {},
   "outputs": [],
   "source": [
    "def func2(x,y):\n",
    "    arr = []\n",
    "    for i in range(x):\n",
    "        temp = []\n",
    "        for j in range(y):\n",
    "            temp.append(i*j)\n",
    "        arr.append(temp)\n",
    "    return arr"
   ]
  },
  {
   "cell_type": "code",
   "execution_count": 4,
   "id": "8f9e88f4",
   "metadata": {},
   "outputs": [
    {
     "data": {
      "text/plain": [
       "[[0, 0, 0, 0, 0], [0, 1, 2, 3, 4], [0, 2, 4, 6, 8]]"
      ]
     },
     "execution_count": 4,
     "metadata": {},
     "output_type": "execute_result"
    }
   ],
   "source": [
    "func2(3,5)"
   ]
  },
  {
   "cell_type": "code",
   "execution_count": 5,
   "id": "46184d50",
   "metadata": {},
   "outputs": [
    {
     "data": {
      "text/plain": [
       "[[0, 0, 0], [0, 1, 2], [0, 2, 4]]"
      ]
     },
     "execution_count": 5,
     "metadata": {},
     "output_type": "execute_result"
    }
   ],
   "source": [
    "func2(3,3)"
   ]
  },
  {
   "cell_type": "markdown",
   "id": "ee0951ac",
   "metadata": {},
   "source": [
    "### Question 3:<br>Write a program that accepts a comma separated sequence of words as input and prints the words in a comma-separated sequence after sorting them alphabetically.\n",
    "Suppose the following input is supplied to the program:<br>\n",
    "without,hello,bag,world<br>\n",
    "Then, the output should be:<br>\n",
    "bag,hello,without,world"
   ]
  },
  {
   "cell_type": "code",
   "execution_count": 6,
   "id": "ad2b5c4b",
   "metadata": {},
   "outputs": [],
   "source": [
    "def func3():\n",
    "    st3 = input(\"Enter some words separated by commas : \")\n",
    "    l3 = st3.split(\",\")\n",
    "    l3 = list(map(lambda x:x.strip(),l3))\n",
    "    l3 = sorted(l3)\n",
    "    return \",\".join(l3)"
   ]
  },
  {
   "cell_type": "code",
   "execution_count": 7,
   "id": "0cc66c61",
   "metadata": {},
   "outputs": [
    {
     "name": "stdout",
     "output_type": "stream",
     "text": [
      "Enter some words separated by commas : i, am, a, good, boy\n"
     ]
    },
    {
     "data": {
      "text/plain": [
       "'a,am,boy,good,i'"
      ]
     },
     "execution_count": 7,
     "metadata": {},
     "output_type": "execute_result"
    }
   ],
   "source": [
    "func3()"
   ]
  },
  {
   "cell_type": "code",
   "execution_count": 8,
   "id": "b499461b",
   "metadata": {},
   "outputs": [
    {
     "name": "stdout",
     "output_type": "stream",
     "text": [
      "Enter some words separated by commas : without,hello,bag,world\n"
     ]
    },
    {
     "data": {
      "text/plain": [
       "'bag,hello,without,world'"
      ]
     },
     "execution_count": 8,
     "metadata": {},
     "output_type": "execute_result"
    }
   ],
   "source": [
    "func3()"
   ]
  },
  {
   "cell_type": "markdown",
   "id": "0730a1b9",
   "metadata": {},
   "source": [
    "### Question 4: Write a program that accepts a sequence of whitespace separated words as input and prints the words after removing all duplicate words and sorting them alphanumerically.\n",
    "Suppose the following input is supplied to the program:<br>\n",
    "hello world and practice makes perfect and hello world again<br>\n",
    "Then, the output should be:<br>\n",
    "again and hello makes perfect practice world"
   ]
  },
  {
   "cell_type": "code",
   "execution_count": 9,
   "id": "3485490f",
   "metadata": {},
   "outputs": [],
   "source": [
    "def func4():\n",
    "    st4 = input(\"Enter some words separated by commas : \")\n",
    "    l4 = st4.split(\" \")\n",
    "    l4 = list(set(l4))\n",
    "    l4 = sorted(l4)\n",
    "    return \" \".join(l4)"
   ]
  },
  {
   "cell_type": "code",
   "execution_count": 10,
   "id": "a359d1ea",
   "metadata": {},
   "outputs": [
    {
     "name": "stdout",
     "output_type": "stream",
     "text": [
      "Enter some words separated by commas : hello world and practice makes perfect and hello world again\n"
     ]
    },
    {
     "data": {
      "text/plain": [
       "'again and hello makes perfect practice world'"
      ]
     },
     "execution_count": 10,
     "metadata": {},
     "output_type": "execute_result"
    }
   ],
   "source": [
    "func4()"
   ]
  },
  {
   "cell_type": "markdown",
   "id": "2e4e9b6e",
   "metadata": {},
   "source": [
    "### Question 5: Write a program that accepts a sentence and calculate the number of letters and digits.\n",
    "Suppose the following input is supplied to the program:<br>\n",
    "hello world! 123<br>\n",
    "Then, the output should be:<br>\n",
    "LETTERS 10<br>\n",
    "\n",
    "DIGITS 3"
   ]
  },
  {
   "cell_type": "code",
   "execution_count": 11,
   "id": "847b9d87",
   "metadata": {},
   "outputs": [],
   "source": [
    "def func5(string):\n",
    "    letters = []\n",
    "    digits = []\n",
    "    for c in string:\n",
    "        if c.isalpha():\n",
    "            letters.append(c)\n",
    "        if c.isdigit():\n",
    "            digits.append(c)\n",
    "    print(f'''LETTERS {len(letters)}\n",
    "\n",
    "DIGITS {len(digits)}''')"
   ]
  },
  {
   "cell_type": "code",
   "execution_count": 12,
   "id": "057805fe",
   "metadata": {},
   "outputs": [
    {
     "name": "stdout",
     "output_type": "stream",
     "text": [
      "LETTERS 10\n",
      "\n",
      "DIGITS 3\n"
     ]
    }
   ],
   "source": [
    "s5 = \"hello world! 123\"\n",
    "func5(s5)"
   ]
  },
  {
   "cell_type": "code",
   "execution_count": 13,
   "id": "da79bf68",
   "metadata": {},
   "outputs": [
    {
     "name": "stdout",
     "output_type": "stream",
     "text": [
      "LETTERS 7\n",
      "\n",
      "DIGITS 4\n"
     ]
    }
   ],
   "source": [
    "s5 = \"it is 12:30 now.\"\n",
    "func5(s5)"
   ]
  },
  {
   "cell_type": "markdown",
   "id": "df8380f7",
   "metadata": {},
   "source": [
    "### Question 6: A website requires the users to input username and password to register. Write a program to check the validity of password input by users.\n",
    "Following are the criteria for checking the password:\n",
    "1. At least 1 letter between [a-z]\n",
    "2. At least 1 number between [0-9]\n",
    "3. At least 1 letter between [A-Z]\n",
    "4. At least 1 character from [$#@]\n",
    "5. Minimum length of transaction password: 6\n",
    "6. Maximum length of transaction password: 12<br>\n",
    "\n",
    "__Your program should accept a sequence of comma separated passwords and will check them according to the above criteria. Passwords that match the criteria are to be printed, each separated by a comma.__<br>\n",
    "\n",
    "Example :<br>\n",
    "If the following passwords are given as input to the program:<br>\n",
    "ABd1234@1,a F1#,2w3E*,2We3345<br>\n",
    "Then, the output of the program should be:<br>\n",
    "ABd1234@1<br>"
   ]
  },
  {
   "cell_type": "code",
   "execution_count": 14,
   "id": "aefda6dd",
   "metadata": {},
   "outputs": [],
   "source": [
    "def func6(string):\n",
    "    \n",
    "    def func61(string):\n",
    "        import re\n",
    "        if not (len(string)>=6 and len(string)<=12):\n",
    "            return False\n",
    "        elif not re.search(\"[A-Z]\",string):\n",
    "            return False\n",
    "        elif not re.search(\"[a-z]\",string):\n",
    "            return False\n",
    "        elif not re.search(\"[0-9]\",string):\n",
    "            return False\n",
    "        elif not re.search(\"[$#@]\",string):\n",
    "            return False\n",
    "        else:\n",
    "            return True\n",
    "    \n",
    "    list_1 = string.split(\",\")\n",
    "    list_2 = list(filter(func61,list_1))\n",
    "    \n",
    "    return \", \".join(list_2)"
   ]
  },
  {
   "cell_type": "code",
   "execution_count": 15,
   "id": "44e698c1",
   "metadata": {},
   "outputs": [
    {
     "data": {
      "text/plain": [
       "'ABd1234@1'"
      ]
     },
     "execution_count": 15,
     "metadata": {},
     "output_type": "execute_result"
    }
   ],
   "source": [
    "func6(\"ABd1234@1,a F1#,2w3E*,2We3345\")"
   ]
  },
  {
   "cell_type": "code",
   "execution_count": 16,
   "id": "9bfe6783",
   "metadata": {},
   "outputs": [
    {
     "data": {
      "text/plain": [
       "'sikhaR@1001, Abcd@123, kjkL@980, Amar@1990'"
      ]
     },
     "execution_count": 16,
     "metadata": {},
     "output_type": "execute_result"
    }
   ],
   "source": [
    "func6(\"cbw@101,sikhaR@1001,Abcd@123,lk90,kjkL@980,alam23$,Amar@1990\")"
   ]
  }
 ],
 "metadata": {
  "kernelspec": {
   "display_name": "Python 3 (ipykernel)",
   "language": "python",
   "name": "python3"
  },
  "language_info": {
   "codemirror_mode": {
    "name": "ipython",
    "version": 3
   },
   "file_extension": ".py",
   "mimetype": "text/x-python",
   "name": "python",
   "nbconvert_exporter": "python",
   "pygments_lexer": "ipython3",
   "version": "3.10.6"
  }
 },
 "nbformat": 4,
 "nbformat_minor": 5
}
