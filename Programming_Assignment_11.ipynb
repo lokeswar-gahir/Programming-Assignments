{
 "cells": [
  {
   "cell_type": "raw",
   "id": "ea5b1be2",
   "metadata": {},
   "source": [
    "1. Write a Python program to find words which are greater than given length k?\n",
    "2. Write a Python program for removing i-th character from a string?\n",
    "3. Write a Python program to split and join a string?\n",
    "4. Write a Python to check if a given string is binary string or not?\n",
    "5. Write a Python program to find uncommon words from two Strings?\n",
    "6. Write a Python to find all duplicate characters in string?\n",
    "7. Write a Python Program to check if a string contains any special character?"
   ]
  },
  {
   "cell_type": "markdown",
   "id": "30740e8c",
   "metadata": {},
   "source": [
    "### 1. Write a Python program to find words which are greater than given length k?"
   ]
  },
  {
   "cell_type": "code",
   "execution_count": 2,
   "id": "e184f8f2",
   "metadata": {},
   "outputs": [],
   "source": [
    "def func1(k, string):\n",
    "    output=[]\n",
    "    for word in string.split(\" \"):\n",
    "        if len(word) > k:\n",
    "            output.append(word)\n",
    "    return output"
   ]
  },
  {
   "cell_type": "code",
   "execution_count": 3,
   "id": "77cb16f6",
   "metadata": {},
   "outputs": [
    {
     "data": {
      "text/plain": [
       "['reason', 'good', 'python', 'just', 'practice.']"
      ]
     },
     "execution_count": 3,
     "metadata": {},
     "output_type": "execute_result"
    }
   ],
   "source": [
    "st1 = \"the reason I am good at python is just practice.\"\n",
    "func1(3,st1)"
   ]
  },
  {
   "cell_type": "markdown",
   "id": "9febec9d",
   "metadata": {},
   "source": [
    "### 2. Write a Python program for removing i-th character from a string?"
   ]
  },
  {
   "cell_type": "code",
   "execution_count": 7,
   "id": "a904be5f",
   "metadata": {},
   "outputs": [],
   "source": [
    "def func2(i,string):\n",
    "    string = string.replace(string[i],\"\")\n",
    "    return string"
   ]
  },
  {
   "cell_type": "code",
   "execution_count": 8,
   "id": "80d6d61e",
   "metadata": {},
   "outputs": [
    {
     "data": {
      "text/plain": [
       "'GoodMorning'"
      ]
     },
     "execution_count": 8,
     "metadata": {},
     "output_type": "execute_result"
    }
   ],
   "source": [
    "st2 = \"Good Morning\"\n",
    "func2(4,st2)"
   ]
  },
  {
   "cell_type": "markdown",
   "id": "9ea34114",
   "metadata": {},
   "source": [
    "### 3. Write a Python program to split and join a string?"
   ]
  },
  {
   "cell_type": "code",
   "execution_count": 13,
   "id": "9869c912",
   "metadata": {},
   "outputs": [],
   "source": [
    "def func3(string, spliting_character, joining_character):\n",
    "    s_list = string.split(spliting_character)\n",
    "    print(f\"Here is the list of splited string : {s_list}\")\n",
    "    new_string = joining_character.join(s_list)\n",
    "    print(f\"Here is the joined string : {new_string}\")"
   ]
  },
  {
   "cell_type": "code",
   "execution_count": 14,
   "id": "33710669",
   "metadata": {},
   "outputs": [
    {
     "name": "stdout",
     "output_type": "stream",
     "text": [
      "Here is the list of splited string : ['sky', 'is', 'blue']\n",
      "Here is the joined string : sky_is_blue\n"
     ]
    }
   ],
   "source": [
    "st3 = \"sky is blue\"\n",
    "func3(st3,\" \",\"_\")"
   ]
  },
  {
   "cell_type": "markdown",
   "id": "2de5c16e",
   "metadata": {},
   "source": [
    "### 4. Write a Python to check if a given string is binary string or not?"
   ]
  },
  {
   "cell_type": "code",
   "execution_count": 16,
   "id": "2615fb66",
   "metadata": {},
   "outputs": [],
   "source": [
    "def func4(string):\n",
    "    binary = True\n",
    "    for c in string:\n",
    "        if c not in \"01\":\n",
    "            binary = False\n",
    "            break\n",
    "    return binary"
   ]
  },
  {
   "cell_type": "code",
   "execution_count": 18,
   "id": "1b05ccd2",
   "metadata": {},
   "outputs": [
    {
     "data": {
      "text/plain": [
       "True"
      ]
     },
     "execution_count": 18,
     "metadata": {},
     "output_type": "execute_result"
    }
   ],
   "source": [
    "func4(\"101010101001\")"
   ]
  },
  {
   "cell_type": "code",
   "execution_count": 19,
   "id": "bc78a6f1",
   "metadata": {},
   "outputs": [
    {
     "data": {
      "text/plain": [
       "False"
      ]
     },
     "execution_count": 19,
     "metadata": {},
     "output_type": "execute_result"
    }
   ],
   "source": [
    "func4(\"abc\")"
   ]
  },
  {
   "cell_type": "markdown",
   "id": "b3c46c56",
   "metadata": {},
   "source": [
    "### 5. Write a Python program to find uncommon words from two Strings?"
   ]
  },
  {
   "cell_type": "code",
   "execution_count": 30,
   "id": "1d4463ef",
   "metadata": {},
   "outputs": [],
   "source": [
    "def func5(st1,st2):\n",
    "    l1 = st1.split(\" \")\n",
    "    l2 = st2.split(\" \")\n",
    "    output = []\n",
    "    for item in l1:\n",
    "        if item not in l2:\n",
    "            output.append(item)\n",
    "    for item in l2:\n",
    "        if item not in l1:\n",
    "            output.append(item)\n",
    "    return output"
   ]
  },
  {
   "cell_type": "code",
   "execution_count": 31,
   "id": "82f09c75",
   "metadata": {},
   "outputs": [
    {
     "data": {
      "text/plain": [
       "['sky', 'blue', 'grass', 'green']"
      ]
     },
     "execution_count": 31,
     "metadata": {},
     "output_type": "execute_result"
    }
   ],
   "source": [
    "s51 = \"the sky is blue\"\n",
    "s52 = \"the grass is green\"\n",
    "func5(s51,s52)"
   ]
  },
  {
   "cell_type": "markdown",
   "id": "886970d2",
   "metadata": {},
   "source": [
    "### 6. Write a Python to find all duplicate characters in string?"
   ]
  },
  {
   "cell_type": "code",
   "execution_count": 36,
   "id": "2d0c4fc0",
   "metadata": {},
   "outputs": [],
   "source": [
    "def func6(string):\n",
    "    result = []\n",
    "    s = set(string)\n",
    "    for c in s:\n",
    "        if string.count(c) >= 2:\n",
    "            result.append(c)\n",
    "    return result"
   ]
  },
  {
   "cell_type": "code",
   "execution_count": 37,
   "id": "c2a34ff7",
   "metadata": {},
   "outputs": [
    {
     "data": {
      "text/plain": [
       "['s', ' ', 'o', 'f', 'r', 'i', 'd', 'g', 'a', 'n', 'e', 't']"
      ]
     },
     "execution_count": 37,
     "metadata": {},
     "output_type": "execute_result"
    }
   ],
   "source": [
    "st6 = \"as you can see the demand of AI is growing faster.\"\n",
    "func6(st6)"
   ]
  },
  {
   "cell_type": "markdown",
   "id": "b7b719b4",
   "metadata": {},
   "source": [
    "### 7. Write a Python Program to check if a string contains any special character?"
   ]
  },
  {
   "cell_type": "code",
   "execution_count": 59,
   "id": "435e0a66",
   "metadata": {},
   "outputs": [],
   "source": [
    "def func7(st):\n",
    "    import string\n",
    "    temp = string.punctuation\n",
    "    for c in st:\n",
    "        if c in temp:\n",
    "            return False\n",
    "    else:\n",
    "        return True"
   ]
  },
  {
   "cell_type": "code",
   "execution_count": 62,
   "id": "11ed8725",
   "metadata": {},
   "outputs": [
    {
     "data": {
      "text/plain": [
       "False"
      ]
     },
     "execution_count": 62,
     "metadata": {},
     "output_type": "execute_result"
    }
   ],
   "source": [
    "st7 = \"hello there\"\n",
    "func7(st7)"
   ]
  }
 ],
 "metadata": {
  "kernelspec": {
   "display_name": "Python 3 (ipykernel)",
   "language": "python",
   "name": "python3"
  },
  "language_info": {
   "codemirror_mode": {
    "name": "ipython",
    "version": 3
   },
   "file_extension": ".py",
   "mimetype": "text/x-python",
   "name": "python",
   "nbconvert_exporter": "python",
   "pygments_lexer": "ipython3",
   "version": "3.10.6"
  }
 },
 "nbformat": 4,
 "nbformat_minor": 5
}
