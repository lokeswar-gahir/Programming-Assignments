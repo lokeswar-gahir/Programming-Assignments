{
 "cells": [
  {
   "cell_type": "markdown",
   "id": "9bb2f5d0",
   "metadata": {},
   "source": [
    "### 1. Write a Python Program to Display Fibonacci Sequence Using Recursion?"
   ]
  },
  {
   "cell_type": "code",
   "execution_count": 1,
   "id": "a495b67c",
   "metadata": {},
   "outputs": [],
   "source": [
    "def fib(num,m=0,n=1):\n",
    "    if num == 0:\n",
    "        return\n",
    "    else:\n",
    "        print(m+n, end=\" \")\n",
    "        fib(num-1,n,m+n)"
   ]
  },
  {
   "cell_type": "code",
   "execution_count": 2,
   "id": "c7fe7d1e",
   "metadata": {},
   "outputs": [],
   "source": [
    "import pyinputplus as pp"
   ]
  },
  {
   "cell_type": "code",
   "execution_count": 3,
   "id": "354b11c5",
   "metadata": {},
   "outputs": [
    {
     "name": "stdout",
     "output_type": "stream",
     "text": [
      "\n",
      "How many elements do you want in the sequence (At least 3): 13\n",
      "\n",
      "Sequence upto 13 elements are : 0 1 1 2 3 5 8 13 21 34 55 89 144 233 377 "
     ]
    }
   ],
   "source": [
    "n = pp.inputInt(prompt =\"\\nHow many elements do you want in the sequence (At least 3): \",min = 3)\n",
    "print(f\"\\nSequence upto {n} elements are : \",end=\"\")\n",
    "print(\"0 1 \",end=\"\")\n",
    "fib(n)"
   ]
  },
  {
   "cell_type": "markdown",
   "id": "3c15e068",
   "metadata": {},
   "source": [
    "### 2. Write a Python Program to Find Factorial of Number Using Recursion?"
   ]
  },
  {
   "cell_type": "code",
   "execution_count": 4,
   "id": "c3b991f2",
   "metadata": {},
   "outputs": [],
   "source": [
    "def fact(n):\n",
    "    if n ==1:\n",
    "        return 1\n",
    "    else:\n",
    "        return n*fact(n-1)"
   ]
  },
  {
   "cell_type": "code",
   "execution_count": 5,
   "id": "d67c88e0",
   "metadata": {},
   "outputs": [
    {
     "name": "stdout",
     "output_type": "stream",
     "text": [
      "How many elements do you want in the sequence (At least 3): 8\n",
      "\n",
      "Factorial of 8 is : 40320.\n"
     ]
    }
   ],
   "source": [
    "m = pp.inputInt(prompt =\"How many elements do you want in the sequence (At least 3): \",min = 1)\n",
    "print(f\"\\nFactorial of {m} is : {fact(m)}.\")"
   ]
  },
  {
   "cell_type": "markdown",
   "id": "bc5639a7",
   "metadata": {},
   "source": [
    "### 3. Write a Python Program to calculate your Body Mass Index?"
   ]
  },
  {
   "cell_type": "raw",
   "id": "13d0d290",
   "metadata": {},
   "source": [
    "BMI = weight (in kilograms) / height (in meters) ^2"
   ]
  },
  {
   "cell_type": "code",
   "execution_count": 6,
   "id": "16f4edaa",
   "metadata": {},
   "outputs": [
    {
     "name": "stdout",
     "output_type": "stream",
     "text": [
      "Enter your weight(in kilograms) : 50\n",
      "Enter your height(in meters) : 1.5\n",
      "Your BMI is 22.222.\n"
     ]
    }
   ],
   "source": [
    "w = pp.inputFloat(prompt =\"Enter your weight(in kilograms) : \",min = 10)\n",
    "h = pp.inputFloat(prompt =\"Enter your height(in meters) : \",min = 0.5, max = 2.5)\n",
    "\n",
    "bmi = w/(h*h)\n",
    "print(f\"Your BMI is {round(bmi, 3)}.\")"
   ]
  },
  {
   "cell_type": "markdown",
   "id": "d65dc444",
   "metadata": {},
   "source": [
    "### 4. Write a Python Program to calculate the natural logarithm of any number?"
   ]
  },
  {
   "cell_type": "raw",
   "id": "e7f9c271",
   "metadata": {},
   "source": [
    "ln  = 2.303 * log"
   ]
  },
  {
   "cell_type": "code",
   "execution_count": 7,
   "id": "1c7c61e5",
   "metadata": {},
   "outputs": [
    {
     "name": "stdout",
     "output_type": "stream",
     "text": [
      "Enter a number to calculate natural log : 20\n",
      "\n",
      "The natural log of 20 is 2.995732273553991.\n"
     ]
    }
   ],
   "source": [
    "import math\n",
    "num = int(input(\"Enter a number to calculate natural log : \"))\n",
    "print(f\"\\nThe natural log of {num} is {math.log(num)}.\")"
   ]
  },
  {
   "cell_type": "markdown",
   "id": "f32119e1",
   "metadata": {},
   "source": [
    "### 5. Write a Python Program for cube sum of first n natural numbers?"
   ]
  },
  {
   "cell_type": "code",
   "execution_count": 8,
   "id": "f00bdec9",
   "metadata": {},
   "outputs": [
    {
     "name": "stdout",
     "output_type": "stream",
     "text": [
      "Enter a number : 6\n",
      "\n",
      "The cube sum of first 6 natural numbers is : 441.\n"
     ]
    }
   ],
   "source": [
    "num = int(input(\"Enter a number : \"))\n",
    "output = 0\n",
    "for i in range(1,num+1):\n",
    "    output += (i**3)\n",
    "print(f\"\\nThe cube sum of first {num} natural numbers is : {output}.\")"
   ]
  }
 ],
 "metadata": {
  "kernelspec": {
   "display_name": "Python 3 (ipykernel)",
   "language": "python",
   "name": "python3"
  },
  "language_info": {
   "codemirror_mode": {
    "name": "ipython",
    "version": 3
   },
   "file_extension": ".py",
   "mimetype": "text/x-python",
   "name": "python",
   "nbconvert_exporter": "python",
   "pygments_lexer": "ipython3",
   "version": "3.10.6"
  }
 },
 "nbformat": 4,
 "nbformat_minor": 5
}
