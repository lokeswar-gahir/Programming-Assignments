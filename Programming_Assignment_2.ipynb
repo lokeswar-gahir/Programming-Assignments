{
 "cells": [
  {
   "cell_type": "markdown",
   "id": "dd8fa614",
   "metadata": {},
   "source": [
    "### 1. Write a Python program to convert kilometers to miles?"
   ]
  },
  {
   "cell_type": "code",
   "execution_count": 5,
   "id": "b89106cf",
   "metadata": {},
   "outputs": [
    {
     "name": "stdout",
     "output_type": "stream",
     "text": [
      "Enter the distance(in Kilometers): 10\n",
      "\n",
      "10 Kilomerers =  6.214 miles.\n"
     ]
    }
   ],
   "source": [
    "km = int(input(\"Enter the distance(in Kilometers): \"))\n",
    "\n",
    "miles = km / 1.6093442\n",
    "print(f\"\\n{km} Kilomerers =  {round(miles,3)} miles.\")"
   ]
  },
  {
   "cell_type": "markdown",
   "id": "ef3ba64a",
   "metadata": {},
   "source": [
    "### 2. Write a Python program to convert Celsius to Fahrenheit?"
   ]
  },
  {
   "cell_type": "code",
   "execution_count": 10,
   "id": "e805332a",
   "metadata": {},
   "outputs": [
    {
     "name": "stdout",
     "output_type": "stream",
     "text": [
      "Enter the temperature(in Celsius): 121\n",
      "\n",
      "121 Celsius =  249.8 Fahrenheit.\n"
     ]
    }
   ],
   "source": [
    "cel = int(input(\"Enter the temperature(in Celsius): \"))\n",
    "\n",
    "far = (cel *(9/5)) +32\n",
    "print(f\"\\n{cel} Celsius =  {round(far,2)} Fahrenheit.\")"
   ]
  },
  {
   "cell_type": "markdown",
   "id": "ec402495",
   "metadata": {},
   "source": [
    "### 3. Write a Python program to display calendar?"
   ]
  },
  {
   "cell_type": "code",
   "execution_count": 12,
   "id": "d3f567a6",
   "metadata": {},
   "outputs": [],
   "source": [
    "import calendar"
   ]
  },
  {
   "cell_type": "code",
   "execution_count": 31,
   "id": "86401f86",
   "metadata": {},
   "outputs": [
    {
     "name": "stdout",
     "output_type": "stream",
     "text": [
      "Enter year (YYYY): 2022\n",
      "Enter month (MM): 10\n",
      "\n",
      "     October 2022\n",
      "Mo Tu We Th Fr Sa Su\n",
      "                1  2\n",
      " 3  4  5  6  7  8  9\n",
      "10 11 12 13 14 15 16\n",
      "17 18 19 20 21 22 23\n",
      "24 25 26 27 28 29 30\n",
      "31\n",
      "\n"
     ]
    }
   ],
   "source": [
    "try:\n",
    "    y = int(input(\"Enter year (YYYY): \"))\n",
    "    m = int(input(\"Enter month (MM): \"))\n",
    "    print(\"\\n\",calendar.month(y,m))\n",
    "except Exception as e:\n",
    "    print(\"\\n!!!!! Something went wrong !!!!!\")\n",
    "    print(e)"
   ]
  },
  {
   "cell_type": "markdown",
   "id": "bab272fb",
   "metadata": {},
   "source": [
    "### 4. Write a Python program to solve quadratic equation?"
   ]
  },
  {
   "cell_type": "code",
   "execution_count": 49,
   "id": "0d86a7d9",
   "metadata": {},
   "outputs": [],
   "source": [
    "import cmath"
   ]
  },
  {
   "cell_type": "code",
   "execution_count": 50,
   "id": "4da9bf56",
   "metadata": {
    "scrolled": true
   },
   "outputs": [
    {
     "name": "stdout",
     "output_type": "stream",
     "text": [
      "Enter the value of a : 2\n",
      "Enter the value of b : -8\n",
      "Enter the value of c : 3\n",
      "\n",
      "The equation is : 2x^2 + -8x + 3 = 0\n",
      "The first solution is : (3.58113883008419+0j)\n",
      "The second solution is : (0.5833333333333333-1.288302069478359j)\n"
     ]
    }
   ],
   "source": [
    "a = int(input(\"Enter the value of a : \"))\n",
    "b = int(input(\"Enter the value of b : \"))\n",
    "c = int(input(\"Enter the value of c : \"))\n",
    "\n",
    "print(f\"\\nThe equation is : {a}x^2 + {b}x + {c} = 0\")\n",
    "\n",
    "d = (b*b) -(4*a*c)\n",
    "\n",
    "sol1 = (-b-cmath.sqrt(d))/(2*a)\n",
    "sol1 = (-b+cmath.sqrt(d))/(2*a)\n",
    "\n",
    "\n",
    "print(f\"The first solution is : {sol1}\")\n",
    "print(f\"The second solution is : {sol2}\")"
   ]
  },
  {
   "cell_type": "markdown",
   "id": "767bd341",
   "metadata": {},
   "source": [
    "### 5. Write a Python program to swap two variables without temp variable?"
   ]
  },
  {
   "cell_type": "code",
   "execution_count": 51,
   "id": "250b9b82",
   "metadata": {},
   "outputs": [
    {
     "name": "stdout",
     "output_type": "stream",
     "text": [
      "Enter a number for a : 56\n",
      "Enter a number for b : 89\n",
      "\n",
      "The values before swap : 56,89\n",
      "The values after swap : 89,56\n"
     ]
    }
   ],
   "source": [
    "a = int(input(\"Enter a number for a : \"))\n",
    "b = int(input(\"Enter a number for b : \"))\n",
    "\n",
    "print(f\"\\nThe values before swap : {a},{b}\")\n",
    "a,b = b,a\n",
    "print(f\"The values after swap : {a},{b}\")"
   ]
  }
 ],
 "metadata": {
  "kernelspec": {
   "display_name": "Python 3 (ipykernel)",
   "language": "python",
   "name": "python3"
  },
  "language_info": {
   "codemirror_mode": {
    "name": "ipython",
    "version": 3
   },
   "file_extension": ".py",
   "mimetype": "text/x-python",
   "name": "python",
   "nbconvert_exporter": "python",
   "pygments_lexer": "ipython3",
   "version": "3.10.6"
  }
 },
 "nbformat": 4,
 "nbformat_minor": 5
}
