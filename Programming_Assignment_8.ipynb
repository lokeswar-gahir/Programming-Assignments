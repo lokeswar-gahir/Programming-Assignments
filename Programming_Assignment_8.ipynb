{
 "cells": [
  {
   "cell_type": "raw",
   "id": "3e457d07",
   "metadata": {},
   "source": [
    "1. Write a Python Program to Add Two Matrices?\n",
    "2. Write a Python Program to Multiply Two Matrices?\n",
    "3. Write a Python Program to Transpose a Matrix?\n",
    "4. Write a Python Program to Sort Words in Alphabetic Order?\n",
    "5. Write a Python Program to Remove Punctuation From a String?"
   ]
  },
  {
   "cell_type": "markdown",
   "id": "4f662d8c",
   "metadata": {},
   "source": [
    "### 1. Write a Python Program to Add Two Matrices?"
   ]
  },
  {
   "cell_type": "code",
   "execution_count": 1,
   "id": "0120f2c3",
   "metadata": {},
   "outputs": [],
   "source": [
    "def add_metrices(a,b):\n",
    "    import numpy as np\n",
    "    return np.add(a,b)"
   ]
  },
  {
   "cell_type": "code",
   "execution_count": 2,
   "id": "8381be60",
   "metadata": {},
   "outputs": [],
   "source": [
    "a = [[1,2,3],\n",
    "    [4,5,6],\n",
    "    [7,8,9]]\n",
    "b = [[1,2,3],\n",
    "    [4,5,6],\n",
    "    [7,8,9]]"
   ]
  },
  {
   "cell_type": "code",
   "execution_count": 3,
   "id": "22c7b8dd",
   "metadata": {},
   "outputs": [
    {
     "data": {
      "text/plain": [
       "array([[ 2,  4,  6],\n",
       "       [ 8, 10, 12],\n",
       "       [14, 16, 18]])"
      ]
     },
     "execution_count": 3,
     "metadata": {},
     "output_type": "execute_result"
    }
   ],
   "source": [
    "add_metrices(a,b)"
   ]
  },
  {
   "cell_type": "markdown",
   "id": "dec4bfc1",
   "metadata": {},
   "source": [
    "### 2. Write a Python Program to Multiply Two Matrices?"
   ]
  },
  {
   "cell_type": "code",
   "execution_count": 4,
   "id": "79ed6554",
   "metadata": {},
   "outputs": [],
   "source": [
    "def matrix_multiplication(a,b):\n",
    "    import numpy as np\n",
    "    a,b = np.array(a), np.array(b)\n",
    "    return np.dot(a,b)"
   ]
  },
  {
   "cell_type": "code",
   "execution_count": 5,
   "id": "d0586ff5",
   "metadata": {},
   "outputs": [],
   "source": [
    "a = [[1,2,6],\n",
    "    [4,2,6],\n",
    "    [7,5,9]]\n",
    "b = [[1,2,3],\n",
    "    [4,2,7],\n",
    "    [4,7,2]]"
   ]
  },
  {
   "cell_type": "code",
   "execution_count": 6,
   "id": "fc25ff25",
   "metadata": {},
   "outputs": [
    {
     "name": "stdout",
     "output_type": "stream",
     "text": [
      "[[33 48 29]\n",
      " [36 54 38]\n",
      " [63 87 74]]\n"
     ]
    }
   ],
   "source": [
    "try:\n",
    "    print(matrix_multiplication(a,b))\n",
    "except Exception as e:\n",
    "    print(f\"\\nERROR : {e}.\")"
   ]
  },
  {
   "cell_type": "markdown",
   "id": "b0187da0",
   "metadata": {},
   "source": [
    "### 3. Write a Python Program to Transpose a Matrix?"
   ]
  },
  {
   "cell_type": "code",
   "execution_count": 7,
   "id": "77a599b8",
   "metadata": {},
   "outputs": [],
   "source": [
    "def transpose(matrix):\n",
    "    import numpy as np\n",
    "    matrix = np.array(matrix)\n",
    "    return matrix.T"
   ]
  },
  {
   "cell_type": "code",
   "execution_count": 8,
   "id": "5eed5010",
   "metadata": {},
   "outputs": [],
   "source": [
    "m1 = [[1,2,6],\n",
    "     [4,2,6],\n",
    "     [7,5,9]]"
   ]
  },
  {
   "cell_type": "code",
   "execution_count": 9,
   "id": "6b7f0c0d",
   "metadata": {},
   "outputs": [
    {
     "data": {
      "text/plain": [
       "array([[1, 4, 7],\n",
       "       [2, 2, 5],\n",
       "       [6, 6, 9]])"
      ]
     },
     "execution_count": 9,
     "metadata": {},
     "output_type": "execute_result"
    }
   ],
   "source": [
    "transpose(m1)"
   ]
  },
  {
   "cell_type": "markdown",
   "id": "5337652a",
   "metadata": {},
   "source": [
    "### 4. Write a Python Program to Sort Words in Alphabetic Order?"
   ]
  },
  {
   "cell_type": "raw",
   "id": "96cc561e",
   "metadata": {},
   "source": [
    "st1= \"i am very good\"\n",
    "k = st1.split(\" \")"
   ]
  },
  {
   "cell_type": "code",
   "execution_count": 31,
   "id": "368485d9",
   "metadata": {},
   "outputs": [],
   "source": [
    "def word_sort():\n",
    "    st = input(\"Enter some words : \")\n",
    "    l1 = st.split(\" \")\n",
    "    l1.sort()\n",
    "    return f\"\\nHere are sorted words : {' '.join(l1)}\""
   ]
  },
  {
   "cell_type": "code",
   "execution_count": 44,
   "id": "03995e7a",
   "metadata": {},
   "outputs": [
    {
     "name": "stdout",
     "output_type": "stream",
     "text": [
      "Enter some words : i am a good boy\n",
      "\n",
      "Here are sorted words : a am boy good i\n"
     ]
    }
   ],
   "source": [
    "try:\n",
    "    print(word_sort())\n",
    "except Exception as e:\n",
    "    print(f\"\\nERROR : {e}.\")"
   ]
  },
  {
   "cell_type": "markdown",
   "id": "bd814538",
   "metadata": {},
   "source": [
    "### 5. Write a Python Program to Remove Punctuation From a String?"
   ]
  },
  {
   "cell_type": "code",
   "execution_count": 51,
   "id": "f83a363c",
   "metadata": {},
   "outputs": [],
   "source": [
    "def punctuation_remover():\n",
    "    st = input()\n",
    "    result = ''\n",
    "    for i in st:\n",
    "        if i == \" \":\n",
    "            result += i\n",
    "            continue\n",
    "        if i.isalnum():\n",
    "            result += i\n",
    "    return result"
   ]
  },
  {
   "cell_type": "code",
   "execution_count": 53,
   "id": "f0b060c9",
   "metadata": {},
   "outputs": [
    {
     "name": "stdout",
     "output_type": "stream",
     "text": [
      "hello there, i am a python learner. thank you!\n"
     ]
    },
    {
     "data": {
      "text/plain": [
       "'hello there i am a python learner thank you'"
      ]
     },
     "execution_count": 53,
     "metadata": {},
     "output_type": "execute_result"
    }
   ],
   "source": [
    "punctuation_remover()"
   ]
  }
 ],
 "metadata": {
  "kernelspec": {
   "display_name": "Python 3 (ipykernel)",
   "language": "python",
   "name": "python3"
  },
  "language_info": {
   "codemirror_mode": {
    "name": "ipython",
    "version": 3
   },
   "file_extension": ".py",
   "mimetype": "text/x-python",
   "name": "python",
   "nbconvert_exporter": "python",
   "pygments_lexer": "ipython3",
   "version": "3.10.6"
  }
 },
 "nbformat": 4,
 "nbformat_minor": 5
}
