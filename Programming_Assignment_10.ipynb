{
 "cells": [
  {
   "cell_type": "raw",
   "id": "f19b970a",
   "metadata": {},
   "source": [
    "1. Write a Python program to find sum of elements in list?\n",
    "2. Write a Python program to Multiply all numbers in the list?\n",
    "3. Write a Python program to find smallest number in a list?\n",
    "4. Write a Python program to find largest number in a list?\n",
    "5. Write a Python program to find second largest number in a list?\n",
    "6. Write a Python program to find N largest elements from a list?\n",
    "7. Write a Python program to print even numbers in a list?\n",
    "8. Write a Python program to print odd numbers in a List?\n",
    "9. Write a Python program to Remove empty List from List?\n",
    "10. Write a Python program to Cloning or Copying a list?\n",
    "11. Write a Python program to Count occurrences of an element in a list?"
   ]
  },
  {
   "cell_type": "markdown",
   "id": "aae77863",
   "metadata": {},
   "source": [
    "### 1. Write a Python program to find sum of elements in list?"
   ]
  },
  {
   "cell_type": "code",
   "execution_count": 1,
   "id": "215387ab",
   "metadata": {},
   "outputs": [],
   "source": [
    "def sum_of_list(lst):\n",
    "    result = 0\n",
    "    for item in lst:\n",
    "        result += item\n",
    "    return result"
   ]
  },
  {
   "cell_type": "code",
   "execution_count": 3,
   "id": "d076e8f3",
   "metadata": {},
   "outputs": [
    {
     "data": {
      "text/plain": [
       "39"
      ]
     },
     "execution_count": 3,
     "metadata": {},
     "output_type": "execute_result"
    }
   ],
   "source": [
    "l1 = [12,4,23]\n",
    "sum_of_list(l1)"
   ]
  },
  {
   "cell_type": "markdown",
   "id": "36de6a1a",
   "metadata": {},
   "source": [
    "### 2. Write a Python program to Multiply all numbers in the list?"
   ]
  },
  {
   "cell_type": "code",
   "execution_count": 4,
   "id": "f656f7af",
   "metadata": {},
   "outputs": [],
   "source": [
    "def reduce_by_multiplication(lst):\n",
    "    result = 1\n",
    "    for item in lst:\n",
    "        result *= item\n",
    "    return result"
   ]
  },
  {
   "cell_type": "code",
   "execution_count": 5,
   "id": "4c1d4b68",
   "metadata": {},
   "outputs": [
    {
     "data": {
      "text/plain": [
       "180"
      ]
     },
     "execution_count": 5,
     "metadata": {},
     "output_type": "execute_result"
    }
   ],
   "source": [
    "l2=[3,5,2,6]\n",
    "reduce_by_multiplication(l2)"
   ]
  },
  {
   "cell_type": "markdown",
   "id": "04f86c72",
   "metadata": {},
   "source": [
    "### 3. Write a Python program to find smallest number in a list?"
   ]
  },
  {
   "cell_type": "code",
   "execution_count": 6,
   "id": "1f51ab86",
   "metadata": {},
   "outputs": [],
   "source": [
    "def smallest_in_list(lst):\n",
    "    smallest = lst[0]\n",
    "    for i in range(1,len(lst)):\n",
    "        if lst[i]<smallest:\n",
    "            smallest=lst[i]\n",
    "    return smallest"
   ]
  },
  {
   "cell_type": "code",
   "execution_count": 10,
   "id": "d4f18125",
   "metadata": {},
   "outputs": [
    {
     "data": {
      "text/plain": [
       "1"
      ]
     },
     "execution_count": 10,
     "metadata": {},
     "output_type": "execute_result"
    }
   ],
   "source": [
    "l3 = [7,5,8,9,6,4,53,3,4,6,7,3,2,3,1,87]\n",
    "smallest_in_list(l3)"
   ]
  },
  {
   "cell_type": "markdown",
   "id": "b63f5b74",
   "metadata": {},
   "source": [
    "### 4. Write a Python program to find largest number in a list?"
   ]
  },
  {
   "cell_type": "code",
   "execution_count": 11,
   "id": "db7f3c2e",
   "metadata": {},
   "outputs": [],
   "source": [
    "def largest_in_list(lst):\n",
    "    largest = lst[0]\n",
    "    for i in range(1,len(lst)):\n",
    "        if lst[i]>largest:\n",
    "            largest=lst[i]\n",
    "    return largest"
   ]
  },
  {
   "cell_type": "code",
   "execution_count": 13,
   "id": "367ea10d",
   "metadata": {},
   "outputs": [
    {
     "data": {
      "text/plain": [
       "9"
      ]
     },
     "execution_count": 13,
     "metadata": {},
     "output_type": "execute_result"
    }
   ],
   "source": [
    "l4 = [2,4,5,2,3,5,6,3,5,7,8,8,8,9,7,2,3,6,4,6]\n",
    "largest_in_list(l4)"
   ]
  },
  {
   "cell_type": "markdown",
   "id": "233d8fa8",
   "metadata": {},
   "source": [
    "### 5. Write a Python program to find second largest number in a list?"
   ]
  },
  {
   "cell_type": "code",
   "execution_count": 32,
   "id": "f936e2ba",
   "metadata": {},
   "outputs": [],
   "source": [
    "def second_largest_in_list(lst):\n",
    "    temp_list = lst.copy()\n",
    "    l1 = largest_in_list(temp_list)\n",
    "    while l1 in temp_list:\n",
    "        temp_list.remove(l1)\n",
    "    l2 = largest_in_list(temp_list)\n",
    "    return l2"
   ]
  },
  {
   "cell_type": "code",
   "execution_count": 33,
   "id": "1132ea75",
   "metadata": {},
   "outputs": [
    {
     "data": {
      "text/plain": [
       "4"
      ]
     },
     "execution_count": 33,
     "metadata": {},
     "output_type": "execute_result"
    }
   ],
   "source": [
    "l5 = [1,2,3,4,5,5,5,5,5]\n",
    "second_largest_in_list(l5)"
   ]
  },
  {
   "cell_type": "markdown",
   "id": "7ef20d85",
   "metadata": {},
   "source": [
    "### 6. Write a Python program to find N largest elements from a list?"
   ]
  },
  {
   "cell_type": "code",
   "execution_count": 55,
   "id": "cc49cf5b",
   "metadata": {},
   "outputs": [],
   "source": [
    "def n_largest(nth_largest,lst):\n",
    "    temp_list = lst.copy()\n",
    "    if nth_largest <0:\n",
    "        print(f\"A positive value of 'n' is required for this operation.\")  \n",
    "    elif nth_largest >len(set(temp_list)):\n",
    "        print(f\"This list have no such element.\\nValue of 'n' should be less.\")\n",
    "    else:\n",
    "        for _ in range(1,nth_largest):\n",
    "            l = largest_in_list(temp_list)\n",
    "            while l in temp_list:\n",
    "                temp_list.remove(l)\n",
    "        nth_l= largest_in_list(temp_list)\n",
    "        return nth_l"
   ]
  },
  {
   "cell_type": "code",
   "execution_count": 62,
   "id": "9fc76b94",
   "metadata": {},
   "outputs": [
    {
     "data": {
      "text/plain": [
       "6"
      ]
     },
     "execution_count": 62,
     "metadata": {},
     "output_type": "execute_result"
    }
   ],
   "source": [
    "l6 = [1,2,2,2,3,3,9,4,4,5,9,6,4,5,7,8,4,5,6,8]\n",
    "n_largest(4,l6)"
   ]
  },
  {
   "cell_type": "code",
   "execution_count": 98,
   "id": "7068c769",
   "metadata": {},
   "outputs": [
    {
     "name": "stdout",
     "output_type": "stream",
     "text": [
      "A positive value of 'n' is required for this operation.\n"
     ]
    }
   ],
   "source": [
    "n_largest(-4,l6)"
   ]
  },
  {
   "cell_type": "code",
   "execution_count": 99,
   "id": "7dc8446a",
   "metadata": {},
   "outputs": [
    {
     "name": "stdout",
     "output_type": "stream",
     "text": [
      "This list have no such element.\n",
      "Value of 'n' should be less.\n"
     ]
    }
   ],
   "source": [
    "n_largest(44,l6)"
   ]
  },
  {
   "cell_type": "markdown",
   "id": "a78ae25f",
   "metadata": {},
   "source": [
    "### 7. Write a Python program to print even numbers in a list?"
   ]
  },
  {
   "cell_type": "code",
   "execution_count": 63,
   "id": "3f71ce90",
   "metadata": {},
   "outputs": [],
   "source": [
    "def print_even(lst):\n",
    "    temp_lst = lst.copy()\n",
    "    output = []\n",
    "    for item in temp_lst:\n",
    "        if item%2 == 0:\n",
    "            output.append(item)\n",
    "    return output"
   ]
  },
  {
   "cell_type": "code",
   "execution_count": 66,
   "id": "8545c1be",
   "metadata": {},
   "outputs": [
    {
     "data": {
      "text/plain": [
       "[2, 4, 6, 8, 10]"
      ]
     },
     "execution_count": 66,
     "metadata": {},
     "output_type": "execute_result"
    }
   ],
   "source": [
    "l7 = [1,2,3,4,5,6,7,8,9,10]\n",
    "print_even(l7)"
   ]
  },
  {
   "cell_type": "markdown",
   "id": "5deaa84e",
   "metadata": {},
   "source": [
    "### 8. Write a Python program to print odd numbers in a List?"
   ]
  },
  {
   "cell_type": "code",
   "execution_count": 67,
   "id": "87e61015",
   "metadata": {},
   "outputs": [],
   "source": [
    "def print_odd(lst):\n",
    "    temp_lst = lst.copy()\n",
    "    output = []\n",
    "    for item in temp_lst:\n",
    "        if item%2 != 0:\n",
    "            output.append(item)\n",
    "    return output"
   ]
  },
  {
   "cell_type": "code",
   "execution_count": 69,
   "id": "182af328",
   "metadata": {},
   "outputs": [
    {
     "data": {
      "text/plain": [
       "[1, 3, 5, 7, 9]"
      ]
     },
     "execution_count": 69,
     "metadata": {},
     "output_type": "execute_result"
    }
   ],
   "source": [
    "l8 = [1,2,3,4,5,6,7,8,9,10]\n",
    "print_odd(l8)"
   ]
  },
  {
   "cell_type": "markdown",
   "id": "639d0dbc",
   "metadata": {},
   "source": [
    "### 9. Write a Python program to Remove empty List from List?"
   ]
  },
  {
   "cell_type": "code",
   "execution_count": 79,
   "id": "0c8b7cce",
   "metadata": {},
   "outputs": [],
   "source": [
    "def empty_list_remover(lst):\n",
    "    while [] in lst:\n",
    "        lst.remove([])\n",
    "    return lst"
   ]
  },
  {
   "cell_type": "code",
   "execution_count": 86,
   "id": "fadd6178",
   "metadata": {},
   "outputs": [
    {
     "data": {
      "text/plain": [
       "[2, 3, 4, 8, 9, 0]"
      ]
     },
     "execution_count": 86,
     "metadata": {},
     "output_type": "execute_result"
    }
   ],
   "source": [
    "l9 = [2,[],3,4,[], [ ],8,9,0]\n",
    "empty_list_remover(ll)"
   ]
  },
  {
   "cell_type": "markdown",
   "id": "335bd4c4",
   "metadata": {},
   "source": [
    "### 10. Write a Python program to Cloning or Copying a list?"
   ]
  },
  {
   "cell_type": "code",
   "execution_count": 87,
   "id": "5e337c0f",
   "metadata": {},
   "outputs": [],
   "source": [
    "def clone(lst):    \n",
    "    import copy\n",
    "    return copy.deepcopy(lst)"
   ]
  },
  {
   "cell_type": "code",
   "execution_count": 88,
   "id": "5b78706e",
   "metadata": {},
   "outputs": [
    {
     "data": {
      "text/plain": [
       "[1, 2, 3, 4, 7, 8, 9]"
      ]
     },
     "execution_count": 88,
     "metadata": {},
     "output_type": "execute_result"
    }
   ],
   "source": [
    "l10 = [1,2,3,4,7,8,9]\n",
    "c_list = clone(l10)\n",
    "c_list"
   ]
  },
  {
   "cell_type": "markdown",
   "id": "db906ab1",
   "metadata": {},
   "source": [
    "### 11. Write a Python program to Count occurrences of an element in a list?"
   ]
  },
  {
   "cell_type": "code",
   "execution_count": 89,
   "id": "92c51eba",
   "metadata": {},
   "outputs": [],
   "source": [
    "def occurance(num,lst):\n",
    "    return lst.count(num)"
   ]
  },
  {
   "cell_type": "code",
   "execution_count": 96,
   "id": "3ac8fb8c",
   "metadata": {},
   "outputs": [
    {
     "data": {
      "text/plain": [
       "7"
      ]
     },
     "execution_count": 96,
     "metadata": {},
     "output_type": "execute_result"
    }
   ],
   "source": [
    "l11 = [1,1,1,2,2,3,3,4,2,2,3,4,5,3,2,3,2,1,2,3,3,2]\n",
    "occurance(3,l11)"
   ]
  }
 ],
 "metadata": {
  "kernelspec": {
   "display_name": "Python 3 (ipykernel)",
   "language": "python",
   "name": "python3"
  },
  "language_info": {
   "codemirror_mode": {
    "name": "ipython",
    "version": 3
   },
   "file_extension": ".py",
   "mimetype": "text/x-python",
   "name": "python",
   "nbconvert_exporter": "python",
   "pygments_lexer": "ipython3",
   "version": "3.10.6"
  }
 },
 "nbformat": 4,
 "nbformat_minor": 5
}
