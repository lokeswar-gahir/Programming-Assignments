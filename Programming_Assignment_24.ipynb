{
 "cells": [
  {
   "cell_type": "markdown",
   "id": "87b98788",
   "metadata": {},
   "source": [
    "### Question1<br>Create a function that takes an integer and returns a list from 1 to the given number, where:\n",
    "1. If the number can be divided evenly by 4, amplify it by 10 (i.e. return 10 times the number).\n",
    "2. If the number cannot be divided evenly by 4, simply return the number.\n",
    "\n",
    "Examples<br>\n",
    "amplify(4) ➞ [1, 2, 3, 40]<br>\n",
    "amplify(3) ➞ [1, 2, 3]<br>\n",
    "amplify(25) ➞ [1, 2, 3, 40, 5, 6, 7, 80, 9, 10, 11, 120, 13, 14, 15, 160, 17, 18, 19, 200, 21, 22, 23, 240, 25]<br>\n",
    "Notes<br>\n",
    " The given integer will always be equal to or greater than 1.<br>\n",
    " Include the number (see example above).<br>\n",
    " To perform this problem with its intended purpose, try doing it with list comprehensions. If that&#39;s too difficult, just solve the challenge any way you can."
   ]
  },
  {
   "cell_type": "code",
   "execution_count": 7,
   "id": "86f497ef",
   "metadata": {},
   "outputs": [],
   "source": [
    "def amplify(num):\n",
    "    return [i if i%4 != 0 else i*10 for i in range(1,num +1)]"
   ]
  },
  {
   "cell_type": "code",
   "execution_count": 8,
   "id": "b63c9666",
   "metadata": {},
   "outputs": [
    {
     "data": {
      "text/plain": [
       "[1, 2, 3, 40]"
      ]
     },
     "execution_count": 8,
     "metadata": {},
     "output_type": "execute_result"
    }
   ],
   "source": [
    "amplify(4)"
   ]
  },
  {
   "cell_type": "code",
   "execution_count": 9,
   "id": "dda6011c",
   "metadata": {},
   "outputs": [
    {
     "data": {
      "text/plain": [
       "[1,\n",
       " 2,\n",
       " 3,\n",
       " 40,\n",
       " 5,\n",
       " 6,\n",
       " 7,\n",
       " 80,\n",
       " 9,\n",
       " 10,\n",
       " 11,\n",
       " 120,\n",
       " 13,\n",
       " 14,\n",
       " 15,\n",
       " 160,\n",
       " 17,\n",
       " 18,\n",
       " 19,\n",
       " 200,\n",
       " 21,\n",
       " 22,\n",
       " 23,\n",
       " 240,\n",
       " 25]"
      ]
     },
     "execution_count": 9,
     "metadata": {},
     "output_type": "execute_result"
    }
   ],
   "source": [
    "amplify(25)"
   ]
  },
  {
   "cell_type": "code",
   "execution_count": 10,
   "id": "f529b98c",
   "metadata": {},
   "outputs": [
    {
     "data": {
      "text/plain": [
       "[1, 2, 3, 40, 5, 6, 7, 80, 9, 10]"
      ]
     },
     "execution_count": 10,
     "metadata": {},
     "output_type": "execute_result"
    }
   ],
   "source": [
    "amplify(10)"
   ]
  },
  {
   "cell_type": "markdown",
   "id": "72c0e8b3",
   "metadata": {},
   "source": [
    "### Question2<br>Create a function that takes a list of numbers and return the number that&#39;s unique.\n",
    "Examples<br>\n",
    "unique([3, 3, 3, 7, 3, 3]) ➞ 7<br>\n",
    "unique([0, 0, 0.77, 0, 0]) ➞ 0.77<br>\n",
    "unique([0, 1, 1, 1, 1, 1, 1, 1]) ➞ 0<br>\n",
    "Notes<br>\n",
    " Test cases will always have exactly one unique number while all others are the same."
   ]
  },
  {
   "cell_type": "code",
   "execution_count": 13,
   "id": "ab6af8d6",
   "metadata": {},
   "outputs": [],
   "source": [
    "def unique(lst):\n",
    "    set_  = set(lst)\n",
    "    for item in set_:\n",
    "        if lst.count(item) == 1:\n",
    "            return item"
   ]
  },
  {
   "cell_type": "code",
   "execution_count": 14,
   "id": "71660c81",
   "metadata": {},
   "outputs": [
    {
     "data": {
      "text/plain": [
       "0.77"
      ]
     },
     "execution_count": 14,
     "metadata": {},
     "output_type": "execute_result"
    }
   ],
   "source": [
    "unique([0, 0, 0.77, 0, 0])"
   ]
  },
  {
   "cell_type": "code",
   "execution_count": 15,
   "id": "ebc5f346",
   "metadata": {},
   "outputs": [
    {
     "data": {
      "text/plain": [
       "0"
      ]
     },
     "execution_count": 15,
     "metadata": {},
     "output_type": "execute_result"
    }
   ],
   "source": [
    "unique([0, 1, 1, 1, 1, 1, 1, 1])"
   ]
  },
  {
   "cell_type": "code",
   "execution_count": 17,
   "id": "43d68f79",
   "metadata": {},
   "outputs": [
    {
     "data": {
      "text/plain": [
       "9"
      ]
     },
     "execution_count": 17,
     "metadata": {},
     "output_type": "execute_result"
    }
   ],
   "source": [
    "unique([1,1,1,2,2,2,3,3,3,4,4,5,5,6,6,8,8,9])"
   ]
  },
  {
   "cell_type": "markdown",
   "id": "51b876be",
   "metadata": {},
   "source": [
    "### Question3<br>Your task is to create a Circle constructor that creates a circle with a radius provided by an argument. The circles constructed must have two getters getArea() (PIr^2) and getPerimeter() (2PI\\*r) which give both respective areas and perimeter (circumference).\n",
    "\n",
    "For help with this class, I have provided you with a Rectangle constructor which you can use as a base example.<br>\n",
    "Examples<br>\n",
    "circy = Circle(11)<br>\n",
    "circy.getArea()<br>\n",
    "\\# Should return 380.132711084365<br>\n",
    "circy = Circle(4.44)<br>\n",
    "circy.getPerimeter()<br>\n",
    "\\# Should return 27.897342763877365<br>\n",
    "Notes<br>\n",
    " Round results up to the nearest integer."
   ]
  },
  {
   "cell_type": "code",
   "execution_count": 21,
   "id": "6bcede6b",
   "metadata": {},
   "outputs": [],
   "source": [
    "class Circle:\n",
    "    def __init__(self,radius):\n",
    "        self.radius = radius\n",
    "    def getArea(self):\n",
    "        import math\n",
    "        return round((math.pi*(self.radius**2)))\n",
    "    def getPerimeter(self):\n",
    "        import math\n",
    "        return round((2*math.pi*self.radius))"
   ]
  },
  {
   "cell_type": "code",
   "execution_count": 24,
   "id": "aaefd3b0",
   "metadata": {},
   "outputs": [
    {
     "data": {
      "text/plain": [
       "380"
      ]
     },
     "execution_count": 24,
     "metadata": {},
     "output_type": "execute_result"
    }
   ],
   "source": [
    "c1 = Circle(11)\n",
    "c1.getArea()"
   ]
  },
  {
   "cell_type": "code",
   "execution_count": 25,
   "id": "83361477",
   "metadata": {},
   "outputs": [
    {
     "data": {
      "text/plain": [
       "69"
      ]
     },
     "execution_count": 25,
     "metadata": {},
     "output_type": "execute_result"
    }
   ],
   "source": [
    "c1.getPerimeter()"
   ]
  },
  {
   "cell_type": "code",
   "execution_count": 26,
   "id": "ea53aca8",
   "metadata": {},
   "outputs": [
    {
     "name": "stdout",
     "output_type": "stream",
     "text": [
      "61\n",
      "28\n"
     ]
    }
   ],
   "source": [
    "c2 = Circle(4.4)\n",
    "print(c2.getArea())\n",
    "print(c2.getPerimeter())"
   ]
  },
  {
   "cell_type": "markdown",
   "id": "9b5142f9",
   "metadata": {},
   "source": [
    "### Question4<br>Create a function that takes a list of strings and return a list, sorted from shortest to longest.\n",
    "Examples<br>\n",
    "sort_by_length([&quot;Google&quot;, &quot;Apple&quot;, &quot;Microsoft&quot;])\n",
    "➞ [&quot;Apple&quot;, &quot;Google&quot;, &quot;Microsoft&quot;]<br>\n",
    "sort_by_length([&quot;Leonardo&quot;, &quot;Michelangelo&quot;, &quot;Raphael&quot;, &quot;Donatello&quot;])\n",
    "➞ [&quot;Raphael&quot;, &quot;Leonardo&quot;, &quot;Donatello&quot;, &quot;Michelangelo&quot;]<br>\n",
    "sort_by_length([&quot;Turing&quot;, &quot;Einstein&quot;, &quot;Jung&quot;])\n",
    "➞ [&quot;Jung&quot;, &quot;Turing&quot;, &quot;Einstein&quot;]<br>\n",
    "Notes<br>\n",
    " All test cases contain lists with strings of different lengths, so you won&#39;t have to deal with multiple strings of the same length."
   ]
  },
  {
   "cell_type": "code",
   "execution_count": 27,
   "id": "efae8444",
   "metadata": {},
   "outputs": [],
   "source": [
    "def sort_by_length(lst):\n",
    "    def temp(string):\n",
    "        return len(string)\n",
    "    return sorted(lst,key=temp)"
   ]
  },
  {
   "cell_type": "code",
   "execution_count": 28,
   "id": "59962722",
   "metadata": {},
   "outputs": [
    {
     "data": {
      "text/plain": [
       "['Jung', 'Turing', 'Einstein']"
      ]
     },
     "execution_count": 28,
     "metadata": {},
     "output_type": "execute_result"
    }
   ],
   "source": [
    "sort_by_length([\"Turing\", \"Einstein\", \"Jung\"])"
   ]
  },
  {
   "cell_type": "code",
   "execution_count": 29,
   "id": "c637f1bd",
   "metadata": {},
   "outputs": [
    {
     "data": {
      "text/plain": [
       "['Apple', 'Google', 'Microsoft']"
      ]
     },
     "execution_count": 29,
     "metadata": {},
     "output_type": "execute_result"
    }
   ],
   "source": [
    "sort_by_length([\"Google\", \"Apple\", \"Microsoft\"])"
   ]
  },
  {
   "cell_type": "markdown",
   "id": "b101e6b6",
   "metadata": {},
   "source": [
    "### Question5<br>Create a function that validates whether three given integers form a Pythagorean triplet. The sum of the squares of the two smallest integers must equal the square of the largest number to be validated.\n",
    "Examples<br>\n",
    "is_triplet(3, 4, 5) ➞ True<br>\n",
    "\\# 3² + 4² = 25<br>\n",
    "\\# 5² = 25<br>\n",
    "is_triplet(13, 5, 12) ➞ True<br>\n",
    "\\# 5² + 12² = 169<br>\n",
    "\\# 13² = 169<br>\n",
    "is_triplet(1, 2, 3) ➞ False<br>\n",
    "\\# 1² + 2² = 5<br>\n",
    "\\# 3² = 9<br>\n",
    "Notes<br>\n",
    "Numbers may not be given in a sorted order.<br>"
   ]
  },
  {
   "cell_type": "code",
   "execution_count": 34,
   "id": "48dbe291",
   "metadata": {},
   "outputs": [],
   "source": [
    "def is_triplet(*lst):\n",
    "    if len(lst) == 3:\n",
    "        lst = sorted(lst)\n",
    "        large = lst.pop()\n",
    "        temp = 0\n",
    "        for i in lst:\n",
    "            temp += i**2\n",
    "        return temp == large**2"
   ]
  },
  {
   "cell_type": "code",
   "execution_count": 35,
   "id": "877d302e",
   "metadata": {},
   "outputs": [
    {
     "data": {
      "text/plain": [
       "True"
      ]
     },
     "execution_count": 35,
     "metadata": {},
     "output_type": "execute_result"
    }
   ],
   "source": [
    "is_triplet(3, 4, 5)"
   ]
  },
  {
   "cell_type": "code",
   "execution_count": 36,
   "id": "9c90d50a",
   "metadata": {},
   "outputs": [
    {
     "data": {
      "text/plain": [
       "True"
      ]
     },
     "execution_count": 36,
     "metadata": {},
     "output_type": "execute_result"
    }
   ],
   "source": [
    "is_triplet(13, 5, 12)"
   ]
  },
  {
   "cell_type": "code",
   "execution_count": 37,
   "id": "19d69176",
   "metadata": {},
   "outputs": [
    {
     "data": {
      "text/plain": [
       "False"
      ]
     },
     "execution_count": 37,
     "metadata": {},
     "output_type": "execute_result"
    }
   ],
   "source": [
    "is_triplet(1, 2, 3)"
   ]
  }
 ],
 "metadata": {
  "kernelspec": {
   "display_name": "Python 3 (ipykernel)",
   "language": "python",
   "name": "python3"
  },
  "language_info": {
   "codemirror_mode": {
    "name": "ipython",
    "version": 3
   },
   "file_extension": ".py",
   "mimetype": "text/x-python",
   "name": "python",
   "nbconvert_exporter": "python",
   "pygments_lexer": "ipython3",
   "version": "3.10.6"
  }
 },
 "nbformat": 4,
 "nbformat_minor": 5
}
