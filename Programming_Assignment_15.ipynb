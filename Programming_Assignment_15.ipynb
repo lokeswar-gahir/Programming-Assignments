{
 "cells": [
  {
   "cell_type": "markdown",
   "id": "63822252",
   "metadata": {},
   "source": [
    "### Question 1:<br>Please write a program using generator to print the numbers which can be divisible by 5 and 7 between 0 and n in comma separated form while n is input by console.\n",
    "Example:<br>\n",
    "If the following n is given as input to the program:<br>\n",
    "100<br>\n",
    "Then, the output of the program should be:<br>\n",
    "0,35,70<br>"
   ]
  },
  {
   "cell_type": "code",
   "execution_count": 35,
   "id": "18c2fad5",
   "metadata": {},
   "outputs": [],
   "source": [
    "def func1():\n",
    "    def temp(n):\n",
    "        for i in range(n+1):\n",
    "            if i%5 == 0 and i%7 ==0:\n",
    "                yield i\n",
    "    num = int(input(\"Enter a number\"))\n",
    "    l1 =[]\n",
    "    for i in temp(num):\n",
    "        l1.append(i)\n",
    "    l1 = list(map(str,l1))\n",
    "    return \",\".join(l1)"
   ]
  },
  {
   "cell_type": "code",
   "execution_count": 36,
   "id": "c5824f92",
   "metadata": {},
   "outputs": [
    {
     "name": "stdout",
     "output_type": "stream",
     "text": [
      "Enter a number100\n"
     ]
    },
    {
     "data": {
      "text/plain": [
       "'0,35,70'"
      ]
     },
     "execution_count": 36,
     "metadata": {},
     "output_type": "execute_result"
    }
   ],
   "source": [
    "func1()"
   ]
  },
  {
   "cell_type": "code",
   "execution_count": 37,
   "id": "9e3ff087",
   "metadata": {},
   "outputs": [
    {
     "name": "stdout",
     "output_type": "stream",
     "text": [
      "Enter a number500\n"
     ]
    },
    {
     "data": {
      "text/plain": [
       "'0,35,70,105,140,175,210,245,280,315,350,385,420,455,490'"
      ]
     },
     "execution_count": 37,
     "metadata": {},
     "output_type": "execute_result"
    }
   ],
   "source": [
    "func1()"
   ]
  },
  {
   "cell_type": "markdown",
   "id": "a67937db",
   "metadata": {},
   "source": [
    "### Question 2:<br>Please write a program using generator to print the even numbers between 0 and n in comma separated form while n is input by console.\n",
    "Example:<br>\n",
    "If the following n is given as input to the program:<br>\n",
    "10<br>\n",
    "Then, the output of the program should be:<br>\n",
    "0,2,4,6,8,10<br>"
   ]
  },
  {
   "cell_type": "code",
   "execution_count": 32,
   "id": "53d60666",
   "metadata": {},
   "outputs": [],
   "source": [
    "def func2():\n",
    "    def temp(n):\n",
    "        for i in range(n+1):\n",
    "            if i%2 == 0:\n",
    "                yield i\n",
    "    num = int(input(\"Enter a number\"))\n",
    "    l2=[]\n",
    "    for i in temp(num):\n",
    "        l2.append(i)\n",
    "    l2 = list(map(str,l2))\n",
    "    return \",\".join(l2)"
   ]
  },
  {
   "cell_type": "code",
   "execution_count": 33,
   "id": "41d0e0f5",
   "metadata": {},
   "outputs": [
    {
     "name": "stdout",
     "output_type": "stream",
     "text": [
      "Enter a number10\n"
     ]
    },
    {
     "data": {
      "text/plain": [
       "'0,2,4,6,8,10'"
      ]
     },
     "execution_count": 33,
     "metadata": {},
     "output_type": "execute_result"
    }
   ],
   "source": [
    "func2()"
   ]
  },
  {
   "cell_type": "code",
   "execution_count": 34,
   "id": "2c912ccb",
   "metadata": {},
   "outputs": [
    {
     "name": "stdout",
     "output_type": "stream",
     "text": [
      "Enter a number50\n"
     ]
    },
    {
     "data": {
      "text/plain": [
       "'0,2,4,6,8,10,12,14,16,18,20,22,24,26,28,30,32,34,36,38,40,42,44,46,48,50'"
      ]
     },
     "execution_count": 34,
     "metadata": {},
     "output_type": "execute_result"
    }
   ],
   "source": [
    "func2()"
   ]
  },
  {
   "cell_type": "markdown",
   "id": "afc7209e",
   "metadata": {},
   "source": [
    "### Question 3:\n",
    "### The Fibonacci Sequence is computed based on the following formula:<br>f(n)=0 if n=0<br>f(n)=1 if n=1<br>f(n)=f(n-1)+f(n-2) if n&gt;1<br>Please write a program using list comprehension to print the Fibonacci Sequence in comma separated form with a given n input by console.\n",
    "Example:<br>\n",
    "If the following n is given as input to the program:<br>\n",
    "7\n",
    "\n",
    "Then, the output of the program should be:<br>\n",
    "0,1,1,2,3,5,8,13<br>"
   ]
  },
  {
   "cell_type": "code",
   "execution_count": 30,
   "id": "a2b1c5b8",
   "metadata": {},
   "outputs": [],
   "source": [
    "def func3():\n",
    "    def temp(n):\n",
    "        if n == 0:\n",
    "            return 0\n",
    "        elif n ==1:\n",
    "            return 1\n",
    "        else:\n",
    "            return temp(n-1) + temp(n-2)\n",
    "    num = int(input(\"Enter a number\"))\n",
    "    l3 = [temp(i) for i in range(num+1)]\n",
    "    l3 = list(map(str,l3))\n",
    "    return \",\".join(l3)"
   ]
  },
  {
   "cell_type": "code",
   "execution_count": 31,
   "id": "8d4a970c",
   "metadata": {},
   "outputs": [
    {
     "name": "stdout",
     "output_type": "stream",
     "text": [
      "Enter a number7\n"
     ]
    },
    {
     "data": {
      "text/plain": [
       "'0,1,1,2,3,5,8,13'"
      ]
     },
     "execution_count": 31,
     "metadata": {},
     "output_type": "execute_result"
    }
   ],
   "source": [
    "func3()"
   ]
  },
  {
   "cell_type": "code",
   "execution_count": 38,
   "id": "5c880884",
   "metadata": {},
   "outputs": [
    {
     "name": "stdout",
     "output_type": "stream",
     "text": [
      "Enter a number15\n"
     ]
    },
    {
     "data": {
      "text/plain": [
       "'0,1,1,2,3,5,8,13,21,34,55,89,144,233,377,610'"
      ]
     },
     "execution_count": 38,
     "metadata": {},
     "output_type": "execute_result"
    }
   ],
   "source": [
    "func3()"
   ]
  },
  {
   "cell_type": "markdown",
   "id": "8531f59e",
   "metadata": {},
   "source": [
    "### Question 4:<br>Assuming that we have some email addresses in the &quot;username@companyname.com&quot; format, please write program to print the user name of a given email address. Both user names and company names are composed of letters only.\n",
    "Example:<br>\n",
    "If the following email address is given as input to the program:<br>\n",
    "john@google.com<br>\n",
    "Then, the output of the program should be:<br>\n",
    "john<br>"
   ]
  },
  {
   "cell_type": "code",
   "execution_count": 39,
   "id": "4fbb462a",
   "metadata": {},
   "outputs": [],
   "source": [
    "def func4(email):\n",
    "    return email.split(\"@\")[0]"
   ]
  },
  {
   "cell_type": "code",
   "execution_count": 40,
   "id": "b15894db",
   "metadata": {},
   "outputs": [
    {
     "data": {
      "text/plain": [
       "'john'"
      ]
     },
     "execution_count": 40,
     "metadata": {},
     "output_type": "execute_result"
    }
   ],
   "source": [
    "func4(\"john@google.com\")"
   ]
  },
  {
   "cell_type": "code",
   "execution_count": 41,
   "id": "1251a25f",
   "metadata": {},
   "outputs": [
    {
     "data": {
      "text/plain": [
       "'julia'"
      ]
     },
     "execution_count": 41,
     "metadata": {},
     "output_type": "execute_result"
    }
   ],
   "source": [
    "func4(\"julia@samsumg.com\")"
   ]
  },
  {
   "cell_type": "markdown",
   "id": "7275266d",
   "metadata": {},
   "source": [
    "### Question 5:<br>Define a class named Shape and its subclass Square. The Square class has an init function which takes a length as argument. Both classes have a area function which can print the area of the shape where Shape&#39;s area is 0 by default."
   ]
  },
  {
   "cell_type": "code",
   "execution_count": 42,
   "id": "7fc06521",
   "metadata": {},
   "outputs": [],
   "source": [
    "class Shape:\n",
    "    def area():\n",
    "        return 0\n",
    "class Square(Shape):\n",
    "    def __init__(self,length):\n",
    "        self.length = length\n",
    "    def area(self):\n",
    "        return self.length**2"
   ]
  },
  {
   "cell_type": "code",
   "execution_count": 43,
   "id": "4fbc3b5b",
   "metadata": {},
   "outputs": [],
   "source": [
    "s = Square(4)"
   ]
  },
  {
   "cell_type": "code",
   "execution_count": 44,
   "id": "e665062e",
   "metadata": {},
   "outputs": [
    {
     "data": {
      "text/plain": [
       "16"
      ]
     },
     "execution_count": 44,
     "metadata": {},
     "output_type": "execute_result"
    }
   ],
   "source": [
    "s.area()"
   ]
  },
  {
   "cell_type": "code",
   "execution_count": 45,
   "id": "43d2f2a1",
   "metadata": {},
   "outputs": [
    {
     "data": {
      "text/plain": [
       "0"
      ]
     },
     "execution_count": 45,
     "metadata": {},
     "output_type": "execute_result"
    }
   ],
   "source": [
    "Shape.area()"
   ]
  }
 ],
 "metadata": {
  "kernelspec": {
   "display_name": "Python 3 (ipykernel)",
   "language": "python",
   "name": "python3"
  },
  "language_info": {
   "codemirror_mode": {
    "name": "ipython",
    "version": 3
   },
   "file_extension": ".py",
   "mimetype": "text/x-python",
   "name": "python",
   "nbconvert_exporter": "python",
   "pygments_lexer": "ipython3",
   "version": "3.10.6"
  }
 },
 "nbformat": 4,
 "nbformat_minor": 5
}
