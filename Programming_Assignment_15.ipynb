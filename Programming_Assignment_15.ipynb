{
 "cells": [
  {
   "cell_type": "markdown",
   "id": "8401ea22",
   "metadata": {},
   "source": [
    "### Question 1:<br>Please write a program using generator to print the numbers which can be divisible by 5 and 7 between 0 and n in comma separated form while n is input by console.\n",
    "Example:<br>\n",
    "If the following n is given as input to the program:<br>\n",
    "100<br>\n",
    "Then, the output of the program should be:<br>\n",
    "0,35,70<br>"
   ]
  },
  {
   "cell_type": "code",
   "execution_count": 2,
   "id": "dd349b04",
   "metadata": {},
   "outputs": [],
   "source": [
    "def func1(n):\n",
    "    def temp(n):\n",
    "        for i in range(n+1):\n",
    "            if i%5 == 0 and i%7 ==0:\n",
    "                yield i\n",
    "    for i in temp(n):\n",
    "        print(i,end=\",\")"
   ]
  },
  {
   "cell_type": "code",
   "execution_count": 3,
   "id": "b4491c16",
   "metadata": {},
   "outputs": [
    {
     "name": "stdout",
     "output_type": "stream",
     "text": [
      "0,35,70,"
     ]
    }
   ],
   "source": [
    "func1(100)"
   ]
  },
  {
   "cell_type": "markdown",
   "id": "fa9130bb",
   "metadata": {},
   "source": [
    "### Question 2:<br>Please write a program using generator to print the even numbers between 0 and n in comma separated form while n is input by console.\n",
    "Example:<br>\n",
    "If the following n is given as input to the program:<br>\n",
    "10<br>\n",
    "Then, the output of the program should be:<br>\n",
    "0,2,4,6,8,10<br>"
   ]
  },
  {
   "cell_type": "code",
   "execution_count": 4,
   "id": "c1d8c31d",
   "metadata": {},
   "outputs": [],
   "source": [
    "def func2(n):\n",
    "    def temp(n):\n",
    "        for i in range(n+1):\n",
    "            if i%2 == 0:\n",
    "                yield i\n",
    "    for i in temp(n):\n",
    "        print(i, end=\",\")"
   ]
  },
  {
   "cell_type": "code",
   "execution_count": 5,
   "id": "6b38c470",
   "metadata": {},
   "outputs": [
    {
     "name": "stdout",
     "output_type": "stream",
     "text": [
      "0,2,4,6,8,10,"
     ]
    }
   ],
   "source": [
    "func2(10)"
   ]
  },
  {
   "cell_type": "code",
   "execution_count": 6,
   "id": "f9fb1e79",
   "metadata": {},
   "outputs": [
    {
     "name": "stdout",
     "output_type": "stream",
     "text": [
      "0,2,4,6,8,10,12,14,16,18,20,22,24,26,28,30,32,34,36,38,40,42,44,46,48,50,"
     ]
    }
   ],
   "source": [
    "func2(50)"
   ]
  },
  {
   "cell_type": "markdown",
   "id": "57487eee",
   "metadata": {},
   "source": [
    "### Question 3:\n",
    "### The Fibonacci Sequence is computed based on the following formula:<br>f(n)=0 if n=0<br>f(n)=1 if n=1<br>f(n)=f(n-1)+f(n-2) if n&gt;1<br>Please write a program using list comprehension to print the Fibonacci Sequence in comma separated form with a given n input by console.\n",
    "Example:<br>\n",
    "If the following n is given as input to the program:<br>\n",
    "7\n",
    "\n",
    "Then, the output of the program should be:<br>\n",
    "0,1,1,2,3,5,8,13<br>"
   ]
  },
  {
   "cell_type": "code",
   "execution_count": 12,
   "id": "9b5184e3",
   "metadata": {},
   "outputs": [],
   "source": [
    "def func3(num):\n",
    "    def temp(n):\n",
    "        if n == 0:\n",
    "            return 0\n",
    "        elif n ==1:\n",
    "            return 1\n",
    "        else:\n",
    "            return temp(n-1) + temp(n-2)\n",
    "    for i in range(num+1):\n",
    "        print(temp(i),end=\",\")"
   ]
  },
  {
   "cell_type": "code",
   "execution_count": 13,
   "id": "2681a126",
   "metadata": {},
   "outputs": [
    {
     "name": "stdout",
     "output_type": "stream",
     "text": [
      "0,1,1,2,3,5,8,13,"
     ]
    }
   ],
   "source": [
    "func3(7)"
   ]
  },
  {
   "cell_type": "code",
   "execution_count": 14,
   "id": "80e40af9",
   "metadata": {},
   "outputs": [
    {
     "name": "stdout",
     "output_type": "stream",
     "text": [
      "0,1,1,2,3,5,8,13,21,34,55,89,144,233,377,610,"
     ]
    }
   ],
   "source": [
    "func3(15)"
   ]
  },
  {
   "cell_type": "markdown",
   "id": "3607e44b",
   "metadata": {},
   "source": [
    "### Question 4:<br>Assuming that we have some email addresses in the &quot;username@companyname.com&quot; format, please write program to print the user name of a given email address. Both user names and company names are composed of letters only.\n",
    "Example:<br>\n",
    "If the following email address is given as input to the program:<br>\n",
    "john@google.com<br>\n",
    "Then, the output of the program should be:<br>\n",
    "john<br>"
   ]
  },
  {
   "cell_type": "code",
   "execution_count": 15,
   "id": "ba864593",
   "metadata": {},
   "outputs": [],
   "source": [
    "def func4(email):\n",
    "    return email.split(\"@\")[0]"
   ]
  },
  {
   "cell_type": "code",
   "execution_count": 16,
   "id": "61a914be",
   "metadata": {},
   "outputs": [
    {
     "data": {
      "text/plain": [
       "'john'"
      ]
     },
     "execution_count": 16,
     "metadata": {},
     "output_type": "execute_result"
    }
   ],
   "source": [
    "func4(\"john@google.com\")"
   ]
  },
  {
   "cell_type": "code",
   "execution_count": 17,
   "id": "1709745e",
   "metadata": {},
   "outputs": [
    {
     "data": {
      "text/plain": [
       "'julia'"
      ]
     },
     "execution_count": 17,
     "metadata": {},
     "output_type": "execute_result"
    }
   ],
   "source": [
    "func4(\"julia@samsumg.com\")"
   ]
  },
  {
   "cell_type": "markdown",
   "id": "90f80efa",
   "metadata": {},
   "source": [
    "### Question 5:<br>Define a class named Shape and its subclass Square. The Square class has an init function which takes a length as argument. Both classes have a area function which can print the area of the shape where Shape&#39;s area is 0 by default."
   ]
  },
  {
   "cell_type": "code",
   "execution_count": 18,
   "id": "fba6d629",
   "metadata": {},
   "outputs": [],
   "source": [
    "class Shape:\n",
    "    def area():\n",
    "        return 0\n",
    "class Square(Shape):\n",
    "    def __init__(self,length):\n",
    "        self.length = length\n",
    "    def area(self):\n",
    "        return self.length**2"
   ]
  },
  {
   "cell_type": "code",
   "execution_count": 19,
   "id": "a34486c1",
   "metadata": {},
   "outputs": [],
   "source": [
    "s = Square(4)"
   ]
  },
  {
   "cell_type": "code",
   "execution_count": 20,
   "id": "09ab8f56",
   "metadata": {},
   "outputs": [
    {
     "data": {
      "text/plain": [
       "16"
      ]
     },
     "execution_count": 20,
     "metadata": {},
     "output_type": "execute_result"
    }
   ],
   "source": [
    "s.area()"
   ]
  },
  {
   "cell_type": "code",
   "execution_count": 21,
   "id": "320d09d5",
   "metadata": {},
   "outputs": [
    {
     "data": {
      "text/plain": [
       "0"
      ]
     },
     "execution_count": 21,
     "metadata": {},
     "output_type": "execute_result"
    }
   ],
   "source": [
    "Shape.area()"
   ]
  }
 ],
 "metadata": {
  "kernelspec": {
   "display_name": "Python 3 (ipykernel)",
   "language": "python",
   "name": "python3"
  },
  "language_info": {
   "codemirror_mode": {
    "name": "ipython",
    "version": 3
   },
   "file_extension": ".py",
   "mimetype": "text/x-python",
   "name": "python",
   "nbconvert_exporter": "python",
   "pygments_lexer": "ipython3",
   "version": "3.10.6"
  }
 },
 "nbformat": 4,
 "nbformat_minor": 5
}
