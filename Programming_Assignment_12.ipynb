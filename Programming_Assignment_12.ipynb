{
 "cells": [
  {
   "cell_type": "raw",
   "id": "e541e637",
   "metadata": {},
   "source": [
    "1. Write a Python program to Extract Unique values dictionary values?\n",
    "2. Write a Python program to find the sum of all items in a dictionary?\n",
    "3. Write a Python program to Merging two Dictionaries?\n",
    "4. Write a Python program to convert key-values list to flat dictionary?\n",
    "5. Write a Python program to insertion at the beginning in OrderedDict?\n",
    "6. Write a Python program to check order of character in string using OrderedDict()?\n",
    "7. Write a Python program to sort Python Dictionaries by Key or Value?"
   ]
  },
  {
   "cell_type": "markdown",
   "id": "0974a2e8",
   "metadata": {},
   "source": [
    "### 1. Write a Python program to Extract Unique values dictionary values?"
   ]
  },
  {
   "cell_type": "code",
   "execution_count": 1,
   "id": "7b118d14",
   "metadata": {},
   "outputs": [],
   "source": [
    "def func1(d):\n",
    "    return set(d.values())"
   ]
  },
  {
   "cell_type": "code",
   "execution_count": 2,
   "id": "6e09cbd0",
   "metadata": {},
   "outputs": [
    {
     "data": {
      "text/plain": [
       "{'bike', 'car'}"
      ]
     },
     "execution_count": 2,
     "metadata": {},
     "output_type": "execute_result"
    }
   ],
   "source": [
    "owns = {\"mahesh\": \"car\",\"manohar\":\"bike\", \"deepak\":\"car\", \"shubham\": \"bike\", \"ashish\":\"bike\"}\n",
    "func1(owns)"
   ]
  },
  {
   "cell_type": "markdown",
   "id": "c6a67b12",
   "metadata": {},
   "source": [
    "### 2. Write a Python program to find the sum of all items in a dictionary?"
   ]
  },
  {
   "cell_type": "code",
   "execution_count": 3,
   "id": "bfc58f00",
   "metadata": {},
   "outputs": [],
   "source": [
    "def func2(d):\n",
    "    return sum(d.values())"
   ]
  },
  {
   "cell_type": "code",
   "execution_count": 4,
   "id": "901c5fd2",
   "metadata": {},
   "outputs": [
    {
     "data": {
      "text/plain": [
       "377"
      ]
     },
     "execution_count": 4,
     "metadata": {},
     "output_type": "execute_result"
    }
   ],
   "source": [
    "scores = {\"a\":78, \"b\":66,\"c\":73, \"d\": 89, \"e\": 71}\n",
    "func2(scores)"
   ]
  },
  {
   "cell_type": "markdown",
   "id": "fccd0f61",
   "metadata": {},
   "source": [
    "### 3. Write a Python program to Merging two Dictionaries?"
   ]
  },
  {
   "cell_type": "code",
   "execution_count": 41,
   "id": "c2c020eb",
   "metadata": {},
   "outputs": [],
   "source": [
    "def func3(dict1,dict2):\n",
    "    dict1.update(dict2)\n",
    "    return dict1"
   ]
  },
  {
   "cell_type": "code",
   "execution_count": 37,
   "id": "baf9edf3",
   "metadata": {},
   "outputs": [],
   "source": [
    "i = {\"a\": 1, \"b\":2, \"c\":3}\n",
    "j = {\"d\": 4, \"e\":5, \"f\":6}"
   ]
  },
  {
   "cell_type": "code",
   "execution_count": 42,
   "id": "afbf4079",
   "metadata": {},
   "outputs": [
    {
     "data": {
      "text/plain": [
       "{'a': 1, 'b': 2, 'c': 3, 'd': 4, 'e': 5, 'f': 6}"
      ]
     },
     "execution_count": 42,
     "metadata": {},
     "output_type": "execute_result"
    }
   ],
   "source": [
    "func3(i,j)"
   ]
  },
  {
   "cell_type": "markdown",
   "id": "2d6c9f82",
   "metadata": {},
   "source": [
    "### 4. Write a Python program to convert key-values list to flat dictionary?"
   ]
  },
  {
   "cell_type": "code",
   "execution_count": 19,
   "id": "a05cd9e7",
   "metadata": {},
   "outputs": [],
   "source": [
    "def func4(list1,list2):\n",
    "    return dict(zip(list1,list2))"
   ]
  },
  {
   "cell_type": "code",
   "execution_count": 20,
   "id": "d5c35f84",
   "metadata": {},
   "outputs": [
    {
     "data": {
      "text/plain": [
       "{'a': 1, 'b': 2, 'c': 3}"
      ]
     },
     "execution_count": 20,
     "metadata": {},
     "output_type": "execute_result"
    }
   ],
   "source": [
    "keys = [\"a\",\"b\",\"c\"]\n",
    "vals = [1,2,3]\n",
    "\n",
    "func4(keys,vals)"
   ]
  },
  {
   "cell_type": "markdown",
   "id": "20854c53",
   "metadata": {},
   "source": [
    "### 5. Write a Python program to insertion at the beginning in OrderedDict?"
   ]
  },
  {
   "cell_type": "code",
   "execution_count": 33,
   "id": "25cfac4a",
   "metadata": {},
   "outputs": [],
   "source": [
    "def func5(key_value_pair,d):\n",
    "    d.update(key_value_pair)\n",
    "    d.move_to_end(list(key_value_pair.keys())[0],last=False)\n",
    "    return d"
   ]
  },
  {
   "cell_type": "code",
   "execution_count": 34,
   "id": "4d8d030b",
   "metadata": {},
   "outputs": [],
   "source": [
    "from collections import OrderedDict\n",
    "d = OrderedDict({'a': 1, 'b': 2, 'c': 3})"
   ]
  },
  {
   "cell_type": "code",
   "execution_count": 35,
   "id": "769e52d9",
   "metadata": {},
   "outputs": [
    {
     "data": {
      "text/plain": [
       "OrderedDict([('f', 6), ('a', 1), ('b', 2), ('c', 3)])"
      ]
     },
     "execution_count": 35,
     "metadata": {},
     "output_type": "execute_result"
    }
   ],
   "source": [
    "func5({\"f\":6},d)"
   ]
  },
  {
   "cell_type": "markdown",
   "id": "eab38766",
   "metadata": {},
   "source": [
    "### 6. Write a Python program to check order of character in string using OrderedDict()?"
   ]
  },
  {
   "cell_type": "code",
   "execution_count": 43,
   "id": "4a1003ee",
   "metadata": {},
   "outputs": [],
   "source": [
    "def func6(string, pattern):\n",
    "    d = OrderedDict.fromkeys(string)\n",
    "    ptrlen = 0\n",
    "    for key in d.keys():\n",
    "        if (key == pattern[ptrlen]):\n",
    "            ptrlen = ptrlen + 1\n",
    "        if (ptrlen == (len(pattern))):\n",
    "            return True\n",
    "    return False"
   ]
  },
  {
   "cell_type": "code",
   "execution_count": 47,
   "id": "c44811b4",
   "metadata": {},
   "outputs": [
    {
     "data": {
      "text/plain": [
       "True"
      ]
     },
     "execution_count": 47,
     "metadata": {},
     "output_type": "execute_result"
    }
   ],
   "source": [
    "func6(\"abcdabaabc\",\"bc\")"
   ]
  },
  {
   "cell_type": "markdown",
   "id": "943f0d32",
   "metadata": {},
   "source": [
    "### 7. Write a Python program to sort Python Dictionaries by Key or Value?"
   ]
  },
  {
   "cell_type": "code",
   "execution_count": 64,
   "id": "61ae1fbd",
   "metadata": {},
   "outputs": [],
   "source": [
    "def func7(d,sort_using_key = True):\n",
    "    if sort_using_key:\n",
    "        return sorted(d.items(),key=keys)\n",
    "    else:\n",
    "        return sorted(d.items(),key=vals)"
   ]
  },
  {
   "cell_type": "code",
   "execution_count": 67,
   "id": "1fa8501e",
   "metadata": {},
   "outputs": [],
   "source": [
    "def keys(a):\n",
    "    return a[0]\n",
    "def vals(b):\n",
    "    return b[1]"
   ]
  },
  {
   "cell_type": "code",
   "execution_count": 68,
   "id": "523cb869",
   "metadata": {},
   "outputs": [],
   "source": [
    "d7 = {'a': 1, 'c': 2, 'b': 3}"
   ]
  },
  {
   "cell_type": "code",
   "execution_count": 69,
   "id": "09acae75",
   "metadata": {},
   "outputs": [
    {
     "data": {
      "text/plain": [
       "[('a', 1), ('b', 3), ('c', 2)]"
      ]
     },
     "execution_count": 69,
     "metadata": {},
     "output_type": "execute_result"
    }
   ],
   "source": [
    "# sorting based on keys\n",
    "func7(d7,True)"
   ]
  },
  {
   "cell_type": "code",
   "execution_count": 70,
   "id": "4814be78",
   "metadata": {},
   "outputs": [
    {
     "data": {
      "text/plain": [
       "[('a', 1), ('c', 2), ('b', 3)]"
      ]
     },
     "execution_count": 70,
     "metadata": {},
     "output_type": "execute_result"
    }
   ],
   "source": [
    "# sorting based on values\n",
    "func7(d7,False)"
   ]
  }
 ],
 "metadata": {
  "kernelspec": {
   "display_name": "Python 3 (ipykernel)",
   "language": "python",
   "name": "python3"
  },
  "language_info": {
   "codemirror_mode": {
    "name": "ipython",
    "version": 3
   },
   "file_extension": ".py",
   "mimetype": "text/x-python",
   "name": "python",
   "nbconvert_exporter": "python",
   "pygments_lexer": "ipython3",
   "version": "3.10.6"
  }
 },
 "nbformat": 4,
 "nbformat_minor": 5
}
