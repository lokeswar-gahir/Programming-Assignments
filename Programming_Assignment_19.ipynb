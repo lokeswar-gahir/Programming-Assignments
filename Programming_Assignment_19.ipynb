{
 "cells": [
  {
   "cell_type": "markdown",
   "id": "6510f81b",
   "metadata": {},
   "source": [
    "### Question1<br>Create a function that takes a string and returns a string in which each character is repeated once.\n",
    "Examples<br>\n",
    "double_char(&quot;String&quot;) ➞ &quot;SSttrriinngg&quot;<br>\n",
    "double_char(&quot;Hello World!&quot;) ➞ &quot;HHeelllloo WWoorrlldd!!&quot;<br>\n",
    "double_char(&quot;1234!_ &quot;) ➞ &quot;11223344!!__ &quot;"
   ]
  },
  {
   "cell_type": "code",
   "execution_count": 1,
   "id": "ece0b0c3",
   "metadata": {},
   "outputs": [],
   "source": [
    "def double_char(string):\n",
    "    result =\"\"\n",
    "    for c in string:\n",
    "        for _ in range(2):\n",
    "            result += c\n",
    "    return result"
   ]
  },
  {
   "cell_type": "code",
   "execution_count": 2,
   "id": "847590e1",
   "metadata": {},
   "outputs": [
    {
     "data": {
      "text/plain": [
       "'SSttrriinngg'"
      ]
     },
     "execution_count": 2,
     "metadata": {},
     "output_type": "execute_result"
    }
   ],
   "source": [
    "double_char(\"String\")"
   ]
  },
  {
   "cell_type": "code",
   "execution_count": 3,
   "id": "380f3166",
   "metadata": {},
   "outputs": [
    {
     "data": {
      "text/plain": [
       "'11223344!!__  '"
      ]
     },
     "execution_count": 3,
     "metadata": {},
     "output_type": "execute_result"
    }
   ],
   "source": [
    "double_char(\"1234!_ \")"
   ]
  },
  {
   "cell_type": "markdown",
   "id": "b8170b34",
   "metadata": {},
   "source": [
    "### Question2<br>Create a function that reverses a boolean value and returns the string &quot;boolean expected&quot; if another variable type is given.\n",
    "Examples<br>\n",
    "reverse(True) ➞ False<br>\n",
    "reverse(False) ➞ True<br>\n",
    "reverse(0) ➞ &quot;boolean expected&quot;<br>\n",
    "reverse(None) ➞ &quot;boolean expected&quot;<br>"
   ]
  },
  {
   "cell_type": "code",
   "execution_count": 8,
   "id": "0b396e1e",
   "metadata": {},
   "outputs": [],
   "source": [
    "def reverse(boolean):\n",
    "    if type(boolean) != bool:\n",
    "        return f\"boolean expected\"\n",
    "    elif boolean == True :\n",
    "        return False\n",
    "    elif boolean == False:\n",
    "        return True\n",
    "    "
   ]
  },
  {
   "cell_type": "code",
   "execution_count": 9,
   "id": "5439b416",
   "metadata": {},
   "outputs": [
    {
     "data": {
      "text/plain": [
       "True"
      ]
     },
     "execution_count": 9,
     "metadata": {},
     "output_type": "execute_result"
    }
   ],
   "source": [
    "reverse(False)"
   ]
  },
  {
   "cell_type": "code",
   "execution_count": 10,
   "id": "12b5a162",
   "metadata": {},
   "outputs": [
    {
     "data": {
      "text/plain": [
       "'boolean expected'"
      ]
     },
     "execution_count": 10,
     "metadata": {},
     "output_type": "execute_result"
    }
   ],
   "source": [
    "reverse(0)"
   ]
  },
  {
   "cell_type": "code",
   "execution_count": 11,
   "id": "fe14867c",
   "metadata": {},
   "outputs": [
    {
     "data": {
      "text/plain": [
       "'boolean expected'"
      ]
     },
     "execution_count": 11,
     "metadata": {},
     "output_type": "execute_result"
    }
   ],
   "source": [
    "reverse(None)"
   ]
  },
  {
   "cell_type": "markdown",
   "id": "06a15440",
   "metadata": {},
   "source": [
    "### Question3<br>Create a function that returns the thickness (in meters) of a piece of paper after folding it n number of times. The paper starts off with a thickness of 0.5mm.\n",
    "Examples<br>\n",
    "num_layers(1) ➞ &quot;0.001m&quot;<br>\n",
    "\\# Paper folded once is 1mm (equal to 0.001m)<br>\n",
    "num_layers(4) ➞ &quot;0.008m&quot;<br>\n",
    "\\# Paper folded 4 times is 8mm (equal to 0.008m)<br>\n",
    "num_layers(21) ➞ &quot;1048.576m&quot;<br>\n",
    "\\# Paper folded 21 times is 1048576mm (equal to 1048.576m)"
   ]
  },
  {
   "cell_type": "code",
   "execution_count": 17,
   "id": "aa9f27ee",
   "metadata": {},
   "outputs": [],
   "source": [
    "def num_layers(n):\n",
    "    page_count = 2**n\n",
    "    thickness_mm = 0.5 *page_count\n",
    "    thickness_m = thickness_mm/1000\n",
    "    return f\"{round(thickness_m,3)}m\""
   ]
  },
  {
   "cell_type": "code",
   "execution_count": 18,
   "id": "4ef14b4a",
   "metadata": {},
   "outputs": [
    {
     "data": {
      "text/plain": [
       "'1048.576m'"
      ]
     },
     "execution_count": 18,
     "metadata": {},
     "output_type": "execute_result"
    }
   ],
   "source": [
    "num_layers(21)"
   ]
  },
  {
   "cell_type": "code",
   "execution_count": 19,
   "id": "8db3172b",
   "metadata": {},
   "outputs": [
    {
     "data": {
      "text/plain": [
       "'0.001m'"
      ]
     },
     "execution_count": 19,
     "metadata": {},
     "output_type": "execute_result"
    }
   ],
   "source": [
    "num_layers(1)"
   ]
  },
  {
   "cell_type": "code",
   "execution_count": 20,
   "id": "0d19e4fa",
   "metadata": {},
   "outputs": [
    {
     "data": {
      "text/plain": [
       "'0.016m'"
      ]
     },
     "execution_count": 20,
     "metadata": {},
     "output_type": "execute_result"
    }
   ],
   "source": [
    "num_layers(5)"
   ]
  },
  {
   "cell_type": "markdown",
   "id": "9a8bd379",
   "metadata": {},
   "source": [
    "### Question4<br>Create a function that takes a single string as argument and returns an ordered list containing the indices of all capital letters in the string.\n",
    "Examples<br>\n",
    "index_of_caps(&quot;eDaBiT&quot;) ➞ [1, 3, 5]<br>\n",
    "index_of_caps(&quot;eQuINoX&quot;) ➞ [1, 3, 4, 6]<br>\n",
    "index_of_caps(&quot;determine&quot;) ➞ []<br>\n",
    "index_of_caps(&quot;STRIKE&quot;) ➞ [0, 1, 2, 3, 4, 5]<br>\n",
    "index_of_caps(&quot;sUn&quot;) ➞ [1]<br>"
   ]
  },
  {
   "cell_type": "code",
   "execution_count": 21,
   "id": "0b13aeb6",
   "metadata": {},
   "outputs": [],
   "source": [
    "def index_of_caps(string):\n",
    "    result = []\n",
    "    for i,c in enumerate(string):\n",
    "        if c.isupper():\n",
    "            result.append(i)\n",
    "    return result"
   ]
  },
  {
   "cell_type": "code",
   "execution_count": 22,
   "id": "3c551e99",
   "metadata": {},
   "outputs": [
    {
     "data": {
      "text/plain": [
       "[1, 3, 4, 6]"
      ]
     },
     "execution_count": 22,
     "metadata": {},
     "output_type": "execute_result"
    }
   ],
   "source": [
    "index_of_caps(\"eQuINoX\")"
   ]
  },
  {
   "cell_type": "code",
   "execution_count": 23,
   "id": "e06340ef",
   "metadata": {},
   "outputs": [
    {
     "data": {
      "text/plain": [
       "[0, 1, 2, 3, 4, 5]"
      ]
     },
     "execution_count": 23,
     "metadata": {},
     "output_type": "execute_result"
    }
   ],
   "source": [
    "index_of_caps(\"STRIKE\")"
   ]
  },
  {
   "cell_type": "markdown",
   "id": "7a4cbacd",
   "metadata": {},
   "source": [
    "### Question5<br>Using list comprehensions, create a function that finds all even numbers from 1 to the given number.\n",
    "Examples<br>\n",
    "find_even_nums(8) ➞ [2, 4, 6, 8]<br>\n",
    "find_even_nums(4) ➞ [2, 4]<br>\n",
    "find_even_nums(2) ➞ [2]"
   ]
  },
  {
   "cell_type": "code",
   "execution_count": 29,
   "id": "f883cd80",
   "metadata": {},
   "outputs": [],
   "source": [
    "def find_even_nums(n):\n",
    "    return [i for i in range(1,n+1) if i%2 ==0]"
   ]
  },
  {
   "cell_type": "code",
   "execution_count": 30,
   "id": "6d1e2064",
   "metadata": {},
   "outputs": [
    {
     "data": {
      "text/plain": [
       "[2, 4, 6, 8]"
      ]
     },
     "execution_count": 30,
     "metadata": {},
     "output_type": "execute_result"
    }
   ],
   "source": [
    "find_even_nums(8)"
   ]
  },
  {
   "cell_type": "code",
   "execution_count": 31,
   "id": "01272c79",
   "metadata": {},
   "outputs": [
    {
     "data": {
      "text/plain": [
       "[2]"
      ]
     },
     "execution_count": 31,
     "metadata": {},
     "output_type": "execute_result"
    }
   ],
   "source": [
    "find_even_nums(2)"
   ]
  }
 ],
 "metadata": {
  "kernelspec": {
   "display_name": "Python 3 (ipykernel)",
   "language": "python",
   "name": "python3"
  },
  "language_info": {
   "codemirror_mode": {
    "name": "ipython",
    "version": 3
   },
   "file_extension": ".py",
   "mimetype": "text/x-python",
   "name": "python",
   "nbconvert_exporter": "python",
   "pygments_lexer": "ipython3",
   "version": "3.10.6"
  }
 },
 "nbformat": 4,
 "nbformat_minor": 5
}
