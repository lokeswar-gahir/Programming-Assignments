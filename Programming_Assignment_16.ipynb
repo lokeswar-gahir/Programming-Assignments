{
 "cells": [
  {
   "cell_type": "raw",
   "id": "53594dd7",
   "metadata": {},
   "source": [
    "Question1. Write a function that stutters a word as if someone is struggling to read it. The\n",
    "first two letters are repeated twice with an ellipsis ... and space after each, and then the\n",
    "word is pronounced with a question mark ?.\n",
    "Examples\n",
    "stutter(&quot;incredible&quot;) ➞ &quot;in... in... incredible?&quot;\n",
    "stutter(&quot;enthusiastic&quot;) ➞ &quot;en... en... enthusiastic?&quot;\n",
    "stutter(&quot;outstanding&quot;) ➞ &quot;ou... ou... outstanding?&quot;\n",
    "\n",
    "Hint :- Assume all input is in lower case and at least two characters long.\n",
    "\n",
    "Question 2.Create a function that takes an angle in radians and returns the corresponding\n",
    "angle in degrees rounded to one decimal place.\n",
    "Examples\n",
    "radians_to_degrees(1) ➞ 57.3\n",
    "radians_to_degrees(20) ➞ 1145.9\n",
    "radians_to_degrees(50) ➞ 2864.8\n",
    "\n",
    "Question 3. In this challenge, establish if a given integer num is a Curzon number. If 1 plus\n",
    "2 elevated to num is exactly divisible by 1 plus 2 multiplied by num, then num is a Curzon\n",
    "number.\n",
    "Given a non-negative integer num, implement a function that returns True if num is a Curzon\n",
    "number, or False otherwise.\n",
    "Examples\n",
    "__is_curzon(5) ➞ True\n__",
    "2 ** 5 + 1 = 33\n",
    "#2 * 5 + 1 = 11\n",
    "#33 is a multiple of 11\n",
    "is_curzon(10) ➞ False\n",
    "#2 ** 10 + 1 = 1025\n",
    "#2 * 10 + 1 = 21\n",
    "#1025 is not a multiple of 21\n",
    "is_curzon(14) ➞ True\n",
    "#2 ** 14 + 1 = 16385\n",
    "#2 * 14 + 1 = 29\n",
    "#16385 is a multiple of 29\n",
    "\n",
    "Question 4.Given the side length x find the area of a hexagon.\n",
    "\n",
    "Examples\n",
    "area_of_hexagon(1) ➞ 2.6\n",
    "area_of_hexagon(2) ➞ 10.4\n",
    "area_of_hexagon(3) ➞ 23.4\n",
    "\n",
    "Question 5. Create a function that returns a base-2 (binary) representation of a base-10\n",
    "(decimal) string number. To convert is simple: ((2) means base-2 and (10) means base-10)\n",
    "010101001(2) = 1 + 8 + 32 + 128.\n",
    "Going from right to left, the value of the most right bit is 1, now from that every bit to the left\n",
    "will be x2 the value, value of an 8 bit binary numbers are (256, 128, 64, 32, 16, 8, 4, 2, 1).\n",
    "Examples\n",
    "binary(1) ➞ &quot;1&quot;\n",
    "#1*1 = 1\n",
    "binary(5) ➞ &quot;101&quot;\n",
    "#1*1 + 1*4 = 5\n",
    "binary(10) ➞ &quot;1010&quot;\n",
    "#1*2 + 1*8 = 10"
   ]
  },
  {
   "cell_type": "markdown",
   "id": "50d6ddec",
   "metadata": {},
   "source": [
    "### Question1.<br>Write a function that stutters a word as if someone is struggling to read it. The first two letters are repeated twice with an ellipsis ... and space after each, and then the word is pronounced with a question mark ?.\n",
    "Examples<br>\n",
    "stutter(&quot;incredible&quot;) ➞ &quot;in... in... incredible?&quot;<br>\n",
    "stutter(&quot;enthusiastic&quot;) ➞ &quot;en... en... enthusiastic?&quot;<br>\n",
    "stutter(&quot;outstanding&quot;) ➞ &quot;ou... ou... outstanding?&quot;<br>\n",
    "\n",
    "Hint :- Assume all input is in lower case and at least two characters long."
   ]
  },
  {
   "cell_type": "code",
   "execution_count": 3,
   "id": "dcb53746",
   "metadata": {},
   "outputs": [],
   "source": [
    "def stutter(string):\n",
    "    return f\"{string[:2]}... {string[0:2]}... {string}?\""
   ]
  },
  {
   "cell_type": "code",
   "execution_count": 4,
   "id": "5ed29e6d",
   "metadata": {},
   "outputs": [
    {
     "data": {
      "text/plain": [
       "'in... in... incredible?'"
      ]
     },
     "execution_count": 4,
     "metadata": {},
     "output_type": "execute_result"
    }
   ],
   "source": [
    "stutter(\"incredible\")"
   ]
  },
  {
   "cell_type": "code",
   "execution_count": 5,
   "id": "d2b2f2b5",
   "metadata": {},
   "outputs": [
    {
     "data": {
      "text/plain": [
       "'en... en... enthusiastic?'"
      ]
     },
     "execution_count": 5,
     "metadata": {},
     "output_type": "execute_result"
    }
   ],
   "source": [
    "stutter(\"enthusiastic\")"
   ]
  },
  {
   "cell_type": "code",
   "execution_count": 7,
   "id": "a1503c7c",
   "metadata": {},
   "outputs": [
    {
     "data": {
      "text/plain": [
       "'he... he... hello?'"
      ]
     },
     "execution_count": 7,
     "metadata": {},
     "output_type": "execute_result"
    }
   ],
   "source": [
    "stutter(\"hello\")"
   ]
  },
  {
   "cell_type": "markdown",
   "id": "f2a84e3e",
   "metadata": {},
   "source": [
    "### Question 2.Create a function that takes an angle in radians and returns the corresponding angle in degrees rounded to one decimal place.\n",
    "Examples<br>\n",
    "radians_to_degrees(1) ➞ 57.3<br>\n",
    "radians_to_degrees(20) ➞ 1145.9<br>\n",
    "radians_to_degrees(50) ➞ 2864.8<br>"
   ]
  },
  {
   "cell_type": "code",
   "execution_count": 15,
   "id": "a8fb63d5",
   "metadata": {},
   "outputs": [],
   "source": [
    "def radian_to_degree(rad):\n",
    "    result = (180/math.pi)*rad\n",
    "    return round(result,1)"
   ]
  },
  {
   "cell_type": "code",
   "execution_count": 16,
   "id": "d48e7e4d",
   "metadata": {},
   "outputs": [
    {
     "data": {
      "text/plain": [
       "1145.9"
      ]
     },
     "execution_count": 16,
     "metadata": {},
     "output_type": "execute_result"
    }
   ],
   "source": [
    "radian_to_degree(20)"
   ]
  },
  {
   "cell_type": "code",
   "execution_count": 17,
   "id": "a0e2a8ea",
   "metadata": {},
   "outputs": [
    {
     "data": {
      "text/plain": [
       "2864.8"
      ]
     },
     "execution_count": 17,
     "metadata": {},
     "output_type": "execute_result"
    }
   ],
   "source": [
    "radian_to_degree(50)"
   ]
  },
  {
   "cell_type": "code",
   "execution_count": 18,
   "id": "6d3dbe9d",
   "metadata": {},
   "outputs": [
    {
     "data": {
      "text/plain": [
       "1604.3"
      ]
     },
     "execution_count": 18,
     "metadata": {},
     "output_type": "execute_result"
    }
   ],
   "source": [
    "radian_to_degree(28)"
   ]
  },
  {
   "cell_type": "markdown",
   "id": "eafe1dc1",
   "metadata": {},
   "source": [
    "### Question 3. In this challenge, establish if a given integer num is a Curzon number. If 1 plus 2 elevated to num is exactly divisible by 1 plus 2 multiplied by num, then num is a Curzon number. Given a non-negative integer num, implement a function that returns True if num is a Curzon number, or False otherwise.\n",
    "Examples:<br>\n",
    "is_curzon(5) ➞ True<br>\n",
    "#2 ** 5 + 1 = 33<br>\n",
    "#2 * 5 + 1 = 11<br>\n",
    "#33 is a multiple of 11<br>\n",
    "is_curzon(10) ➞ False<br>\n",
    "#2 ** 10 + 1 = 1025<br>\n",
    "#2 * 10 + 1 = 21<br>\n",
    "#1025 is not a multiple of 21<br>\n",
    "is_curzon(14) ➞ True<br>\n",
    "#2 ** 14 + 1 = 16385<br>\n",
    "#2 * 14 + 1 = 29<br>\n",
    "#16385 is a multiple of 29<br>"
   ]
  },
  {
   "cell_type": "code",
   "execution_count": 21,
   "id": "c84aee7f",
   "metadata": {},
   "outputs": [],
   "source": [
    "def is_curzon(n):\n",
    "    den = (2*n) +1\n",
    "    num = (2**n)+1\n",
    "    return (num%den) == 0"
   ]
  },
  {
   "cell_type": "code",
   "execution_count": 22,
   "id": "122293dd",
   "metadata": {},
   "outputs": [
    {
     "data": {
      "text/plain": [
       "True"
      ]
     },
     "execution_count": 22,
     "metadata": {},
     "output_type": "execute_result"
    }
   ],
   "source": [
    "is_curzon(5)"
   ]
  },
  {
   "cell_type": "code",
   "execution_count": 23,
   "id": "e8dff5c4",
   "metadata": {},
   "outputs": [
    {
     "data": {
      "text/plain": [
       "False"
      ]
     },
     "execution_count": 23,
     "metadata": {},
     "output_type": "execute_result"
    }
   ],
   "source": [
    "is_curzon(10)"
   ]
  },
  {
   "cell_type": "code",
   "execution_count": 24,
   "id": "05af610d",
   "metadata": {},
   "outputs": [
    {
     "data": {
      "text/plain": [
       "True"
      ]
     },
     "execution_count": 24,
     "metadata": {},
     "output_type": "execute_result"
    }
   ],
   "source": [
    "is_curzon(14)"
   ]
  },
  {
   "cell_type": "markdown",
   "id": "9cd269d9",
   "metadata": {},
   "source": [
    "### Question 4.Given the side length x find the area of a hexagon.\n",
    "\n",
    "Examples:<br>\n",
    "area_of_hexagon(1) ➞ 2.6<br>\n",
    "area_of_hexagon(2) ➞ 10.4<br>\n",
    "area_of_hexagon(3) ➞ 23.4<br>"
   ]
  },
  {
   "cell_type": "code",
   "execution_count": 27,
   "id": "76deb090",
   "metadata": {},
   "outputs": [],
   "source": [
    "def area_of_hexagon(side):\n",
    "    area = (3*(side**2)*(3**0.5))/2\n",
    "    return round(area,1)"
   ]
  },
  {
   "cell_type": "code",
   "execution_count": 28,
   "id": "49fbaf91",
   "metadata": {},
   "outputs": [
    {
     "data": {
      "text/plain": [
       "23.4"
      ]
     },
     "execution_count": 28,
     "metadata": {},
     "output_type": "execute_result"
    }
   ],
   "source": [
    "area_of_hexagon(3)"
   ]
  },
  {
   "cell_type": "code",
   "execution_count": 29,
   "id": "ad16a307",
   "metadata": {},
   "outputs": [
    {
     "data": {
      "text/plain": [
       "10.4"
      ]
     },
     "execution_count": 29,
     "metadata": {},
     "output_type": "execute_result"
    }
   ],
   "source": [
    "area_of_hexagon(2)"
   ]
  },
  {
   "cell_type": "markdown",
   "id": "e2bd9d52",
   "metadata": {},
   "source": [
    "### Question 5.<br>Create a function that returns a base-2 (binary) representation of a base-10 (decimal) string number.\n",
    "__To convert is simple: ((2) means base-2 and (10) means base-10) <br>\n",
    "010101001(2) = 1 + 8 + 32 + 128.<br><br>Going from right to left, the value of the most right bit is 1, now from that every bit to the left will be x2 the value, value of an 8 bit binary numbers are (256, 128, 64, 32, 16, 8, 4, 2, 1).__\n",
    "\n",
    "Examples:<br>\n",
    "binary(1) ➞ &quot;1&quot;<br>\n",
    "#1*1 = 1<br>\n",
    "binary(5) ➞ &quot;101&quot;<br>\n",
    "#1*1 + 1*4 = 5<br>\n",
    "binary(10) ➞ &quot;1010&quot;<br>\n",
    "#1*2 + 1*8 = 10<br>"
   ]
  },
  {
   "cell_type": "code",
   "execution_count": 40,
   "id": "26542e1e",
   "metadata": {},
   "outputs": [],
   "source": [
    "def binary(num):\n",
    "    output = ''\n",
    "    while not (num//2==1):\n",
    "        rem = num%2\n",
    "        output += str(rem)\n",
    "        num = num//2\n",
    "    output += str(num%2)\n",
    "    output += str(num//2)\n",
    "    return output[::-1]"
   ]
  },
  {
   "cell_type": "code",
   "execution_count": 45,
   "id": "93ec160e",
   "metadata": {},
   "outputs": [
    {
     "data": {
      "text/plain": [
       "'10001'"
      ]
     },
     "execution_count": 45,
     "metadata": {},
     "output_type": "execute_result"
    }
   ],
   "source": [
    "binary(17)"
   ]
  },
  {
   "cell_type": "code",
   "execution_count": 46,
   "id": "cea9a7d3",
   "metadata": {},
   "outputs": [
    {
     "data": {
      "text/plain": [
       "'1010'"
      ]
     },
     "execution_count": 46,
     "metadata": {},
     "output_type": "execute_result"
    }
   ],
   "source": [
    "binary(10)"
   ]
  },
  {
   "cell_type": "code",
   "execution_count": 47,
   "id": "92e9b54e",
   "metadata": {},
   "outputs": [
    {
     "data": {
      "text/plain": [
       "'101'"
      ]
     },
     "execution_count": 47,
     "metadata": {},
     "output_type": "execute_result"
    }
   ],
   "source": [
    "binary(5)"
   ]
  }
 ],
 "metadata": {
  "kernelspec": {
   "display_name": "Python 3 (ipykernel)",
   "language": "python",
   "name": "python3"
  },
  "language_info": {
   "codemirror_mode": {
    "name": "ipython",
    "version": 3
   },
   "file_extension": ".py",
   "mimetype": "text/x-python",
   "name": "python",
   "nbconvert_exporter": "python",
   "pygments_lexer": "ipython3",
   "version": "3.10.6"
  }
 },
 "nbformat": 4,
 "nbformat_minor": 5
}
