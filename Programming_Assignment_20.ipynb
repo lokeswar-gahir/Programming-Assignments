{
 "cells": [
  {
   "cell_type": "raw",
   "id": "4de876dd",
   "metadata": {},
   "source": [
    "Question1\n",
    "Create a function that takes a list of strings and integers, and filters out the list so that it\n",
    "returns a list of integers only.\n",
    "Examples\n",
    "filter_list([1, 2, 3, &quot;a&quot;, &quot;b&quot;, 4]) ➞ [1, 2, 3, 4]\n",
    "filter_list([&quot;A&quot;, 0, &quot;Edabit&quot;, 1729, &quot;Python&quot;, &quot;1729&quot;]) ➞ [0, 1729]\n",
    "filter_list([&quot;Nothing&quot;, &quot;here&quot;]) ➞ []\n",
    "\n",
    "Question2\n",
    "Given a list of numbers, create a function which returns the list but with each element&#39;s\n",
    "index in the list added to itself. This means you add 0 to the number at index 0, add 1 to the\n",
    "number at index 1, etc...\n",
    "Examples\n",
    "add_indexes([0, 0, 0, 0, 0]) ➞ [0, 1, 2, 3, 4]\n",
    "add_indexes([1, 2, 3, 4, 5]) ➞ [1, 3, 5, 7, 9]\n",
    "add_indexes([5, 4, 3, 2, 1]) ➞ [5, 5, 5, 5, 5]\n",
    "\n",
    "Question3\n",
    "Create a function that takes the height and radius of a cone as arguments and returns the\n",
    "volume of the cone rounded to the nearest hundredth. See the resources tab for the formula.\n",
    "\n",
    "Examples\n",
    "cone_volume(3, 2) ➞ 12.57\n",
    "\n",
    "cone_volume(15, 6) ➞ 565.49\n",
    "cone_volume(18, 0) ➞ 0\n",
    "\n",
    "Question4\n",
    "This Triangular Number Sequence is generated from a pattern of dots that form a triangle.\n",
    "The first 5 numbers of the sequence, or dots, are:\n",
    "1, 3, 6, 10, 15\n",
    "This means that the first triangle has just one dot, the second one has three dots, the third one\n",
    "has 6 dots and so on.\n",
    "Write a function that gives the number of dots with its corresponding triangle number of the\n",
    "sequence.\n",
    "Examples\n",
    "triangle(1) ➞ 1\n",
    "triangle(6) ➞ 21\n",
    "triangle(215) ➞ 23220\n",
    "\n",
    "Question5\n",
    "Create a function that takes a list of numbers between 1 and 10 (excluding one number) and\n",
    "returns the missing number.\n",
    "Examples\n",
    "missing_num([1, 2, 3, 4, 6, 7, 8, 9, 10]) ➞ 5\n",
    "missing_num([7, 2, 3, 6, 5, 9, 1, 4, 8]) ➞ 10\n",
    "missing_num([10, 5, 1, 2, 4, 6, 8, 3, 9]) ➞ 7"
   ]
  },
  {
   "cell_type": "markdown",
   "id": "20cb56df",
   "metadata": {},
   "source": [
    "### Question1<br>Create a function that takes a list of strings and integers, and filters out the list so that it returns a list of integers only.\n",
    "Examples<br>\n",
    "filter_list([1, 2, 3, &quot;a&quot;, &quot;b&quot;, 4]) ➞ [1, 2, 3, 4]<br>\n",
    "filter_list([&quot;A&quot;, 0, &quot;Edabit&quot;, 1729, &quot;Python&quot;, &quot;1729&quot;]) ➞ [0, 1729]<br>\n",
    "filter_list([&quot;Nothing&quot;, &quot;here&quot;]) ➞ []"
   ]
  },
  {
   "cell_type": "code",
   "execution_count": 1,
   "id": "6b43b6cc",
   "metadata": {},
   "outputs": [],
   "source": [
    "def filter_list(lst):\n",
    "    result = []\n",
    "    for item in lst:\n",
    "        if type(item) == int:\n",
    "            result.append(item)\n",
    "    return result"
   ]
  },
  {
   "cell_type": "code",
   "execution_count": 2,
   "id": "fb09dffa",
   "metadata": {},
   "outputs": [
    {
     "data": {
      "text/plain": [
       "[1, 2, 3, 4]"
      ]
     },
     "execution_count": 2,
     "metadata": {},
     "output_type": "execute_result"
    }
   ],
   "source": [
    "filter_list([1, 2, 3, \"a\", \"b\", 4])"
   ]
  },
  {
   "cell_type": "code",
   "execution_count": 3,
   "id": "cbfbb410",
   "metadata": {},
   "outputs": [
    {
     "data": {
      "text/plain": [
       "[0, 1729]"
      ]
     },
     "execution_count": 3,
     "metadata": {},
     "output_type": "execute_result"
    }
   ],
   "source": [
    "filter_list([\"A\", 0, \"Edabit\", 1729, \"Python\", \"1729\"])"
   ]
  },
  {
   "cell_type": "code",
   "execution_count": 4,
   "id": "6410fd2d",
   "metadata": {},
   "outputs": [
    {
     "data": {
      "text/plain": [
       "[]"
      ]
     },
     "execution_count": 4,
     "metadata": {},
     "output_type": "execute_result"
    }
   ],
   "source": [
    "filter_list([\"Nothing\", \"here\"])"
   ]
  },
  {
   "cell_type": "markdown",
   "id": "180aee06",
   "metadata": {},
   "source": [
    "### Question2<br>Given a list of numbers, create a function which returns the list but with each element&#39;s index in the list added to itself. This means you add 0 to the number at index 0, add 1 to the number at index 1, etc...\n",
    "Examples<br>\n",
    "add_indexes([0, 0, 0, 0, 0]) ➞ [0, 1, 2, 3, 4]<br>\n",
    "add_indexes([1, 2, 3, 4, 5]) ➞ [1, 3, 5, 7, 9]<br>\n",
    "add_indexes([5, 4, 3, 2, 1]) ➞ [5, 5, 5, 5, 5]<br>"
   ]
  },
  {
   "cell_type": "code",
   "execution_count": 7,
   "id": "91b1b068",
   "metadata": {},
   "outputs": [],
   "source": [
    "def add_indexes(lst):\n",
    "    result = []\n",
    "    for i,item in enumerate(lst):\n",
    "        result.append(item+i)\n",
    "    return result"
   ]
  },
  {
   "cell_type": "code",
   "execution_count": 8,
   "id": "f2ff022c",
   "metadata": {},
   "outputs": [
    {
     "data": {
      "text/plain": [
       "[0, 1, 2, 3, 4]"
      ]
     },
     "execution_count": 8,
     "metadata": {},
     "output_type": "execute_result"
    }
   ],
   "source": [
    "add_indexes([0, 0, 0, 0, 0])"
   ]
  },
  {
   "cell_type": "code",
   "execution_count": 9,
   "id": "e01efc22",
   "metadata": {},
   "outputs": [
    {
     "data": {
      "text/plain": [
       "[1, 3, 5, 7, 9]"
      ]
     },
     "execution_count": 9,
     "metadata": {},
     "output_type": "execute_result"
    }
   ],
   "source": [
    "add_indexes([1, 2, 3, 4, 5])"
   ]
  },
  {
   "cell_type": "code",
   "execution_count": 10,
   "id": "00523033",
   "metadata": {},
   "outputs": [
    {
     "data": {
      "text/plain": [
       "[5, 5, 5, 5, 5]"
      ]
     },
     "execution_count": 10,
     "metadata": {},
     "output_type": "execute_result"
    }
   ],
   "source": [
    "add_indexes([5, 4, 3, 2, 1])"
   ]
  },
  {
   "cell_type": "markdown",
   "id": "777c49aa",
   "metadata": {},
   "source": [
    "### Question3<br>Create a function that takes the height and radius of a cone as arguments and returns the volume of the cone rounded to the nearest hundredth. See the resources tab for the formula.\n",
    "\n",
    "Examples<br>\n",
    "cone_volume(3, 2) ➞ 12.57<br>\n",
    "\n",
    "cone_volume(15, 6) ➞ 565.49<br>\n",
    "cone_volume(18, 0) ➞ 0<br>"
   ]
  },
  {
   "cell_type": "code",
   "execution_count": null,
   "id": "cdffa2c1",
   "metadata": {},
   "outputs": [],
   "source": [
    " (1/3) * π * r² * h"
   ]
  },
  {
   "cell_type": "code",
   "execution_count": 13,
   "id": "c30327a1",
   "metadata": {},
   "outputs": [],
   "source": [
    "def cone_volume(h,r):\n",
    "    import math\n",
    "    area = (1/3)*math.pi*(r**2)*h\n",
    "    return round(area,2)"
   ]
  },
  {
   "cell_type": "code",
   "execution_count": 15,
   "id": "3b47ae02",
   "metadata": {},
   "outputs": [
    {
     "data": {
      "text/plain": [
       "565.49"
      ]
     },
     "execution_count": 15,
     "metadata": {},
     "output_type": "execute_result"
    }
   ],
   "source": [
    "cone_volume(15, 6)"
   ]
  },
  {
   "cell_type": "code",
   "execution_count": 16,
   "id": "ed5f83cf",
   "metadata": {},
   "outputs": [
    {
     "data": {
      "text/plain": [
       "12.57"
      ]
     },
     "execution_count": 16,
     "metadata": {},
     "output_type": "execute_result"
    }
   ],
   "source": [
    "cone_volume(3, 2)"
   ]
  },
  {
   "cell_type": "code",
   "execution_count": 17,
   "id": "1fa991da",
   "metadata": {},
   "outputs": [
    {
     "data": {
      "text/plain": [
       "0.0"
      ]
     },
     "execution_count": 17,
     "metadata": {},
     "output_type": "execute_result"
    }
   ],
   "source": [
    "cone_volume(18, 0)"
   ]
  },
  {
   "cell_type": "markdown",
   "id": "d7e6905e",
   "metadata": {},
   "source": [
    "### Question4\n",
    "__This Triangular Number Sequence is generated from a pattern of dots that form a triangle.<br>\n",
    "The first 5 numbers of the sequence, or dots, are:<br>\n",
    "1, 3, 6, 10, 15<br>\n",
    "This means that the first triangle has just one dot, the second one has three dots, the third one has 6 dots and so on.__\n",
    "### Write a function that gives the number of dots with its corresponding triangle number of the sequence.\n",
    "Examples<br>\n",
    "triangle(1) ➞ 1<br>\n",
    "triangle(6) ➞ 21<br>\n",
    "triangle(215) ➞ 23220"
   ]
  },
  {
   "cell_type": "code",
   "execution_count": 21,
   "id": "791f1448",
   "metadata": {},
   "outputs": [],
   "source": [
    "def triangle(n):\n",
    "    return (n*(n+1))/2"
   ]
  },
  {
   "cell_type": "code",
   "execution_count": 22,
   "id": "2105c497",
   "metadata": {},
   "outputs": [
    {
     "name": "stdout",
     "output_type": "stream",
     "text": [
      "1.0\n",
      "21.0\n",
      "23220.0\n"
     ]
    }
   ],
   "source": [
    "print(triangle(1))\n",
    "print(triangle(6))\n",
    "print(triangle(215))"
   ]
  },
  {
   "cell_type": "markdown",
   "id": "c419ef15",
   "metadata": {},
   "source": [
    "### Question5<br>Create a function that takes a list of numbers between 1 and 10 (excluding one number) and returns the missing number.\n",
    "Examples<br>\n",
    "missing_num([1, 2, 3, 4, 6, 7, 8, 9, 10]) ➞ 5<br>\n",
    "missing_num([7, 2, 3, 6, 5, 9, 1, 4, 8]) ➞ 10<br>\n",
    "missing_num([10, 5, 1, 2, 4, 6, 8, 3, 9]) ➞ 7<br>"
   ]
  },
  {
   "cell_type": "code",
   "execution_count": 30,
   "id": "b1c53d0f",
   "metadata": {},
   "outputs": [],
   "source": [
    "def missing_num(lst):\n",
    "    for i in range(10):\n",
    "        if i+1 not in lst:\n",
    "            return i+1"
   ]
  },
  {
   "cell_type": "code",
   "execution_count": 31,
   "id": "1c5bca79",
   "metadata": {},
   "outputs": [
    {
     "data": {
      "text/plain": [
       "5"
      ]
     },
     "execution_count": 31,
     "metadata": {},
     "output_type": "execute_result"
    }
   ],
   "source": [
    "missing_num([1, 2, 3, 4, 6, 7, 8, 9, 10]) "
   ]
  },
  {
   "cell_type": "code",
   "execution_count": 32,
   "id": "3017b317",
   "metadata": {},
   "outputs": [
    {
     "data": {
      "text/plain": [
       "10"
      ]
     },
     "execution_count": 32,
     "metadata": {},
     "output_type": "execute_result"
    }
   ],
   "source": [
    "missing_num([7, 2, 3, 6, 5, 9, 1, 4, 8])"
   ]
  },
  {
   "cell_type": "code",
   "execution_count": 33,
   "id": "e65b02dd",
   "metadata": {},
   "outputs": [
    {
     "data": {
      "text/plain": [
       "7"
      ]
     },
     "execution_count": 33,
     "metadata": {},
     "output_type": "execute_result"
    }
   ],
   "source": [
    "missing_num([10, 5, 1, 2, 4, 6, 8, 3, 9])"
   ]
  }
 ],
 "metadata": {
  "kernelspec": {
   "display_name": "Python 3 (ipykernel)",
   "language": "python",
   "name": "python3"
  },
  "language_info": {
   "codemirror_mode": {
    "name": "ipython",
    "version": 3
   },
   "file_extension": ".py",
   "mimetype": "text/x-python",
   "name": "python",
   "nbconvert_exporter": "python",
   "pygments_lexer": "ipython3",
   "version": "3.10.6"
  }
 },
 "nbformat": 4,
 "nbformat_minor": 5
}
