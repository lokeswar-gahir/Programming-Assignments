{
 "cells": [
  {
   "cell_type": "markdown",
   "id": "0ccf4c6a",
   "metadata": {},
   "source": [
    "### Question1. Create a function that takes three arguments a, b, c and returns the sum of the numbers that are evenly divided by c from the range a, b inclusive.\n",
    "Examples:<br>\n",
    "evenly_divisible(1, 10, 20) ➞ 0<br>\n",
    "\\# No number between 1 and 10 can be evenly divided by 20.<br>\n",
    "evenly_divisible(1, 10, 2) ➞ 30<br>\n",
    "\\# 2 + 4 + 6 + 8 + 10 = 30<br>\n",
    "evenly_divisible(1, 10, 3) ➞ 18<br>\n",
    "\\# 3 + 6 + 9 = 18"
   ]
  },
  {
   "cell_type": "code",
   "execution_count": 4,
   "id": "70c111c5",
   "metadata": {},
   "outputs": [],
   "source": [
    "def evenly_divisible(a,b,c):\n",
    "    divisibles =[0]\n",
    "    for i in range(a,b+1):\n",
    "        if i%c == 0:\n",
    "            divisibles.append(i)\n",
    "    return sum(divisibles)"
   ]
  },
  {
   "cell_type": "code",
   "execution_count": 3,
   "id": "7a10beae",
   "metadata": {},
   "outputs": [
    {
     "data": {
      "text/plain": [
       "18"
      ]
     },
     "execution_count": 3,
     "metadata": {},
     "output_type": "execute_result"
    }
   ],
   "source": [
    "evenly_divisible(1, 10, 3) "
   ]
  },
  {
   "cell_type": "code",
   "execution_count": 7,
   "id": "7cb8101d",
   "metadata": {},
   "outputs": [
    {
     "data": {
      "text/plain": [
       "0"
      ]
     },
     "execution_count": 7,
     "metadata": {},
     "output_type": "execute_result"
    }
   ],
   "source": [
    "evenly_divisible(1, 10, 20)"
   ]
  },
  {
   "cell_type": "code",
   "execution_count": 8,
   "id": "11ed515c",
   "metadata": {},
   "outputs": [
    {
     "data": {
      "text/plain": [
       "30"
      ]
     },
     "execution_count": 8,
     "metadata": {},
     "output_type": "execute_result"
    }
   ],
   "source": [
    "evenly_divisible(1, 10, 2)"
   ]
  },
  {
   "cell_type": "markdown",
   "id": "72648aa5",
   "metadata": {},
   "source": [
    "### Question2. Create a function that returns True if a given inequality expression is correct and False otherwise.\n",
    "Examples:<br>\n",
    "correct_signs(&quot;3 &lt; 7 &lt; 11&quot;) ➞ True<br>\n",
    "correct_signs(&quot;13 &gt; 44 &gt; 33 &gt; 1&quot;) ➞ False<br>\n",
    "correct_signs(&quot;1 &lt; 2 &lt; 6 &lt; 9 &gt; 3&quot;) ➞ True<br>"
   ]
  },
  {
   "cell_type": "code",
   "execution_count": 17,
   "id": "aa876e91",
   "metadata": {},
   "outputs": [],
   "source": [
    "def correct_signs(string):\n",
    "    return eval(string)"
   ]
  },
  {
   "cell_type": "code",
   "execution_count": 19,
   "id": "e1b86efd",
   "metadata": {},
   "outputs": [
    {
     "data": {
      "text/plain": [
       "True"
      ]
     },
     "execution_count": 19,
     "metadata": {},
     "output_type": "execute_result"
    }
   ],
   "source": [
    "correct_signs(\"1 < 2 < 6 < 9 > 3\")"
   ]
  },
  {
   "cell_type": "code",
   "execution_count": 20,
   "id": "c220c815",
   "metadata": {},
   "outputs": [
    {
     "data": {
      "text/plain": [
       "False"
      ]
     },
     "execution_count": 20,
     "metadata": {},
     "output_type": "execute_result"
    }
   ],
   "source": [
    "correct_signs(\"13 > 44 > 33 > 1\")"
   ]
  },
  {
   "cell_type": "markdown",
   "id": "0b276970",
   "metadata": {},
   "source": [
    "### Question3. Create a function that replaces all the vowels in a string with a specified character.\n",
    "Examples:<br>\n",
    "replace_vowels(&quot;the aardvark&quot;, &quot;#&quot;) ➞ &quot;th# ##rdv#rk&quot;<br>\n",
    "replace_vowels(&quot;minnie mouse&quot;, &quot;?&quot;) ➞ &quot;m?nn?? m??s?&quot;<br>\n",
    "replace_vowels(&quot;shakespeare&quot;, &quot;\\*&quot;) ➞ &quot;sh\\*k\\*sp\\*\\*r*&quot;"
   ]
  },
  {
   "cell_type": "code",
   "execution_count": 32,
   "id": "485da923",
   "metadata": {},
   "outputs": [],
   "source": [
    "def replace_vowels(string,char):\n",
    "    vowels = \"aeiou\"\n",
    "    for c in set(string):\n",
    "        if c.lower() in vowels:\n",
    "            string = string.replace(c,char)\n",
    "    return string"
   ]
  },
  {
   "cell_type": "code",
   "execution_count": 33,
   "id": "790c0db3",
   "metadata": {},
   "outputs": [
    {
     "data": {
      "text/plain": [
       "'th# ##rdv#rk'"
      ]
     },
     "execution_count": 33,
     "metadata": {},
     "output_type": "execute_result"
    }
   ],
   "source": [
    "replace_vowels(\"the aardvark\", \"#\")"
   ]
  },
  {
   "cell_type": "code",
   "execution_count": 34,
   "id": "d35e0701",
   "metadata": {},
   "outputs": [
    {
     "data": {
      "text/plain": [
       "'m?nn?? m??s?'"
      ]
     },
     "execution_count": 34,
     "metadata": {},
     "output_type": "execute_result"
    }
   ],
   "source": [
    "replace_vowels(\"minnie mouse\", \"?\")"
   ]
  },
  {
   "cell_type": "code",
   "execution_count": 36,
   "id": "97e3f775",
   "metadata": {},
   "outputs": [
    {
     "data": {
      "text/plain": [
       "'P**c* *s * c*nc*pt *f s*c**t*l fr**ndsh*p *nd h*rm*ny *n th* *bs*nc* *f h*st*l*ty *nd v**l*nc*. *n * s*c**l s*ns*, p**c* *s c*mm*nly *s*d t* m**n * l*ck *f c*nfl*ct (s*ch *s w*r) *nd fr**d*m fr*m f**r *f v**l*nc* b*tw**n *nd*v*d**ls *r gr**ps.'"
      ]
     },
     "execution_count": 36,
     "metadata": {},
     "output_type": "execute_result"
    }
   ],
   "source": [
    "s3 = \"Peace is a concept of societal friendship and harmony in the absence of hostility and violence. In a social sense, peace is commonly used to mean a lack of conflict (such as war) and freedom from fear of violence between individuals or groups.\"\n",
    "replace_vowels(s3,\"*\")"
   ]
  },
  {
   "cell_type": "markdown",
   "id": "8e51ad2e",
   "metadata": {},
   "source": [
    "### Question4. Write a function that calculates the factorial of a number recursively.\n",
    "Examples:<br>\n",
    "factorial(5) ➞ 120<br>\n",
    "factorial(3) ➞ 6<br>\n",
    "factorial(1) ➞ 1<br>\n",
    "factorial(0) ➞ 1<br>"
   ]
  },
  {
   "cell_type": "code",
   "execution_count": 37,
   "id": "c45ea9c2",
   "metadata": {},
   "outputs": [],
   "source": [
    "def factorial(n):\n",
    "    if n == 0 or n == 1:\n",
    "        return 1\n",
    "    else:\n",
    "        return n*factorial(n-1)"
   ]
  },
  {
   "cell_type": "code",
   "execution_count": 38,
   "id": "dd666f2f",
   "metadata": {},
   "outputs": [
    {
     "data": {
      "text/plain": [
       "120"
      ]
     },
     "execution_count": 38,
     "metadata": {},
     "output_type": "execute_result"
    }
   ],
   "source": [
    "factorial(5)"
   ]
  },
  {
   "cell_type": "code",
   "execution_count": 39,
   "id": "80a3e9d2",
   "metadata": {},
   "outputs": [
    {
     "data": {
      "text/plain": [
       "720"
      ]
     },
     "execution_count": 39,
     "metadata": {},
     "output_type": "execute_result"
    }
   ],
   "source": [
    "factorial(6)"
   ]
  },
  {
   "cell_type": "markdown",
   "id": "ed7a06a7",
   "metadata": {},
   "source": [
    "### Question 5:<br>\n",
    "__Hamming distance is the number of characters that differ between two strings.\n",
    "To illustrate:<br>\n",
    "String1: &quot;abcbba&quot;<br>\n",
    "String2: &quot;abcbda&quot;<br>\n",
    "Hamming Distance: 1 - &quot;b&quot; vs. &quot;d&quot; is the only difference.__<br>\n",
    "### Create a function that computes the hamming distance between two strings.<br>\n",
    "Examples:<br>\n",
    "hamming_distance(&quot;abcde&quot;, &quot;bcdef&quot;) ➞ 5<br>\n",
    "hamming_distance(&quot;abcde&quot;, &quot;abcde&quot;) ➞ 0<br>\n",
    "hamming_distance(&quot;strong&quot;, &quot;strung&quot;) ➞ 1"
   ]
  },
  {
   "cell_type": "code",
   "execution_count": 40,
   "id": "d33236b1",
   "metadata": {},
   "outputs": [],
   "source": [
    "def hamming_distance(s1,s2):\n",
    "    if len(s1)=len(s2):\n",
    "        differ = 0\n",
    "        for i in range(len(s1)):\n",
    "            if s1[i] != s2[i]:\n",
    "                differ += 1\n",
    "    else:\n",
    "        print(f\"Strings are not having same length.\")\n",
    "    return differ"
   ]
  },
  {
   "cell_type": "code",
   "execution_count": 41,
   "id": "f1179a31",
   "metadata": {},
   "outputs": [
    {
     "data": {
      "text/plain": [
       "5"
      ]
     },
     "execution_count": 41,
     "metadata": {},
     "output_type": "execute_result"
    }
   ],
   "source": [
    "hamming_distance(\"abcde\", \"bcdef\")"
   ]
  },
  {
   "cell_type": "code",
   "execution_count": 42,
   "id": "630fa5e9",
   "metadata": {},
   "outputs": [
    {
     "data": {
      "text/plain": [
       "0"
      ]
     },
     "execution_count": 42,
     "metadata": {},
     "output_type": "execute_result"
    }
   ],
   "source": [
    "hamming_distance(\"abcde\", \"abcde\")"
   ]
  }
 ],
 "metadata": {
  "kernelspec": {
   "display_name": "Python 3 (ipykernel)",
   "language": "python",
   "name": "python3"
  },
  "language_info": {
   "codemirror_mode": {
    "name": "ipython",
    "version": 3
   },
   "file_extension": ".py",
   "mimetype": "text/x-python",
   "name": "python",
   "nbconvert_exporter": "python",
   "pygments_lexer": "ipython3",
   "version": "3.10.6"
  }
 },
 "nbformat": 4,
 "nbformat_minor": 5
}
